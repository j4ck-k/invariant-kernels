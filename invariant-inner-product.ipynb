{
 "cells": [
  {
   "cell_type": "code",
   "execution_count": 242,
   "metadata": {},
   "outputs": [],
   "source": [
    "from sage.all import *\n",
    "import numpy as np\n",
    "from numpy.linalg import inv\n",
    "from scipy.sparse import block_diag\n",
    "from tqdm import tqdm"
   ]
  },
  {
   "cell_type": "code",
   "execution_count": 5,
   "metadata": {},
   "outputs": [],
   "source": [
    "def L(r):\n",
    "\n",
    "    r = np.roll(r, -1)\n",
    "    r[-1] = 0\n",
    "    return r.astype(int)\n",
    "\n",
    "def binomials(r, s):\n",
    "    return prod([binomial(int(r[i]), int(s[i])) for i in range(r.shape[0])])\n",
    "\n",
    "def red(r, s):\n",
    "    return (r - s + L(s)).astype(int)\n",
    "\n",
    "def gale_ryser(p, q):\n",
    "\n",
    "    if np.sum(p) != np.sum(q):\n",
    "        return False\n",
    "    else:\n",
    "\n",
    "        passed = True\n",
    "\n",
    "        q_prime = np.array([np.count_nonzero(q >= i) for i in range(q.shape[0])])\n",
    "        for j in range(q.shape[0]):\n",
    "            if np.sum(q_prime[:j]) < np.sum(p[:j]):\n",
    "                passed = False\n",
    "\n",
    "        return passed\n",
    "    \n",
    "def comps_lessthan(k, s):\n",
    "\n",
    "    n = s.shape[0]\n",
    "    comps = WeightedIntegerVectors(k, np.ones(n))\n",
    "    comps_less = []\n",
    "    for comp in comps:\n",
    "        if np.all(np.less_equal(comp, s)):\n",
    "            comps_less.append(np.array(comp).astype(int))\n",
    "\n",
    "    return comps_less\n",
    "\n",
    "def un_bar(q_bar):\n",
    "\n",
    "    q = np.concatenate(tuple([i+1 * np.ones(q_bar[i]) for i in range(q_bar.shape[0])]))\n",
    "    return np.sort(q)[::-1]\n",
    "\n",
    "def N(p , q):\n",
    "\n",
    "    # print(f'finding number of matrices for p = {p}, q = {q}')\n",
    "\n",
    "    if np.sum(p) != np.sum(q):\n",
    "        return 0\n",
    "    \n",
    "    elif np.sum(p) == 0:\n",
    "        return 1\n",
    "    \n",
    "    else:\n",
    "        n = np.sum(p)\n",
    "\n",
    "        # Check Gale-Ryser Criterion\n",
    "        if gale_ryser(p, q):\n",
    "            # Find vector of counts\n",
    "            q_bar = np.array([np.count_nonzero(q == i) for i in range(1, n+1)]).astype(int)\n",
    "\n",
    "            # Find compositions of p_1 less than or equal to q_bar\n",
    "            comps = comps_lessthan(p[0], q_bar)\n",
    "\n",
    "            num = 0\n",
    "            for comp in comps:\n",
    "                num += binomials(q_bar, comp) * N(L(p), un_bar(red(q_bar, comp)))\n",
    "            return num\n",
    "        \n",
    "        else:\n",
    "            return 0 "
   ]
  },
  {
   "cell_type": "code",
   "execution_count": 41,
   "metadata": {},
   "outputs": [],
   "source": [
    "class InvariantInnerProduct:\n",
    "\n",
    "    def __init__(self, d, n):\n",
    "        self.dimension = d\n",
    "        self.degree = int(n) \n",
    "\n",
    "        self.parts = Partitions(n).list()\n",
    "\n",
    "        if n < 11:\n",
    "            self.C = np.load(f'IP-C-Matrices/C_{n}.npy')\n",
    "\n",
    "        else:\n",
    "            B = inv(self.change_basis())\n",
    "            self.C = B @ self.C_star() @ B\n",
    "\n",
    "    def C_star(self):\n",
    "        rank = len(self.parts)\n",
    "\n",
    "        C = np.zeros((rank, rank))\n",
    "\n",
    "        for i in range(rank):\n",
    "            part  = np.array(self.parts[i])\n",
    "            size = int(np.sum(np.array(part)))\n",
    "\n",
    "            coeff = np.prod([factorial(np.count_nonzero(part == i)) for i in range(size)])/np.prod([factorial(int(part[i])) for i in range(len(part))])\n",
    "            \n",
    "            C[i][i] = coeff\n",
    "\n",
    "        #print('found C*')\n",
    "        return C\n",
    "    \n",
    "    def change_basis(self):\n",
    "\n",
    "        mat = np.zeros((len(self.parts), len(self.parts)))\n",
    "\n",
    "        for i in range(len(self.parts)):\n",
    "            for j in range(len(self.parts)):\n",
    "                v = N(np.array(list(self.parts[i])), np.array(list(self.parts[j])))\n",
    "                mat[i][j] = v\n",
    "                mat[i][j] = v\n",
    "\n",
    "        return mat\n",
    "    \n",
    "\n",
    "    def elementary_symmetric_polynomials(self, x):\n",
    "\n",
    "        mat = np.zeros((self.degree+1, self.dimension+1))\n",
    "\n",
    "        mat[0] = np.ones(self.dimension+1)\n",
    "        \n",
    "        for i in range(self.degree):\n",
    "            #print(f'row {i}')\n",
    "            for j in range(i, self.dimension):\n",
    "                mat[i+1][j+1] = x[j]*mat[i][j] + mat[i+1][j]\n",
    "\n",
    "        return mat[:, self.dimension]\n",
    "    \n",
    "    def evaluate(self, x, y):\n",
    "\n",
    "        esp_x = self.elementary_symmetric_polynomials(x)\n",
    "        esp_y = self.elementary_symmetric_polynomials(y)\n",
    "\n",
    "        #print('ESP Computed')\n",
    "\n",
    "        basis_x = []\n",
    "        basis_y = []\n",
    "\n",
    "        for i in range(len(self.parts)):\n",
    "            part = self.parts[i]\n",
    "            basis_x.append(np.prod([esp_x[p] for p in part]))\n",
    "            basis_y.append([np.prod([esp_y[p] for p in part])])\n",
    "\n",
    "        return (np.array(basis_y).T @ self.C @ np.array(basis_x))[0]"
   ]
  },
  {
   "cell_type": "code",
   "execution_count": 42,
   "metadata": {},
   "outputs": [],
   "source": [
    "ip = InvariantInnerProduct(20, 0)\n",
    "np.save('IP-C-Matrices/C_0', ip.C)"
   ]
  },
  {
   "cell_type": "code",
   "execution_count": 43,
   "metadata": {},
   "outputs": [
    {
     "data": {
      "text/plain": [
       "1.0"
      ]
     },
     "execution_count": 43,
     "metadata": {},
     "output_type": "execute_result"
    }
   ],
   "source": [
    "ip.evaluate(np.ones(20), 2*np.ones(20))"
   ]
  },
  {
   "cell_type": "code",
   "execution_count": 44,
   "metadata": {},
   "outputs": [
    {
     "data": {
      "text/plain": [
       "[[0, 0, 10.0],\n",
       " [0, 1.0, 9.0],\n",
       " [1.0, 0.0, 9.0],\n",
       " [0, 2.0, 8.0],\n",
       " [1.0, 1.0, 8.0],\n",
       " [2.0, 0.0, 8.0],\n",
       " [0, 3.0, 7.0],\n",
       " [1.0, 2.0, 7.0],\n",
       " [2.0, 1.0, 7.0],\n",
       " [3.0, 0.0, 7.0],\n",
       " [0, 4.0, 6.0],\n",
       " [1.0, 3.0, 6.0],\n",
       " [2.0, 2.0, 6.0],\n",
       " [3.0, 1.0, 6.0],\n",
       " [4.0, 0.0, 6.0],\n",
       " [0, 5.0, 5.0],\n",
       " [1.0, 4.0, 5.0],\n",
       " [2.0, 3.0, 5.0],\n",
       " [3.0, 2.0, 5.0],\n",
       " [4.0, 1.0, 5.0],\n",
       " [5.0, 0.0, 5.0],\n",
       " [0, 6.0, 4.0],\n",
       " [1.0, 5.0, 4.0],\n",
       " [2.0, 4.0, 4.0],\n",
       " [3.0, 3.0, 4.0],\n",
       " [4.0, 2.0, 4.0],\n",
       " [5.0, 1.0, 4.0],\n",
       " [6.0, 0.0, 4.0],\n",
       " [0, 7.0, 3.0],\n",
       " [1.0, 6.0, 3.0],\n",
       " [2.0, 5.0, 3.0],\n",
       " [3.0, 4.0, 3.0],\n",
       " [4.0, 3.0, 3.0],\n",
       " [5.0, 2.0, 3.0],\n",
       " [6.0, 1.0, 3.0],\n",
       " [7.0, 0.0, 3.0],\n",
       " [0, 8.0, 2.0],\n",
       " [1.0, 7.0, 2.0],\n",
       " [2.0, 6.0, 2.0],\n",
       " [3.0, 5.0, 2.0],\n",
       " [4.0, 4.0, 2.0],\n",
       " [5.0, 3.0, 2.0],\n",
       " [6.0, 2.0, 2.0],\n",
       " [7.0, 1.0, 2.0],\n",
       " [8.0, 0.0, 2.0],\n",
       " [0, 9.0, 1.0],\n",
       " [1.0, 8.0, 1.0],\n",
       " [2.0, 7.0, 1.0],\n",
       " [3.0, 6.0, 1.0],\n",
       " [4.0, 5.0, 1.0],\n",
       " [5.0, 4.0, 1.0],\n",
       " [6.0, 3.0, 1.0],\n",
       " [7.0, 2.0, 1.0],\n",
       " [8.0, 1.0, 1.0],\n",
       " [9.0, 0.0, 1.0],\n",
       " [0, 10.0, 0.0],\n",
       " [1.0, 9.0, 0.0],\n",
       " [2.0, 8.0, 0.0],\n",
       " [3.0, 7.0, 0.0],\n",
       " [4.0, 6.0, 0.0],\n",
       " [5.0, 5.0, 0.0],\n",
       " [6.0, 4.0, 0.0],\n",
       " [7.0, 3.0, 0.0],\n",
       " [8.0, 2.0, 0.0],\n",
       " [9.0, 1.0, 0.0],\n",
       " [10.0, 0.0, 0.0]]"
      ]
     },
     "execution_count": 44,
     "metadata": {},
     "output_type": "execute_result"
    }
   ],
   "source": [
    "WeightedIntegerVectors(10, np.ones(3)).list()"
   ]
  },
  {
   "cell_type": "code",
   "execution_count": 243,
   "metadata": {},
   "outputs": [],
   "source": [
    "class SetInvariantClassification:\n",
    "\n",
    "    def __init__(self, d, k, n):\n",
    "        self.d = d\n",
    "        self.k = k\n",
    "        self.degree = n\n",
    "        \n",
    "        self.comps = []\n",
    "        self.ips = []\n",
    "        for i in range(self.degree + 1):\n",
    "            self.comps.extend(WeightedIntegerVectors(i, np.ones(k)).list())\n",
    "            self.ips.append(InvariantInnerProduct(d, i))\n",
    "\n",
    "    def evaluate(self, x, y):\n",
    "        \n",
    "        val = 0\n",
    "        for i in range(len(self.comps)):\n",
    "            comp = self.comps[i]\n",
    "\n",
    "            inner_products = [self.ips[int(comp[j])].evaluate(x[:, j], y[:, j]) for j in range(self.k)]\n",
    "            val += np.prod(inner_products)/np.prod([factorial(int(c)) for c in comp])\n",
    "            \n",
    "        return val\n",
    "\n",
    "    def matrix(self, X, Y):\n",
    "\n",
    "        mat = np.zeros((X.shape[0], Y.shape[0]))  \n",
    "        for i in tqdm(range(X.shape[0])):\n",
    "            #print(f'Row {i}')\n",
    "            for j in range(Y.shape[0]):\n",
    "            #    print(f'column {j}')\n",
    "                mat[i][j] = self.evaluate(X[i], Y[j])\n",
    "\n",
    "        return mat\n",
    "    \n",
    "    def gram_matrix(self, X):\n",
    "        mat = np.zeros((X.shape[0], X.shape[0]))\n",
    "\n",
    "        for i in tqdm(range(X.shape[0])):\n",
    "            #print(f'Row {i}')\n",
    "            for j in range(i, X.shape[0]):\n",
    "                v = self.evaluate(X[i], X[j])\n",
    "                mat[i][j] = v\n",
    "                mat[j][i] = v\n",
    "\n",
    "        return mat\n",
    "\n",
    "    def predict(self, X):\n",
    "\n",
    "        P = self.matrix(X, self.train_data)\n",
    "\n",
    "        return np.sign(P @ self.alpha)\n",
    "\n",
    "    def train(self, X, y, lam):\n",
    "\n",
    "        N = X.shape[0]\n",
    "        M = self.gram_matrix(X)\n",
    "\n",
    "        alpha = np.linalg.solve(M + lam * np.eye(N), y)\n",
    "\n",
    "        self.alpha = alpha\n",
    "        self.train_data = X\n",
    "        self.train_values = y\n",
    "        self.training_accuracy = 1-np.count_nonzero(y - np.sign(M@alpha))/X.shape[0]\n",
    "    \n",
    "    def accuracy(self, X, y):    \n",
    "        return 1-np.count_nonzero(y - self.predict(X))/X.shape[0]\n",
    "\n",
    "\n",
    "        \n"
   ]
  },
  {
   "cell_type": "code",
   "execution_count": 197,
   "metadata": {},
   "outputs": [],
   "source": [
    "sik = SetInvariantClassification(100, 3, 5)"
   ]
  },
  {
   "cell_type": "markdown",
   "metadata": {},
   "source": [
    "## Point Cloud Data\n",
    "\n",
    "Trying to classify point clouds as either isotropic or anisotropic"
   ]
  },
  {
   "cell_type": "code",
   "execution_count": 202,
   "metadata": {},
   "outputs": [],
   "source": [
    "def point_cloud_data(n_samples, d_points, k):\n",
    "\n",
    "    X = np.zeros((n_samples, d_points, k))\n",
    "    y = 2*np.random.binomial(1, 0.5, n_samples) - 1\n",
    "\n",
    "    for i in range(n_samples):\n",
    "        pc = np.random.randn(d_points, k)\n",
    "\n",
    "        if y[i] == 1:\n",
    "            X[i] = pc\n",
    "        \n",
    "        else:\n",
    "            M = np.random.randn(k, k)\n",
    "            X[i] = pc @ (M@M.T)\n",
    "\n",
    "    \n",
    "    return X, y\n",
    "\n"
   ]
  },
  {
   "cell_type": "code",
   "execution_count": 211,
   "metadata": {},
   "outputs": [],
   "source": [
    "train2d_X, train2d_y= point_cloud_data(1000, 100, 2)\n",
    "test2d_X, test2d_y = point_cloud_data(100, 100, 2)"
   ]
  },
  {
   "cell_type": "code",
   "execution_count": 212,
   "metadata": {},
   "outputs": [],
   "source": [
    "sik_2 = SetInvariantClassification(10, 2, 4)"
   ]
  },
  {
   "cell_type": "code",
   "execution_count": 213,
   "metadata": {},
   "outputs": [
    {
     "name": "stdout",
     "output_type": "stream",
     "text": [
      "Row 0\n",
      "Row 1\n",
      "Row 2\n",
      "Row 3\n",
      "Row 4\n",
      "Row 5\n",
      "Row 6\n",
      "Row 7\n",
      "Row 8\n",
      "Row 9\n",
      "Row 10\n",
      "Row 11\n",
      "Row 12\n",
      "Row 13\n",
      "Row 14\n",
      "Row 15\n",
      "Row 16\n",
      "Row 17\n",
      "Row 18\n",
      "Row 19\n",
      "Row 20\n",
      "Row 21\n",
      "Row 22\n",
      "Row 23\n",
      "Row 24\n",
      "Row 25\n",
      "Row 26\n",
      "Row 27\n",
      "Row 28\n",
      "Row 29\n",
      "Row 30\n",
      "Row 31\n",
      "Row 32\n",
      "Row 33\n",
      "Row 34\n",
      "Row 35\n",
      "Row 36\n",
      "Row 37\n",
      "Row 38\n",
      "Row 39\n",
      "Row 40\n",
      "Row 41\n",
      "Row 42\n",
      "Row 43\n",
      "Row 44\n",
      "Row 45\n",
      "Row 46\n",
      "Row 47\n",
      "Row 48\n",
      "Row 49\n",
      "Row 50\n",
      "Row 51\n",
      "Row 52\n",
      "Row 53\n",
      "Row 54\n",
      "Row 55\n",
      "Row 56\n",
      "Row 57\n",
      "Row 58\n",
      "Row 59\n",
      "Row 60\n",
      "Row 61\n",
      "Row 62\n",
      "Row 63\n",
      "Row 64\n",
      "Row 65\n",
      "Row 66\n",
      "Row 67\n",
      "Row 68\n",
      "Row 69\n",
      "Row 70\n",
      "Row 71\n",
      "Row 72\n",
      "Row 73\n",
      "Row 74\n",
      "Row 75\n",
      "Row 76\n",
      "Row 77\n",
      "Row 78\n",
      "Row 79\n",
      "Row 80\n",
      "Row 81\n",
      "Row 82\n",
      "Row 83\n",
      "Row 84\n",
      "Row 85\n",
      "Row 86\n",
      "Row 87\n",
      "Row 88\n",
      "Row 89\n",
      "Row 90\n",
      "Row 91\n",
      "Row 92\n",
      "Row 93\n",
      "Row 94\n",
      "Row 95\n",
      "Row 96\n",
      "Row 97\n",
      "Row 98\n",
      "Row 99\n",
      "Row 100\n",
      "Row 101\n",
      "Row 102\n",
      "Row 103\n",
      "Row 104\n",
      "Row 105\n",
      "Row 106\n",
      "Row 107\n",
      "Row 108\n",
      "Row 109\n",
      "Row 110\n",
      "Row 111\n",
      "Row 112\n",
      "Row 113\n",
      "Row 114\n",
      "Row 115\n",
      "Row 116\n",
      "Row 117\n",
      "Row 118\n",
      "Row 119\n",
      "Row 120\n",
      "Row 121\n",
      "Row 122\n",
      "Row 123\n",
      "Row 124\n",
      "Row 125\n",
      "Row 126\n",
      "Row 127\n",
      "Row 128\n",
      "Row 129\n",
      "Row 130\n",
      "Row 131\n",
      "Row 132\n",
      "Row 133\n",
      "Row 134\n",
      "Row 135\n",
      "Row 136\n",
      "Row 137\n",
      "Row 138\n",
      "Row 139\n",
      "Row 140\n",
      "Row 141\n",
      "Row 142\n",
      "Row 143\n",
      "Row 144\n",
      "Row 145\n",
      "Row 146\n",
      "Row 147\n",
      "Row 148\n",
      "Row 149\n",
      "Row 150\n",
      "Row 151\n",
      "Row 152\n",
      "Row 153\n",
      "Row 154\n",
      "Row 155\n",
      "Row 156\n",
      "Row 157\n",
      "Row 158\n",
      "Row 159\n",
      "Row 160\n",
      "Row 161\n",
      "Row 162\n",
      "Row 163\n",
      "Row 164\n",
      "Row 165\n",
      "Row 166\n",
      "Row 167\n",
      "Row 168\n",
      "Row 169\n",
      "Row 170\n",
      "Row 171\n",
      "Row 172\n",
      "Row 173\n",
      "Row 174\n",
      "Row 175\n",
      "Row 176\n",
      "Row 177\n",
      "Row 178\n",
      "Row 179\n",
      "Row 180\n",
      "Row 181\n",
      "Row 182\n",
      "Row 183\n",
      "Row 184\n",
      "Row 185\n",
      "Row 186\n",
      "Row 187\n",
      "Row 188\n",
      "Row 189\n",
      "Row 190\n",
      "Row 191\n",
      "Row 192\n",
      "Row 193\n",
      "Row 194\n",
      "Row 195\n",
      "Row 196\n",
      "Row 197\n",
      "Row 198\n",
      "Row 199\n",
      "Row 200\n",
      "Row 201\n",
      "Row 202\n",
      "Row 203\n",
      "Row 204\n",
      "Row 205\n",
      "Row 206\n",
      "Row 207\n",
      "Row 208\n",
      "Row 209\n",
      "Row 210\n",
      "Row 211\n",
      "Row 212\n",
      "Row 213\n",
      "Row 214\n",
      "Row 215\n",
      "Row 216\n",
      "Row 217\n",
      "Row 218\n",
      "Row 219\n",
      "Row 220\n",
      "Row 221\n",
      "Row 222\n",
      "Row 223\n",
      "Row 224\n",
      "Row 225\n",
      "Row 226\n",
      "Row 227\n",
      "Row 228\n",
      "Row 229\n",
      "Row 230\n",
      "Row 231\n",
      "Row 232\n",
      "Row 233\n",
      "Row 234\n",
      "Row 235\n",
      "Row 236\n",
      "Row 237\n",
      "Row 238\n",
      "Row 239\n",
      "Row 240\n",
      "Row 241\n",
      "Row 242\n",
      "Row 243\n",
      "Row 244\n",
      "Row 245\n",
      "Row 246\n",
      "Row 247\n",
      "Row 248\n",
      "Row 249\n",
      "Row 250\n",
      "Row 251\n",
      "Row 252\n",
      "Row 253\n",
      "Row 254\n",
      "Row 255\n",
      "Row 256\n",
      "Row 257\n",
      "Row 258\n",
      "Row 259\n",
      "Row 260\n",
      "Row 261\n",
      "Row 262\n",
      "Row 263\n",
      "Row 264\n",
      "Row 265\n",
      "Row 266\n",
      "Row 267\n",
      "Row 268\n",
      "Row 269\n",
      "Row 270\n",
      "Row 271\n",
      "Row 272\n",
      "Row 273\n",
      "Row 274\n",
      "Row 275\n",
      "Row 276\n",
      "Row 277\n",
      "Row 278\n",
      "Row 279\n",
      "Row 280\n",
      "Row 281\n",
      "Row 282\n",
      "Row 283\n",
      "Row 284\n",
      "Row 285\n",
      "Row 286\n",
      "Row 287\n",
      "Row 288\n",
      "Row 289\n",
      "Row 290\n",
      "Row 291\n",
      "Row 292\n",
      "Row 293\n",
      "Row 294\n",
      "Row 295\n",
      "Row 296\n",
      "Row 297\n",
      "Row 298\n",
      "Row 299\n",
      "Row 300\n",
      "Row 301\n",
      "Row 302\n",
      "Row 303\n",
      "Row 304\n",
      "Row 305\n",
      "Row 306\n",
      "Row 307\n",
      "Row 308\n",
      "Row 309\n",
      "Row 310\n",
      "Row 311\n",
      "Row 312\n",
      "Row 313\n",
      "Row 314\n",
      "Row 315\n",
      "Row 316\n",
      "Row 317\n",
      "Row 318\n",
      "Row 319\n",
      "Row 320\n",
      "Row 321\n",
      "Row 322\n",
      "Row 323\n",
      "Row 324\n",
      "Row 325\n",
      "Row 326\n",
      "Row 327\n",
      "Row 328\n",
      "Row 329\n",
      "Row 330\n",
      "Row 331\n",
      "Row 332\n",
      "Row 333\n",
      "Row 334\n",
      "Row 335\n",
      "Row 336\n",
      "Row 337\n",
      "Row 338\n",
      "Row 339\n",
      "Row 340\n",
      "Row 341\n",
      "Row 342\n",
      "Row 343\n",
      "Row 344\n",
      "Row 345\n",
      "Row 346\n",
      "Row 347\n",
      "Row 348\n",
      "Row 349\n",
      "Row 350\n",
      "Row 351\n",
      "Row 352\n",
      "Row 353\n",
      "Row 354\n",
      "Row 355\n",
      "Row 356\n",
      "Row 357\n",
      "Row 358\n",
      "Row 359\n",
      "Row 360\n",
      "Row 361\n",
      "Row 362\n",
      "Row 363\n",
      "Row 364\n",
      "Row 365\n",
      "Row 366\n",
      "Row 367\n",
      "Row 368\n",
      "Row 369\n",
      "Row 370\n",
      "Row 371\n",
      "Row 372\n",
      "Row 373\n",
      "Row 374\n",
      "Row 375\n",
      "Row 376\n",
      "Row 377\n",
      "Row 378\n",
      "Row 379\n",
      "Row 380\n",
      "Row 381\n",
      "Row 382\n",
      "Row 383\n",
      "Row 384\n",
      "Row 385\n",
      "Row 386\n",
      "Row 387\n",
      "Row 388\n",
      "Row 389\n",
      "Row 390\n",
      "Row 391\n",
      "Row 392\n",
      "Row 393\n",
      "Row 394\n",
      "Row 395\n",
      "Row 396\n",
      "Row 397\n",
      "Row 398\n",
      "Row 399\n",
      "Row 400\n",
      "Row 401\n",
      "Row 402\n",
      "Row 403\n",
      "Row 404\n",
      "Row 405\n",
      "Row 406\n",
      "Row 407\n",
      "Row 408\n",
      "Row 409\n",
      "Row 410\n",
      "Row 411\n",
      "Row 412\n",
      "Row 413\n",
      "Row 414\n",
      "Row 415\n",
      "Row 416\n",
      "Row 417\n",
      "Row 418\n",
      "Row 419\n",
      "Row 420\n",
      "Row 421\n",
      "Row 422\n",
      "Row 423\n",
      "Row 424\n",
      "Row 425\n",
      "Row 426\n",
      "Row 427\n",
      "Row 428\n",
      "Row 429\n",
      "Row 430\n",
      "Row 431\n",
      "Row 432\n",
      "Row 433\n",
      "Row 434\n",
      "Row 435\n",
      "Row 436\n",
      "Row 437\n",
      "Row 438\n",
      "Row 439\n",
      "Row 440\n",
      "Row 441\n",
      "Row 442\n",
      "Row 443\n",
      "Row 444\n",
      "Row 445\n",
      "Row 446\n",
      "Row 447\n",
      "Row 448\n",
      "Row 449\n",
      "Row 450\n",
      "Row 451\n",
      "Row 452\n",
      "Row 453\n",
      "Row 454\n",
      "Row 455\n",
      "Row 456\n",
      "Row 457\n",
      "Row 458\n",
      "Row 459\n",
      "Row 460\n",
      "Row 461\n",
      "Row 462\n",
      "Row 463\n",
      "Row 464\n",
      "Row 465\n",
      "Row 466\n",
      "Row 467\n",
      "Row 468\n",
      "Row 469\n",
      "Row 470\n",
      "Row 471\n",
      "Row 472\n",
      "Row 473\n",
      "Row 474\n",
      "Row 475\n",
      "Row 476\n",
      "Row 477\n",
      "Row 478\n",
      "Row 479\n",
      "Row 480\n",
      "Row 481\n",
      "Row 482\n",
      "Row 483\n",
      "Row 484\n",
      "Row 485\n",
      "Row 486\n",
      "Row 487\n",
      "Row 488\n",
      "Row 489\n",
      "Row 490\n",
      "Row 491\n",
      "Row 492\n",
      "Row 493\n",
      "Row 494\n",
      "Row 495\n",
      "Row 496\n",
      "Row 497\n",
      "Row 498\n",
      "Row 499\n",
      "Row 500\n",
      "Row 501\n",
      "Row 502\n",
      "Row 503\n",
      "Row 504\n",
      "Row 505\n",
      "Row 506\n",
      "Row 507\n",
      "Row 508\n",
      "Row 509\n",
      "Row 510\n",
      "Row 511\n",
      "Row 512\n",
      "Row 513\n",
      "Row 514\n",
      "Row 515\n",
      "Row 516\n",
      "Row 517\n",
      "Row 518\n",
      "Row 519\n",
      "Row 520\n",
      "Row 521\n",
      "Row 522\n",
      "Row 523\n",
      "Row 524\n",
      "Row 525\n",
      "Row 526\n",
      "Row 527\n",
      "Row 528\n",
      "Row 529\n",
      "Row 530\n",
      "Row 531\n",
      "Row 532\n",
      "Row 533\n",
      "Row 534\n",
      "Row 535\n",
      "Row 536\n",
      "Row 537\n",
      "Row 538\n",
      "Row 539\n",
      "Row 540\n",
      "Row 541\n",
      "Row 542\n",
      "Row 543\n",
      "Row 544\n",
      "Row 545\n",
      "Row 546\n",
      "Row 547\n",
      "Row 548\n",
      "Row 549\n",
      "Row 550\n",
      "Row 551\n",
      "Row 552\n",
      "Row 553\n",
      "Row 554\n",
      "Row 555\n",
      "Row 556\n",
      "Row 557\n",
      "Row 558\n",
      "Row 559\n",
      "Row 560\n",
      "Row 561\n",
      "Row 562\n",
      "Row 563\n",
      "Row 564\n",
      "Row 565\n",
      "Row 566\n",
      "Row 567\n",
      "Row 568\n",
      "Row 569\n",
      "Row 570\n",
      "Row 571\n",
      "Row 572\n",
      "Row 573\n",
      "Row 574\n",
      "Row 575\n",
      "Row 576\n",
      "Row 577\n",
      "Row 578\n",
      "Row 579\n",
      "Row 580\n",
      "Row 581\n",
      "Row 582\n",
      "Row 583\n",
      "Row 584\n",
      "Row 585\n",
      "Row 586\n",
      "Row 587\n",
      "Row 588\n",
      "Row 589\n",
      "Row 590\n",
      "Row 591\n",
      "Row 592\n",
      "Row 593\n",
      "Row 594\n",
      "Row 595\n",
      "Row 596\n",
      "Row 597\n",
      "Row 598\n",
      "Row 599\n",
      "Row 600\n",
      "Row 601\n",
      "Row 602\n",
      "Row 603\n",
      "Row 604\n",
      "Row 605\n",
      "Row 606\n",
      "Row 607\n",
      "Row 608\n",
      "Row 609\n",
      "Row 610\n",
      "Row 611\n",
      "Row 612\n",
      "Row 613\n",
      "Row 614\n",
      "Row 615\n",
      "Row 616\n",
      "Row 617\n",
      "Row 618\n",
      "Row 619\n",
      "Row 620\n",
      "Row 621\n",
      "Row 622\n",
      "Row 623\n",
      "Row 624\n",
      "Row 625\n",
      "Row 626\n",
      "Row 627\n",
      "Row 628\n",
      "Row 629\n",
      "Row 630\n",
      "Row 631\n",
      "Row 632\n",
      "Row 633\n",
      "Row 634\n",
      "Row 635\n",
      "Row 636\n",
      "Row 637\n",
      "Row 638\n",
      "Row 639\n",
      "Row 640\n",
      "Row 641\n",
      "Row 642\n",
      "Row 643\n",
      "Row 644\n",
      "Row 645\n",
      "Row 646\n",
      "Row 647\n",
      "Row 648\n",
      "Row 649\n",
      "Row 650\n",
      "Row 651\n",
      "Row 652\n",
      "Row 653\n",
      "Row 654\n",
      "Row 655\n",
      "Row 656\n",
      "Row 657\n",
      "Row 658\n",
      "Row 659\n",
      "Row 660\n",
      "Row 661\n",
      "Row 662\n",
      "Row 663\n",
      "Row 664\n",
      "Row 665\n",
      "Row 666\n",
      "Row 667\n",
      "Row 668\n",
      "Row 669\n",
      "Row 670\n",
      "Row 671\n",
      "Row 672\n",
      "Row 673\n",
      "Row 674\n",
      "Row 675\n",
      "Row 676\n",
      "Row 677\n",
      "Row 678\n",
      "Row 679\n",
      "Row 680\n",
      "Row 681\n",
      "Row 682\n",
      "Row 683\n",
      "Row 684\n",
      "Row 685\n",
      "Row 686\n",
      "Row 687\n",
      "Row 688\n",
      "Row 689\n",
      "Row 690\n",
      "Row 691\n",
      "Row 692\n",
      "Row 693\n",
      "Row 694\n",
      "Row 695\n",
      "Row 696\n",
      "Row 697\n",
      "Row 698\n",
      "Row 699\n",
      "Row 700\n",
      "Row 701\n",
      "Row 702\n",
      "Row 703\n",
      "Row 704\n",
      "Row 705\n",
      "Row 706\n",
      "Row 707\n",
      "Row 708\n",
      "Row 709\n",
      "Row 710\n",
      "Row 711\n",
      "Row 712\n",
      "Row 713\n",
      "Row 714\n",
      "Row 715\n",
      "Row 716\n",
      "Row 717\n",
      "Row 718\n",
      "Row 719\n",
      "Row 720\n",
      "Row 721\n",
      "Row 722\n",
      "Row 723\n",
      "Row 724\n",
      "Row 725\n",
      "Row 726\n",
      "Row 727\n",
      "Row 728\n",
      "Row 729\n",
      "Row 730\n",
      "Row 731\n",
      "Row 732\n",
      "Row 733\n",
      "Row 734\n",
      "Row 735\n",
      "Row 736\n",
      "Row 737\n",
      "Row 738\n",
      "Row 739\n",
      "Row 740\n",
      "Row 741\n",
      "Row 742\n",
      "Row 743\n",
      "Row 744\n",
      "Row 745\n",
      "Row 746\n",
      "Row 747\n",
      "Row 748\n",
      "Row 749\n",
      "Row 750\n",
      "Row 751\n",
      "Row 752\n",
      "Row 753\n",
      "Row 754\n",
      "Row 755\n",
      "Row 756\n",
      "Row 757\n",
      "Row 758\n",
      "Row 759\n",
      "Row 760\n",
      "Row 761\n",
      "Row 762\n",
      "Row 763\n",
      "Row 764\n",
      "Row 765\n",
      "Row 766\n",
      "Row 767\n",
      "Row 768\n",
      "Row 769\n",
      "Row 770\n",
      "Row 771\n",
      "Row 772\n",
      "Row 773\n",
      "Row 774\n",
      "Row 775\n",
      "Row 776\n",
      "Row 777\n",
      "Row 778\n",
      "Row 779\n",
      "Row 780\n",
      "Row 781\n",
      "Row 782\n",
      "Row 783\n",
      "Row 784\n",
      "Row 785\n",
      "Row 786\n",
      "Row 787\n",
      "Row 788\n",
      "Row 789\n",
      "Row 790\n",
      "Row 791\n",
      "Row 792\n",
      "Row 793\n",
      "Row 794\n",
      "Row 795\n",
      "Row 796\n",
      "Row 797\n",
      "Row 798\n",
      "Row 799\n",
      "Row 800\n",
      "Row 801\n",
      "Row 802\n",
      "Row 803\n",
      "Row 804\n",
      "Row 805\n",
      "Row 806\n",
      "Row 807\n",
      "Row 808\n",
      "Row 809\n",
      "Row 810\n",
      "Row 811\n",
      "Row 812\n",
      "Row 813\n",
      "Row 814\n",
      "Row 815\n",
      "Row 816\n",
      "Row 817\n",
      "Row 818\n",
      "Row 819\n",
      "Row 820\n",
      "Row 821\n",
      "Row 822\n",
      "Row 823\n",
      "Row 824\n",
      "Row 825\n",
      "Row 826\n",
      "Row 827\n",
      "Row 828\n",
      "Row 829\n",
      "Row 830\n",
      "Row 831\n",
      "Row 832\n",
      "Row 833\n",
      "Row 834\n",
      "Row 835\n",
      "Row 836\n",
      "Row 837\n",
      "Row 838\n",
      "Row 839\n",
      "Row 840\n",
      "Row 841\n",
      "Row 842\n",
      "Row 843\n",
      "Row 844\n",
      "Row 845\n",
      "Row 846\n",
      "Row 847\n",
      "Row 848\n",
      "Row 849\n",
      "Row 850\n",
      "Row 851\n",
      "Row 852\n",
      "Row 853\n",
      "Row 854\n",
      "Row 855\n",
      "Row 856\n",
      "Row 857\n",
      "Row 858\n",
      "Row 859\n",
      "Row 860\n",
      "Row 861\n",
      "Row 862\n",
      "Row 863\n",
      "Row 864\n",
      "Row 865\n",
      "Row 866\n",
      "Row 867\n",
      "Row 868\n",
      "Row 869\n",
      "Row 870\n",
      "Row 871\n",
      "Row 872\n",
      "Row 873\n",
      "Row 874\n",
      "Row 875\n",
      "Row 876\n",
      "Row 877\n",
      "Row 878\n",
      "Row 879\n",
      "Row 880\n",
      "Row 881\n",
      "Row 882\n",
      "Row 883\n",
      "Row 884\n",
      "Row 885\n",
      "Row 886\n",
      "Row 887\n",
      "Row 888\n",
      "Row 889\n",
      "Row 890\n",
      "Row 891\n",
      "Row 892\n",
      "Row 893\n",
      "Row 894\n",
      "Row 895\n",
      "Row 896\n",
      "Row 897\n",
      "Row 898\n",
      "Row 899\n",
      "Row 900\n",
      "Row 901\n",
      "Row 902\n",
      "Row 903\n",
      "Row 904\n",
      "Row 905\n",
      "Row 906\n",
      "Row 907\n",
      "Row 908\n",
      "Row 909\n",
      "Row 910\n",
      "Row 911\n",
      "Row 912\n",
      "Row 913\n",
      "Row 914\n",
      "Row 915\n",
      "Row 916\n",
      "Row 917\n",
      "Row 918\n",
      "Row 919\n",
      "Row 920\n",
      "Row 921\n",
      "Row 922\n",
      "Row 923\n",
      "Row 924\n",
      "Row 925\n",
      "Row 926\n",
      "Row 927\n",
      "Row 928\n",
      "Row 929\n",
      "Row 930\n",
      "Row 931\n",
      "Row 932\n",
      "Row 933\n",
      "Row 934\n",
      "Row 935\n",
      "Row 936\n",
      "Row 937\n",
      "Row 938\n",
      "Row 939\n",
      "Row 940\n",
      "Row 941\n",
      "Row 942\n",
      "Row 943\n",
      "Row 944\n",
      "Row 945\n",
      "Row 946\n",
      "Row 947\n",
      "Row 948\n",
      "Row 949\n",
      "Row 950\n",
      "Row 951\n",
      "Row 952\n",
      "Row 953\n",
      "Row 954\n",
      "Row 955\n",
      "Row 956\n",
      "Row 957\n",
      "Row 958\n",
      "Row 959\n",
      "Row 960\n",
      "Row 961\n",
      "Row 962\n",
      "Row 963\n",
      "Row 964\n",
      "Row 965\n",
      "Row 966\n",
      "Row 967\n",
      "Row 968\n",
      "Row 969\n",
      "Row 970\n",
      "Row 971\n",
      "Row 972\n",
      "Row 973\n",
      "Row 974\n",
      "Row 975\n",
      "Row 976\n",
      "Row 977\n",
      "Row 978\n",
      "Row 979\n",
      "Row 980\n",
      "Row 981\n",
      "Row 982\n",
      "Row 983\n",
      "Row 984\n",
      "Row 985\n",
      "Row 986\n",
      "Row 987\n",
      "Row 988\n",
      "Row 989\n",
      "Row 990\n",
      "Row 991\n",
      "Row 992\n",
      "Row 993\n",
      "Row 994\n",
      "Row 995\n",
      "Row 996\n",
      "Row 997\n",
      "Row 998\n",
      "Row 999\n"
     ]
    }
   ],
   "source": [
    "sik_2.train(train2d_X, train2d_y, 0.01)"
   ]
  },
  {
   "cell_type": "code",
   "execution_count": 214,
   "metadata": {},
   "outputs": [
    {
     "name": "stdout",
     "output_type": "stream",
     "text": [
      "Row 0\n",
      "Row 1\n",
      "Row 2\n",
      "Row 3\n",
      "Row 4\n",
      "Row 5\n",
      "Row 6\n",
      "Row 7\n",
      "Row 8\n",
      "Row 9\n",
      "Row 10\n",
      "Row 11\n",
      "Row 12\n",
      "Row 13\n",
      "Row 14\n",
      "Row 15\n",
      "Row 16\n",
      "Row 17\n",
      "Row 18\n",
      "Row 19\n",
      "Row 20\n",
      "Row 21\n",
      "Row 22\n",
      "Row 23\n",
      "Row 24\n",
      "Row 25\n",
      "Row 26\n",
      "Row 27\n",
      "Row 28\n",
      "Row 29\n",
      "Row 30\n",
      "Row 31\n",
      "Row 32\n",
      "Row 33\n",
      "Row 34\n",
      "Row 35\n",
      "Row 36\n",
      "Row 37\n",
      "Row 38\n",
      "Row 39\n",
      "Row 40\n",
      "Row 41\n",
      "Row 42\n",
      "Row 43\n",
      "Row 44\n",
      "Row 45\n",
      "Row 46\n",
      "Row 47\n",
      "Row 48\n",
      "Row 49\n",
      "Row 50\n",
      "Row 51\n",
      "Row 52\n",
      "Row 53\n",
      "Row 54\n",
      "Row 55\n",
      "Row 56\n",
      "Row 57\n",
      "Row 58\n",
      "Row 59\n",
      "Row 60\n",
      "Row 61\n",
      "Row 62\n",
      "Row 63\n",
      "Row 64\n",
      "Row 65\n",
      "Row 66\n",
      "Row 67\n",
      "Row 68\n",
      "Row 69\n",
      "Row 70\n",
      "Row 71\n",
      "Row 72\n",
      "Row 73\n",
      "Row 74\n",
      "Row 75\n",
      "Row 76\n",
      "Row 77\n",
      "Row 78\n",
      "Row 79\n",
      "Row 80\n",
      "Row 81\n",
      "Row 82\n",
      "Row 83\n",
      "Row 84\n",
      "Row 85\n",
      "Row 86\n",
      "Row 87\n",
      "Row 88\n",
      "Row 89\n",
      "Row 90\n",
      "Row 91\n",
      "Row 92\n",
      "Row 93\n",
      "Row 94\n",
      "Row 95\n",
      "Row 96\n",
      "Row 97\n",
      "Row 98\n",
      "Row 99\n"
     ]
    },
    {
     "data": {
      "text/plain": [
       "0.73"
      ]
     },
     "execution_count": 214,
     "metadata": {},
     "output_type": "execute_result"
    }
   ],
   "source": [
    "sik_2.accuracy(test2d_X, test2d_y)"
   ]
  },
  {
   "cell_type": "code",
   "execution_count": 209,
   "metadata": {},
   "outputs": [
    {
     "name": "stdout",
     "output_type": "stream",
     "text": [
      "Row 0\n",
      "Row 1\n",
      "Row 2\n",
      "Row 3\n",
      "Row 4\n",
      "Row 5\n",
      "Row 6\n",
      "Row 7\n",
      "Row 8\n",
      "Row 9\n",
      "Row 10\n",
      "Row 11\n",
      "Row 12\n",
      "Row 13\n",
      "Row 14\n",
      "Row 15\n",
      "Row 16\n",
      "Row 17\n",
      "Row 18\n",
      "Row 19\n",
      "Row 20\n",
      "Row 21\n",
      "Row 22\n",
      "Row 23\n",
      "Row 24\n",
      "Row 25\n",
      "Row 26\n",
      "Row 27\n",
      "Row 28\n",
      "Row 29\n",
      "Row 30\n",
      "Row 31\n",
      "Row 32\n",
      "Row 33\n",
      "Row 34\n",
      "Row 35\n",
      "Row 36\n",
      "Row 37\n",
      "Row 38\n",
      "Row 39\n",
      "Row 40\n",
      "Row 41\n",
      "Row 42\n",
      "Row 43\n",
      "Row 44\n",
      "Row 45\n",
      "Row 46\n",
      "Row 47\n",
      "Row 48\n",
      "Row 49\n",
      "Row 50\n",
      "Row 51\n",
      "Row 52\n",
      "Row 53\n",
      "Row 54\n",
      "Row 55\n",
      "Row 56\n",
      "Row 57\n",
      "Row 58\n",
      "Row 59\n",
      "Row 60\n",
      "Row 61\n",
      "Row 62\n",
      "Row 63\n",
      "Row 64\n",
      "Row 65\n",
      "Row 66\n",
      "Row 67\n",
      "Row 68\n",
      "Row 69\n",
      "Row 70\n",
      "Row 71\n",
      "Row 72\n",
      "Row 73\n",
      "Row 74\n",
      "Row 75\n",
      "Row 76\n",
      "Row 77\n",
      "Row 78\n",
      "Row 79\n",
      "Row 80\n",
      "Row 81\n",
      "Row 82\n",
      "Row 83\n",
      "Row 84\n",
      "Row 85\n",
      "Row 86\n",
      "Row 87\n",
      "Row 88\n",
      "Row 89\n",
      "Row 90\n",
      "Row 91\n",
      "Row 92\n",
      "Row 93\n",
      "Row 94\n",
      "Row 95\n",
      "Row 96\n",
      "Row 97\n",
      "Row 98\n",
      "Row 99\n",
      "Row 100\n",
      "Row 101\n",
      "Row 102\n",
      "Row 103\n",
      "Row 104\n",
      "Row 105\n",
      "Row 106\n",
      "Row 107\n",
      "Row 108\n",
      "Row 109\n",
      "Row 110\n",
      "Row 111\n",
      "Row 112\n",
      "Row 113\n",
      "Row 114\n",
      "Row 115\n",
      "Row 116\n",
      "Row 117\n",
      "Row 118\n",
      "Row 119\n",
      "Row 120\n",
      "Row 121\n",
      "Row 122\n",
      "Row 123\n",
      "Row 124\n",
      "Row 125\n",
      "Row 126\n",
      "Row 127\n",
      "Row 128\n",
      "Row 129\n",
      "Row 130\n",
      "Row 131\n",
      "Row 132\n",
      "Row 133\n",
      "Row 134\n",
      "Row 135\n",
      "Row 136\n",
      "Row 137\n",
      "Row 138\n",
      "Row 139\n",
      "Row 140\n",
      "Row 141\n",
      "Row 142\n",
      "Row 143\n",
      "Row 144\n",
      "Row 145\n",
      "Row 146\n",
      "Row 147\n",
      "Row 148\n",
      "Row 149\n",
      "Row 150\n",
      "Row 151\n",
      "Row 152\n",
      "Row 153\n",
      "Row 154\n",
      "Row 155\n",
      "Row 156\n",
      "Row 157\n",
      "Row 158\n",
      "Row 159\n",
      "Row 160\n",
      "Row 161\n",
      "Row 162\n",
      "Row 163\n",
      "Row 164\n",
      "Row 165\n",
      "Row 166\n",
      "Row 167\n",
      "Row 168\n",
      "Row 169\n",
      "Row 170\n",
      "Row 171\n",
      "Row 172\n",
      "Row 173\n",
      "Row 174\n",
      "Row 175\n",
      "Row 176\n",
      "Row 177\n",
      "Row 178\n",
      "Row 179\n",
      "Row 180\n",
      "Row 181\n",
      "Row 182\n",
      "Row 183\n",
      "Row 184\n",
      "Row 185\n",
      "Row 186\n",
      "Row 187\n",
      "Row 188\n",
      "Row 189\n",
      "Row 190\n",
      "Row 191\n",
      "Row 192\n",
      "Row 193\n",
      "Row 194\n",
      "Row 195\n",
      "Row 196\n",
      "Row 197\n",
      "Row 198\n",
      "Row 199\n",
      "Row 200\n",
      "Row 201\n",
      "Row 202\n",
      "Row 203\n",
      "Row 204\n",
      "Row 205\n",
      "Row 206\n",
      "Row 207\n",
      "Row 208\n",
      "Row 209\n",
      "Row 210\n",
      "Row 211\n",
      "Row 212\n",
      "Row 213\n",
      "Row 214\n",
      "Row 215\n",
      "Row 216\n",
      "Row 217\n",
      "Row 218\n",
      "Row 219\n",
      "Row 220\n",
      "Row 221\n",
      "Row 222\n",
      "Row 223\n",
      "Row 224\n",
      "Row 225\n",
      "Row 226\n",
      "Row 227\n",
      "Row 228\n",
      "Row 229\n",
      "Row 230\n",
      "Row 231\n",
      "Row 232\n",
      "Row 233\n",
      "Row 234\n",
      "Row 235\n",
      "Row 236\n",
      "Row 237\n",
      "Row 238\n",
      "Row 239\n",
      "Row 240\n",
      "Row 241\n",
      "Row 242\n",
      "Row 243\n",
      "Row 244\n",
      "Row 245\n",
      "Row 246\n",
      "Row 247\n",
      "Row 248\n",
      "Row 249\n",
      "Row 250\n",
      "Row 251\n",
      "Row 252\n",
      "Row 253\n",
      "Row 254\n",
      "Row 255\n",
      "Row 256\n",
      "Row 257\n",
      "Row 258\n",
      "Row 259\n",
      "Row 260\n",
      "Row 261\n",
      "Row 262\n",
      "Row 263\n",
      "Row 264\n",
      "Row 265\n",
      "Row 266\n",
      "Row 267\n",
      "Row 268\n",
      "Row 269\n",
      "Row 270\n",
      "Row 271\n",
      "Row 272\n",
      "Row 273\n",
      "Row 274\n",
      "Row 275\n",
      "Row 276\n",
      "Row 277\n",
      "Row 278\n",
      "Row 279\n",
      "Row 280\n",
      "Row 281\n",
      "Row 282\n",
      "Row 283\n",
      "Row 284\n",
      "Row 285\n",
      "Row 286\n",
      "Row 287\n",
      "Row 288\n",
      "Row 289\n",
      "Row 290\n",
      "Row 291\n",
      "Row 292\n",
      "Row 293\n",
      "Row 294\n",
      "Row 295\n",
      "Row 296\n",
      "Row 297\n",
      "Row 298\n",
      "Row 299\n",
      "Row 300\n",
      "Row 301\n",
      "Row 302\n",
      "Row 303\n",
      "Row 304\n",
      "Row 305\n",
      "Row 306\n",
      "Row 307\n",
      "Row 308\n",
      "Row 309\n",
      "Row 310\n",
      "Row 311\n",
      "Row 312\n",
      "Row 313\n",
      "Row 314\n",
      "Row 315\n",
      "Row 316\n",
      "Row 317\n",
      "Row 318\n",
      "Row 319\n",
      "Row 320\n",
      "Row 321\n",
      "Row 322\n",
      "Row 323\n",
      "Row 324\n",
      "Row 325\n",
      "Row 326\n",
      "Row 327\n",
      "Row 328\n",
      "Row 329\n",
      "Row 330\n",
      "Row 331\n",
      "Row 332\n",
      "Row 333\n",
      "Row 334\n",
      "Row 335\n",
      "Row 336\n",
      "Row 337\n",
      "Row 338\n",
      "Row 339\n",
      "Row 340\n",
      "Row 341\n",
      "Row 342\n",
      "Row 343\n",
      "Row 344\n",
      "Row 345\n",
      "Row 346\n",
      "Row 347\n",
      "Row 348\n",
      "Row 349\n",
      "Row 350\n",
      "Row 351\n",
      "Row 352\n",
      "Row 353\n",
      "Row 354\n",
      "Row 355\n",
      "Row 356\n",
      "Row 357\n",
      "Row 358\n",
      "Row 359\n",
      "Row 360\n",
      "Row 361\n",
      "Row 362\n",
      "Row 363\n",
      "Row 364\n",
      "Row 365\n",
      "Row 366\n",
      "Row 367\n",
      "Row 368\n",
      "Row 369\n",
      "Row 370\n",
      "Row 371\n",
      "Row 372\n",
      "Row 373\n",
      "Row 374\n",
      "Row 375\n",
      "Row 376\n",
      "Row 377\n",
      "Row 378\n",
      "Row 379\n",
      "Row 380\n",
      "Row 381\n",
      "Row 382\n",
      "Row 383\n",
      "Row 384\n",
      "Row 385\n",
      "Row 386\n",
      "Row 387\n",
      "Row 388\n",
      "Row 389\n",
      "Row 390\n",
      "Row 391\n",
      "Row 392\n",
      "Row 393\n",
      "Row 394\n",
      "Row 395\n",
      "Row 396\n",
      "Row 397\n",
      "Row 398\n",
      "Row 399\n",
      "Row 400\n",
      "Row 401\n",
      "Row 402\n",
      "Row 403\n",
      "Row 404\n",
      "Row 405\n",
      "Row 406\n",
      "Row 407\n",
      "Row 408\n",
      "Row 409\n",
      "Row 410\n",
      "Row 411\n",
      "Row 412\n",
      "Row 413\n",
      "Row 414\n",
      "Row 415\n",
      "Row 416\n",
      "Row 417\n",
      "Row 418\n",
      "Row 419\n",
      "Row 420\n",
      "Row 421\n",
      "Row 422\n",
      "Row 423\n",
      "Row 424\n",
      "Row 425\n",
      "Row 426\n",
      "Row 427\n",
      "Row 428\n",
      "Row 429\n",
      "Row 430\n",
      "Row 431\n",
      "Row 432\n",
      "Row 433\n",
      "Row 434\n",
      "Row 435\n",
      "Row 436\n",
      "Row 437\n",
      "Row 438\n",
      "Row 439\n",
      "Row 440\n",
      "Row 441\n",
      "Row 442\n",
      "Row 443\n",
      "Row 444\n",
      "Row 445\n",
      "Row 446\n",
      "Row 447\n",
      "Row 448\n",
      "Row 449\n",
      "Row 450\n",
      "Row 451\n",
      "Row 452\n",
      "Row 453\n",
      "Row 454\n",
      "Row 455\n",
      "Row 456\n",
      "Row 457\n",
      "Row 458\n",
      "Row 459\n",
      "Row 460\n",
      "Row 461\n",
      "Row 462\n",
      "Row 463\n",
      "Row 464\n",
      "Row 465\n",
      "Row 466\n",
      "Row 467\n",
      "Row 468\n",
      "Row 469\n",
      "Row 470\n",
      "Row 471\n",
      "Row 472\n",
      "Row 473\n",
      "Row 474\n",
      "Row 475\n",
      "Row 476\n",
      "Row 477\n",
      "Row 478\n",
      "Row 479\n",
      "Row 480\n",
      "Row 481\n",
      "Row 482\n",
      "Row 483\n",
      "Row 484\n",
      "Row 485\n",
      "Row 486\n",
      "Row 487\n",
      "Row 488\n",
      "Row 489\n",
      "Row 490\n",
      "Row 491\n",
      "Row 492\n",
      "Row 493\n",
      "Row 494\n",
      "Row 495\n",
      "Row 496\n",
      "Row 497\n",
      "Row 498\n",
      "Row 499\n",
      "Row 500\n",
      "Row 501\n",
      "Row 502\n",
      "Row 503\n",
      "Row 504\n",
      "Row 505\n",
      "Row 506\n",
      "Row 507\n",
      "Row 508\n",
      "Row 509\n",
      "Row 510\n",
      "Row 511\n",
      "Row 512\n",
      "Row 513\n",
      "Row 514\n",
      "Row 515\n",
      "Row 516\n",
      "Row 517\n",
      "Row 518\n",
      "Row 519\n",
      "Row 520\n",
      "Row 521\n",
      "Row 522\n",
      "Row 523\n",
      "Row 524\n",
      "Row 525\n",
      "Row 526\n",
      "Row 527\n",
      "Row 528\n",
      "Row 529\n",
      "Row 530\n",
      "Row 531\n",
      "Row 532\n",
      "Row 533\n",
      "Row 534\n",
      "Row 535\n",
      "Row 536\n",
      "Row 537\n",
      "Row 538\n",
      "Row 539\n",
      "Row 540\n",
      "Row 541\n",
      "Row 542\n",
      "Row 543\n",
      "Row 544\n",
      "Row 545\n",
      "Row 546\n",
      "Row 547\n",
      "Row 548\n",
      "Row 549\n",
      "Row 550\n",
      "Row 551\n",
      "Row 552\n",
      "Row 553\n",
      "Row 554\n",
      "Row 555\n",
      "Row 556\n",
      "Row 557\n",
      "Row 558\n",
      "Row 559\n",
      "Row 560\n",
      "Row 561\n",
      "Row 562\n",
      "Row 563\n",
      "Row 564\n",
      "Row 565\n",
      "Row 566\n",
      "Row 567\n",
      "Row 568\n",
      "Row 569\n",
      "Row 570\n",
      "Row 571\n",
      "Row 572\n",
      "Row 573\n",
      "Row 574\n",
      "Row 575\n",
      "Row 576\n",
      "Row 577\n",
      "Row 578\n",
      "Row 579\n",
      "Row 580\n",
      "Row 581\n",
      "Row 582\n",
      "Row 583\n",
      "Row 584\n",
      "Row 585\n",
      "Row 586\n",
      "Row 587\n",
      "Row 588\n",
      "Row 589\n",
      "Row 590\n",
      "Row 591\n",
      "Row 592\n",
      "Row 593\n",
      "Row 594\n",
      "Row 595\n",
      "Row 596\n",
      "Row 597\n",
      "Row 598\n",
      "Row 599\n",
      "Row 600\n",
      "Row 601\n",
      "Row 602\n",
      "Row 603\n",
      "Row 604\n",
      "Row 605\n",
      "Row 606\n",
      "Row 607\n",
      "Row 608\n",
      "Row 609\n",
      "Row 610\n",
      "Row 611\n",
      "Row 612\n",
      "Row 613\n",
      "Row 614\n",
      "Row 615\n",
      "Row 616\n",
      "Row 617\n",
      "Row 618\n",
      "Row 619\n",
      "Row 620\n",
      "Row 621\n",
      "Row 622\n",
      "Row 623\n",
      "Row 624\n",
      "Row 625\n",
      "Row 626\n",
      "Row 627\n",
      "Row 628\n",
      "Row 629\n",
      "Row 630\n",
      "Row 631\n",
      "Row 632\n",
      "Row 633\n",
      "Row 634\n",
      "Row 635\n",
      "Row 636\n",
      "Row 637\n",
      "Row 638\n",
      "Row 639\n",
      "Row 640\n",
      "Row 641\n",
      "Row 642\n",
      "Row 643\n",
      "Row 644\n",
      "Row 645\n",
      "Row 646\n",
      "Row 647\n",
      "Row 648\n",
      "Row 649\n",
      "Row 650\n",
      "Row 651\n",
      "Row 652\n",
      "Row 653\n",
      "Row 654\n",
      "Row 655\n",
      "Row 656\n",
      "Row 657\n",
      "Row 658\n",
      "Row 659\n",
      "Row 660\n",
      "Row 661\n",
      "Row 662\n",
      "Row 663\n",
      "Row 664\n",
      "Row 665\n",
      "Row 666\n",
      "Row 667\n",
      "Row 668\n",
      "Row 669\n",
      "Row 670\n",
      "Row 671\n",
      "Row 672\n",
      "Row 673\n",
      "Row 674\n",
      "Row 675\n",
      "Row 676\n",
      "Row 677\n",
      "Row 678\n",
      "Row 679\n",
      "Row 680\n",
      "Row 681\n",
      "Row 682\n",
      "Row 683\n",
      "Row 684\n",
      "Row 685\n",
      "Row 686\n",
      "Row 687\n",
      "Row 688\n",
      "Row 689\n",
      "Row 690\n",
      "Row 691\n",
      "Row 692\n",
      "Row 693\n",
      "Row 694\n",
      "Row 695\n",
      "Row 696\n",
      "Row 697\n",
      "Row 698\n",
      "Row 699\n",
      "Row 700\n",
      "Row 701\n",
      "Row 702\n",
      "Row 703\n",
      "Row 704\n",
      "Row 705\n",
      "Row 706\n",
      "Row 707\n",
      "Row 708\n",
      "Row 709\n",
      "Row 710\n",
      "Row 711\n",
      "Row 712\n",
      "Row 713\n",
      "Row 714\n",
      "Row 715\n",
      "Row 716\n",
      "Row 717\n",
      "Row 718\n",
      "Row 719\n",
      "Row 720\n",
      "Row 721\n",
      "Row 722\n",
      "Row 723\n",
      "Row 724\n",
      "Row 725\n",
      "Row 726\n",
      "Row 727\n",
      "Row 728\n",
      "Row 729\n",
      "Row 730\n",
      "Row 731\n",
      "Row 732\n",
      "Row 733\n",
      "Row 734\n",
      "Row 735\n",
      "Row 736\n",
      "Row 737\n",
      "Row 738\n",
      "Row 739\n",
      "Row 740\n",
      "Row 741\n",
      "Row 742\n",
      "Row 743\n",
      "Row 744\n",
      "Row 745\n",
      "Row 746\n",
      "Row 747\n",
      "Row 748\n",
      "Row 749\n",
      "Row 750\n",
      "Row 751\n",
      "Row 752\n",
      "Row 753\n",
      "Row 754\n",
      "Row 755\n",
      "Row 756\n",
      "Row 757\n",
      "Row 758\n",
      "Row 759\n",
      "Row 760\n",
      "Row 761\n",
      "Row 762\n",
      "Row 763\n",
      "Row 764\n",
      "Row 765\n",
      "Row 766\n",
      "Row 767\n",
      "Row 768\n",
      "Row 769\n",
      "Row 770\n",
      "Row 771\n",
      "Row 772\n",
      "Row 773\n",
      "Row 774\n",
      "Row 775\n",
      "Row 776\n",
      "Row 777\n",
      "Row 778\n",
      "Row 779\n",
      "Row 780\n",
      "Row 781\n",
      "Row 782\n",
      "Row 783\n",
      "Row 784\n",
      "Row 785\n",
      "Row 786\n",
      "Row 787\n",
      "Row 788\n",
      "Row 789\n",
      "Row 790\n",
      "Row 791\n",
      "Row 792\n",
      "Row 793\n",
      "Row 794\n",
      "Row 795\n",
      "Row 796\n",
      "Row 797\n",
      "Row 798\n",
      "Row 799\n",
      "Row 800\n",
      "Row 801\n",
      "Row 802\n",
      "Row 803\n",
      "Row 804\n",
      "Row 805\n",
      "Row 806\n",
      "Row 807\n",
      "Row 808\n",
      "Row 809\n",
      "Row 810\n",
      "Row 811\n",
      "Row 812\n",
      "Row 813\n",
      "Row 814\n",
      "Row 815\n",
      "Row 816\n",
      "Row 817\n",
      "Row 818\n",
      "Row 819\n",
      "Row 820\n",
      "Row 821\n",
      "Row 822\n",
      "Row 823\n",
      "Row 824\n",
      "Row 825\n",
      "Row 826\n",
      "Row 827\n",
      "Row 828\n",
      "Row 829\n",
      "Row 830\n",
      "Row 831\n",
      "Row 832\n",
      "Row 833\n",
      "Row 834\n",
      "Row 835\n",
      "Row 836\n",
      "Row 837\n",
      "Row 838\n",
      "Row 839\n",
      "Row 840\n",
      "Row 841\n",
      "Row 842\n",
      "Row 843\n",
      "Row 844\n",
      "Row 845\n",
      "Row 846\n",
      "Row 847\n",
      "Row 848\n",
      "Row 849\n",
      "Row 850\n",
      "Row 851\n",
      "Row 852\n",
      "Row 853\n",
      "Row 854\n",
      "Row 855\n",
      "Row 856\n",
      "Row 857\n",
      "Row 858\n",
      "Row 859\n",
      "Row 860\n",
      "Row 861\n",
      "Row 862\n",
      "Row 863\n",
      "Row 864\n",
      "Row 865\n",
      "Row 866\n",
      "Row 867\n",
      "Row 868\n",
      "Row 869\n",
      "Row 870\n",
      "Row 871\n",
      "Row 872\n",
      "Row 873\n",
      "Row 874\n",
      "Row 875\n",
      "Row 876\n",
      "Row 877\n",
      "Row 878\n",
      "Row 879\n",
      "Row 880\n",
      "Row 881\n",
      "Row 882\n",
      "Row 883\n",
      "Row 884\n",
      "Row 885\n",
      "Row 886\n",
      "Row 887\n",
      "Row 888\n",
      "Row 889\n",
      "Row 890\n",
      "Row 891\n",
      "Row 892\n",
      "Row 893\n",
      "Row 894\n",
      "Row 895\n",
      "Row 896\n",
      "Row 897\n",
      "Row 898\n",
      "Row 899\n",
      "Row 900\n",
      "Row 901\n",
      "Row 902\n",
      "Row 903\n",
      "Row 904\n",
      "Row 905\n",
      "Row 906\n",
      "Row 907\n",
      "Row 908\n",
      "Row 909\n",
      "Row 910\n",
      "Row 911\n",
      "Row 912\n",
      "Row 913\n",
      "Row 914\n",
      "Row 915\n",
      "Row 916\n",
      "Row 917\n",
      "Row 918\n",
      "Row 919\n",
      "Row 920\n",
      "Row 921\n",
      "Row 922\n",
      "Row 923\n",
      "Row 924\n",
      "Row 925\n",
      "Row 926\n",
      "Row 927\n",
      "Row 928\n",
      "Row 929\n",
      "Row 930\n",
      "Row 931\n",
      "Row 932\n",
      "Row 933\n",
      "Row 934\n",
      "Row 935\n",
      "Row 936\n",
      "Row 937\n",
      "Row 938\n",
      "Row 939\n",
      "Row 940\n",
      "Row 941\n",
      "Row 942\n",
      "Row 943\n",
      "Row 944\n",
      "Row 945\n",
      "Row 946\n",
      "Row 947\n",
      "Row 948\n",
      "Row 949\n",
      "Row 950\n",
      "Row 951\n",
      "Row 952\n",
      "Row 953\n",
      "Row 954\n",
      "Row 955\n",
      "Row 956\n",
      "Row 957\n",
      "Row 958\n",
      "Row 959\n",
      "Row 960\n",
      "Row 961\n",
      "Row 962\n",
      "Row 963\n",
      "Row 964\n",
      "Row 965\n",
      "Row 966\n",
      "Row 967\n",
      "Row 968\n",
      "Row 969\n",
      "Row 970\n",
      "Row 971\n",
      "Row 972\n",
      "Row 973\n",
      "Row 974\n",
      "Row 975\n",
      "Row 976\n",
      "Row 977\n",
      "Row 978\n",
      "Row 979\n",
      "Row 980\n",
      "Row 981\n",
      "Row 982\n",
      "Row 983\n",
      "Row 984\n",
      "Row 985\n",
      "Row 986\n",
      "Row 987\n",
      "Row 988\n",
      "Row 989\n",
      "Row 990\n",
      "Row 991\n",
      "Row 992\n",
      "Row 993\n",
      "Row 994\n",
      "Row 995\n",
      "Row 996\n",
      "Row 997\n",
      "Row 998\n",
      "Row 999\n"
     ]
    }
   ],
   "source": [
    "sik.train(train2d_X, train2d_y, 0.01)"
   ]
  },
  {
   "cell_type": "code",
   "execution_count": 210,
   "metadata": {},
   "outputs": [
    {
     "name": "stdout",
     "output_type": "stream",
     "text": [
      "Row 0\n"
     ]
    },
    {
     "name": "stdout",
     "output_type": "stream",
     "text": [
      "Row 1\n",
      "Row 2\n",
      "Row 3\n",
      "Row 4\n",
      "Row 5\n",
      "Row 6\n",
      "Row 7\n",
      "Row 8\n",
      "Row 9\n",
      "Row 10\n",
      "Row 11\n",
      "Row 12\n",
      "Row 13\n",
      "Row 14\n",
      "Row 15\n",
      "Row 16\n",
      "Row 17\n",
      "Row 18\n",
      "Row 19\n",
      "Row 20\n",
      "Row 21\n",
      "Row 22\n",
      "Row 23\n",
      "Row 24\n",
      "Row 25\n",
      "Row 26\n",
      "Row 27\n",
      "Row 28\n",
      "Row 29\n",
      "Row 30\n",
      "Row 31\n",
      "Row 32\n",
      "Row 33\n",
      "Row 34\n",
      "Row 35\n",
      "Row 36\n",
      "Row 37\n",
      "Row 38\n",
      "Row 39\n",
      "Row 40\n",
      "Row 41\n",
      "Row 42\n",
      "Row 43\n",
      "Row 44\n",
      "Row 45\n",
      "Row 46\n",
      "Row 47\n",
      "Row 48\n",
      "Row 49\n",
      "Row 50\n",
      "Row 51\n",
      "Row 52\n",
      "Row 53\n",
      "Row 54\n",
      "Row 55\n",
      "Row 56\n",
      "Row 57\n",
      "Row 58\n",
      "Row 59\n",
      "Row 60\n",
      "Row 61\n",
      "Row 62\n",
      "Row 63\n",
      "Row 64\n",
      "Row 65\n",
      "Row 66\n",
      "Row 67\n",
      "Row 68\n",
      "Row 69\n",
      "Row 70\n",
      "Row 71\n",
      "Row 72\n",
      "Row 73\n",
      "Row 74\n",
      "Row 75\n",
      "Row 76\n",
      "Row 77\n",
      "Row 78\n",
      "Row 79\n",
      "Row 80\n",
      "Row 81\n",
      "Row 82\n",
      "Row 83\n",
      "Row 84\n",
      "Row 85\n",
      "Row 86\n",
      "Row 87\n",
      "Row 88\n",
      "Row 89\n",
      "Row 90\n",
      "Row 91\n",
      "Row 92\n",
      "Row 93\n",
      "Row 94\n",
      "Row 95\n",
      "Row 96\n",
      "Row 97\n",
      "Row 98\n",
      "Row 99\n"
     ]
    },
    {
     "data": {
      "text/plain": [
       "0.71"
      ]
     },
     "execution_count": 210,
     "metadata": {},
     "output_type": "execute_result"
    }
   ],
   "source": [
    "sik.accuracy(test2d_X, test2d_y)"
   ]
  },
  {
   "cell_type": "code",
   "execution_count": 142,
   "metadata": {},
   "outputs": [
    {
     "data": {
      "text/plain": [
       "array([[ 0.2824057 ,  1.40746179,  0.69790893],\n",
       "       [ 1.089748  ,  1.07723957, -0.85443244],\n",
       "       [-0.7848601 , -0.47701032, -1.18715956]])"
      ]
     },
     "execution_count": 142,
     "metadata": {},
     "output_type": "execute_result"
    }
   ],
   "source": [
    "np.random.randn(3, 3)"
   ]
  },
  {
   "cell_type": "code",
   "execution_count": 163,
   "metadata": {},
   "outputs": [],
   "source": [
    "train_X, train_y = point_cloud_data(1000, 50)"
   ]
  },
  {
   "cell_type": "code",
   "execution_count": 164,
   "metadata": {},
   "outputs": [],
   "source": [
    "test_X, test_y = point_cloud_data(100, 50)"
   ]
  },
  {
   "cell_type": "code",
   "execution_count": 150,
   "metadata": {},
   "outputs": [],
   "source": [
    "from datetime import datetime\n",
    "from sklearn.model_selection import KFold"
   ]
  },
  {
   "cell_type": "code",
   "execution_count": 151,
   "metadata": {},
   "outputs": [],
   "source": [
    "degs = list(range(1, 6))\n",
    "n_samples = [200, 400, 600, 800, 1000]\n",
    "lams = [1e-5, 1e-4, 1e-3, 1e-2, 1e-1]\n",
    "folds  = 5\n",
    "\n",
    "kfold = KFold(n_splits=folds)"
   ]
  },
  {
   "cell_type": "code",
   "execution_count": 166,
   "metadata": {},
   "outputs": [],
   "source": [
    "train_accuracies = np.zeros((5, 5))\n",
    "test_accuracies = np.zeros((5, 5))"
   ]
  },
  {
   "cell_type": "code",
   "execution_count": 167,
   "metadata": {},
   "outputs": [],
   "source": [
    "best_lams = np.zeros((5, 5))"
   ]
  },
  {
   "cell_type": "code",
   "execution_count": null,
   "metadata": {},
   "outputs": [
    {
     "name": "stdout",
     "output_type": "stream",
     "text": [
      "200 Samples\n",
      "Degree 5\n",
      "Current Time = 09:28:22\n",
      "fold 0\n",
      "Row 0\n",
      "Row 1\n",
      "Row 2\n",
      "Row 3\n",
      "Row 4\n",
      "Row 5\n",
      "Row 6\n",
      "Row 7\n",
      "Row 8\n",
      "Row 9\n",
      "Row 10\n"
     ]
    },
    {
     "ename": "KeyboardInterrupt",
     "evalue": "",
     "output_type": "error",
     "traceback": [
      "\u001b[0;31m---------------------------------------------------------------------------\u001b[0m",
      "\u001b[0;31mKeyboardInterrupt\u001b[0m                         Traceback (most recent call last)",
      "Cell \u001b[0;32mIn[215], line 34\u001b[0m\n\u001b[1;32m     30\u001b[0m val_values \u001b[38;5;241m=\u001b[39m y[test_index]\n\u001b[1;32m     32\u001b[0m \u001b[38;5;28;01mfor\u001b[39;00m l \u001b[38;5;129;01min\u001b[39;00m \u001b[38;5;28mrange\u001b[39m(\u001b[38;5;28mlen\u001b[39m(lams)):\n\u001b[0;32m---> 34\u001b[0m     \u001b[43minvariant_kernel\u001b[49m\u001b[38;5;241;43m.\u001b[39;49m\u001b[43mtrain\u001b[49m\u001b[43m(\u001b[49m\u001b[43mtrain_data\u001b[49m\u001b[43m,\u001b[49m\u001b[43m \u001b[49m\u001b[43mtrain_values\u001b[49m\u001b[43m,\u001b[49m\u001b[43m \u001b[49m\u001b[43mlams\u001b[49m\u001b[43m[\u001b[49m\u001b[43ml\u001b[49m\u001b[43m]\u001b[49m\u001b[43m)\u001b[49m\n\u001b[1;32m     35\u001b[0m     invariant_val_error[fold][l] \u001b[38;5;241m=\u001b[39m invariant_kernel\u001b[38;5;241m.\u001b[39maccuracy(val_data, val_values)\n\u001b[1;32m     38\u001b[0m fold \u001b[38;5;241m+\u001b[39m\u001b[38;5;241m=\u001b[39m \u001b[38;5;241m1\u001b[39m\n",
      "Cell \u001b[0;32mIn[196], line 57\u001b[0m, in \u001b[0;36mSetInvariantClassification.train\u001b[0;34m(self, X, y, lam)\u001b[0m\n\u001b[1;32m     54\u001b[0m \u001b[38;5;28;01mdef\u001b[39;00m \u001b[38;5;21mtrain\u001b[39m(\u001b[38;5;28mself\u001b[39m, X, y, lam):\n\u001b[1;32m     56\u001b[0m     N \u001b[38;5;241m=\u001b[39m X\u001b[38;5;241m.\u001b[39mshape[\u001b[38;5;241m0\u001b[39m]\n\u001b[0;32m---> 57\u001b[0m     M \u001b[38;5;241m=\u001b[39m \u001b[38;5;28;43mself\u001b[39;49m\u001b[38;5;241;43m.\u001b[39;49m\u001b[43mgram_matrix\u001b[49m\u001b[43m(\u001b[49m\u001b[43mX\u001b[49m\u001b[43m)\u001b[49m\n\u001b[1;32m     59\u001b[0m     alpha \u001b[38;5;241m=\u001b[39m np\u001b[38;5;241m.\u001b[39mlinalg\u001b[38;5;241m.\u001b[39msolve(M \u001b[38;5;241m+\u001b[39m lam \u001b[38;5;241m*\u001b[39m np\u001b[38;5;241m.\u001b[39meye(N), y)\n\u001b[1;32m     61\u001b[0m     \u001b[38;5;28mself\u001b[39m\u001b[38;5;241m.\u001b[39malpha \u001b[38;5;241m=\u001b[39m alpha\n",
      "Cell \u001b[0;32mIn[196], line 42\u001b[0m, in \u001b[0;36mSetInvariantClassification.gram_matrix\u001b[0;34m(self, X)\u001b[0m\n\u001b[1;32m     40\u001b[0m \u001b[38;5;28mprint\u001b[39m(\u001b[38;5;124mf\u001b[39m\u001b[38;5;124m'\u001b[39m\u001b[38;5;124mRow \u001b[39m\u001b[38;5;132;01m{\u001b[39;00mi\u001b[38;5;132;01m}\u001b[39;00m\u001b[38;5;124m'\u001b[39m)\n\u001b[1;32m     41\u001b[0m \u001b[38;5;28;01mfor\u001b[39;00m j \u001b[38;5;129;01min\u001b[39;00m \u001b[38;5;28mrange\u001b[39m(i, X\u001b[38;5;241m.\u001b[39mshape[\u001b[38;5;241m0\u001b[39m]):\n\u001b[0;32m---> 42\u001b[0m     v \u001b[38;5;241m=\u001b[39m \u001b[38;5;28;43mself\u001b[39;49m\u001b[38;5;241;43m.\u001b[39;49m\u001b[43mevaluate\u001b[49m\u001b[43m(\u001b[49m\u001b[43mX\u001b[49m\u001b[43m[\u001b[49m\u001b[43mi\u001b[49m\u001b[43m]\u001b[49m\u001b[43m,\u001b[49m\u001b[43m \u001b[49m\u001b[43mX\u001b[49m\u001b[43m[\u001b[49m\u001b[43mj\u001b[49m\u001b[43m]\u001b[49m\u001b[43m)\u001b[49m\n\u001b[1;32m     43\u001b[0m     mat[i][j] \u001b[38;5;241m=\u001b[39m v\n\u001b[1;32m     44\u001b[0m     mat[j][i] \u001b[38;5;241m=\u001b[39m v\n",
      "Cell \u001b[0;32mIn[196], line 21\u001b[0m, in \u001b[0;36mSetInvariantClassification.evaluate\u001b[0;34m(self, x, y)\u001b[0m\n\u001b[1;32m     18\u001b[0m     comp \u001b[38;5;241m=\u001b[39m \u001b[38;5;28mself\u001b[39m\u001b[38;5;241m.\u001b[39mcomps[i]\n\u001b[1;32m     20\u001b[0m     inner_products \u001b[38;5;241m=\u001b[39m [\u001b[38;5;28mself\u001b[39m\u001b[38;5;241m.\u001b[39mips[\u001b[38;5;28mint\u001b[39m(comp[j])]\u001b[38;5;241m.\u001b[39mevaluate(x[:, j], y[:, j]) \u001b[38;5;28;01mfor\u001b[39;00m j \u001b[38;5;129;01min\u001b[39;00m \u001b[38;5;28mrange\u001b[39m(\u001b[38;5;28mself\u001b[39m\u001b[38;5;241m.\u001b[39mk)]\n\u001b[0;32m---> 21\u001b[0m     val \u001b[38;5;241m+\u001b[39m\u001b[38;5;241m=\u001b[39m np\u001b[38;5;241m.\u001b[39mprod(inner_products)\u001b[38;5;241m/\u001b[39mnp\u001b[38;5;241m.\u001b[39mprod(\u001b[43m[\u001b[49m\u001b[43mfactorial\u001b[49m\u001b[43m(\u001b[49m\u001b[38;5;28;43mint\u001b[39;49m\u001b[43m(\u001b[49m\u001b[43mc\u001b[49m\u001b[43m)\u001b[49m\u001b[43m)\u001b[49m\u001b[43m \u001b[49m\u001b[38;5;28;43;01mfor\u001b[39;49;00m\u001b[43m \u001b[49m\u001b[43mc\u001b[49m\u001b[43m \u001b[49m\u001b[38;5;129;43;01min\u001b[39;49;00m\u001b[43m \u001b[49m\u001b[43mcomp\u001b[49m\u001b[43m]\u001b[49m)\n\u001b[1;32m     23\u001b[0m \u001b[38;5;28;01mreturn\u001b[39;00m val\n",
      "Cell \u001b[0;32mIn[196], line 21\u001b[0m, in \u001b[0;36m<listcomp>\u001b[0;34m(.0)\u001b[0m\n\u001b[1;32m     18\u001b[0m     comp \u001b[38;5;241m=\u001b[39m \u001b[38;5;28mself\u001b[39m\u001b[38;5;241m.\u001b[39mcomps[i]\n\u001b[1;32m     20\u001b[0m     inner_products \u001b[38;5;241m=\u001b[39m [\u001b[38;5;28mself\u001b[39m\u001b[38;5;241m.\u001b[39mips[\u001b[38;5;28mint\u001b[39m(comp[j])]\u001b[38;5;241m.\u001b[39mevaluate(x[:, j], y[:, j]) \u001b[38;5;28;01mfor\u001b[39;00m j \u001b[38;5;129;01min\u001b[39;00m \u001b[38;5;28mrange\u001b[39m(\u001b[38;5;28mself\u001b[39m\u001b[38;5;241m.\u001b[39mk)]\n\u001b[0;32m---> 21\u001b[0m     val \u001b[38;5;241m+\u001b[39m\u001b[38;5;241m=\u001b[39m np\u001b[38;5;241m.\u001b[39mprod(inner_products)\u001b[38;5;241m/\u001b[39mnp\u001b[38;5;241m.\u001b[39mprod([\u001b[43mfactorial\u001b[49m\u001b[43m(\u001b[49m\u001b[38;5;28;43mint\u001b[39;49m\u001b[43m(\u001b[49m\u001b[43mc\u001b[49m\u001b[43m)\u001b[49m\u001b[43m)\u001b[49m \u001b[38;5;28;01mfor\u001b[39;00m c \u001b[38;5;129;01min\u001b[39;00m comp])\n\u001b[1;32m     23\u001b[0m \u001b[38;5;28;01mreturn\u001b[39;00m val\n",
      "\u001b[0;31mKeyboardInterrupt\u001b[0m: "
     ]
    }
   ],
   "source": [
    "for j in range(len(n_samples)):\n",
    "    n = n_samples[j]\n",
    "    X = train_X[:n]\n",
    "    y = train_y[:n]\n",
    "\n",
    "    print(f'{n} Samples')\n",
    "\n",
    "    for k in range(2, len(degs)):\n",
    "        if train_accuracies[j][k] == 0:\n",
    "            m = degs[k]\n",
    "            invariant_kernel = SetInvariantClassification(10, 3, m)\n",
    "            print(f'Degree {m}')\n",
    "\n",
    "            invariant_val_error = np.zeros((folds, len(lams)))\n",
    "\n",
    "            fold = 0\n",
    "            for train_index, test_index in kfold.split(X):\n",
    "                now = datetime.now()\n",
    "\n",
    "                current_time = now.strftime(\"%H:%M:%S\")\n",
    "                print(\"Current Time =\", current_time)\n",
    "                print('fold', fold)\n",
    "\n",
    "                train_data = X[train_index]\n",
    "                train_values = y[train_index]\n",
    "                val_data = X[test_index]\n",
    "                val_values = y[test_index]\n",
    "\n",
    "                for l in range(len(lams)):\n",
    "\n",
    "                    invariant_kernel.train(train_data, train_values, lams[l])\n",
    "                    invariant_val_error[fold][l] = invariant_kernel.accuracy(val_data, val_values)\n",
    "\n",
    "\n",
    "                fold += 1\n",
    "\n",
    "            best_lam_invariant = lams[np.argmax(np.mean(invariant_val_error, axis=1))]\n",
    "            best_lams[j][k] = best_lam_invariant\n",
    "            invariant_kernel.train(X, y, best_lam_invariant)\n",
    "\n",
    "            train_accuracies[j][k] = invariant_kernel.training_accuracy\n",
    "            test_accuracies[j][k] = invariant_kernel.accuracy(test_X, test_y)\n",
    "\n",
    "\n",
    "            print('Train Accuracies \\n', train_accuracies)\n",
    "            print('Test Accuracies \\n', test_accuracies)\n",
    "            print('Lambdas \\n', best_lams)\n",
    "            np.save('Data/sets-d50-test.npy', test_accuracies)\n",
    "            np.save('Data/sets-d50-train.npy', train_accuracies)\n",
    "            np.save('Data/sets-d50-lambda.npy', best_lams)"
   ]
  },
  {
   "cell_type": "code",
   "execution_count": 165,
   "metadata": {},
   "outputs": [],
   "source": [
    "np.save('Data/sets-d10-test.npy', test_accuracies)\n",
    "np.save('Data/sets-d10-train.npy', train_accuracies)\n",
    "np.save('Data/sets-d10-lambda.npy', best_lams)\n",
    "np.savez('Data/sets-d50-train.npz', x=train_X, y=train_y)\n",
    "np.savez('Data/sets-d50-test.npz', x=test_X, y=test_y)"
   ]
  },
  {
   "cell_type": "markdown",
   "metadata": {},
   "source": [
    "# Classifying Point Clouds from Two Distributions\n",
    "\n",
    "Generate point clouds from either a standard normal or a fixed anisotropic normal distribution. Want to classify point clouds according to which distribution they are drawn from."
   ]
  },
  {
   "cell_type": "code",
   "execution_count": 231,
   "metadata": {},
   "outputs": [],
   "source": [
    "def two_distributions_data(n_samples, d_points):\n",
    "\n",
    "    X = np.zeros((n_samples, d_points, 2))\n",
    "    y = 2*np.random.binomial(1, 0.5, n_samples) - 1\n",
    "\n",
    "    for i in range(n_samples):\n",
    "        pc = np.random.randn(d_points, 2)\n",
    "\n",
    "        if y[i] == 1:\n",
    "            X[i] = pc\n",
    "        \n",
    "        else:\n",
    "            X[i] = pc @ np.array([[1, 0.6], [0.6, 2]])\n",
    "\n",
    "    return X, y"
   ]
  },
  {
   "cell_type": "code",
   "execution_count": 238,
   "metadata": {},
   "outputs": [],
   "source": [
    "X, y = point_cloud_data(1100, 50, 2)\n",
    "train_X = X[:1000]\n",
    "test_X = X[1000:]\n",
    "train_y = y[:1000]\n",
    "test_y = y[1000:]"
   ]
  },
  {
   "cell_type": "code",
   "execution_count": 239,
   "metadata": {},
   "outputs": [],
   "source": [
    "np.savez('Data/2D-Isotropic-Classification-Train', x=train_X, y=train_y)\n",
    "np.savez('Data/2D-Isotropic-Classification-Test', x=test_X, y=test_y)"
   ]
  },
  {
   "cell_type": "markdown",
   "metadata": {},
   "source": [
    "Determining Hyperparameters"
   ]
  },
  {
   "cell_type": "code",
   "execution_count": 240,
   "metadata": {},
   "outputs": [],
   "source": [
    "degs = list(range(1, 6))\n",
    "n_samples = [200, 400, 600, 800, 1000]\n",
    "lams = [1e-5, 1e-4, 1e-3, 1e-2, 1e-1]\n",
    "folds  = 4\n",
    "\n",
    "kfold = KFold(n_splits=folds)"
   ]
  },
  {
   "cell_type": "code",
   "execution_count": 264,
   "metadata": {},
   "outputs": [],
   "source": [
    "avg_val_accuracies = np.zeros((5, 5))\n",
    "best_lams = np.zeros((5, 5))"
   ]
  },
  {
   "cell_type": "code",
   "execution_count": 271,
   "metadata": {},
   "outputs": [
    {
     "name": "stdout",
     "output_type": "stream",
     "text": [
      "Degree 1\n",
      "200 Samples\n",
      "400 Samples\n",
      "Current Time = 18:11:10\n",
      "fold 0\n"
     ]
    },
    {
     "name": "stderr",
     "output_type": "stream",
     "text": [
      "100%|██████████| 300/300 [00:32<00:00,  9.28it/s]\n",
      "100%|██████████| 100/100 [00:18<00:00,  5.38it/s]\n"
     ]
    },
    {
     "name": "stdout",
     "output_type": "stream",
     "text": [
      "Current Time = 18:12:01\n",
      "fold 1\n"
     ]
    },
    {
     "name": "stderr",
     "output_type": "stream",
     "text": [
      "100%|██████████| 300/300 [00:28<00:00, 10.38it/s]\n",
      "100%|██████████| 100/100 [00:19<00:00,  5.12it/s]\n"
     ]
    },
    {
     "name": "stdout",
     "output_type": "stream",
     "text": [
      "Current Time = 18:12:49\n",
      "fold 2\n"
     ]
    },
    {
     "name": "stderr",
     "output_type": "stream",
     "text": [
      "100%|██████████| 300/300 [00:29<00:00, 10.27it/s]\n",
      "100%|██████████| 100/100 [00:18<00:00,  5.50it/s]\n"
     ]
    },
    {
     "name": "stdout",
     "output_type": "stream",
     "text": [
      "Current Time = 18:13:37\n",
      "fold 3\n"
     ]
    },
    {
     "name": "stderr",
     "output_type": "stream",
     "text": [
      "100%|██████████| 300/300 [00:27<00:00, 10.88it/s]\n",
      "100%|██████████| 100/100 [00:17<00:00,  5.64it/s]\n"
     ]
    },
    {
     "name": "stdout",
     "output_type": "stream",
     "text": [
      "Best Avg. Accuracy \n",
      " [[0.41       0.455      0.         0.         0.        ]\n",
      " [0.         0.         0.         0.         0.        ]\n",
      " [0.79       0.7525     0.73       0.72625    0.738     ]\n",
      " [0.795      0.79       0.77333333 0.77125    0.766     ]\n",
      " [0.71       0.7525     0.76       0.7375     0.732     ]]\n",
      "Best Lambda \n",
      " [[1.e-05 1.e-05 0.e+00 0.e+00 0.e+00]\n",
      " [0.e+00 0.e+00 0.e+00 0.e+00 0.e+00]\n",
      " [1.e-05 1.e-01 1.e-02 1.e-04 1.e-03]\n",
      " [1.e-04 1.e-01 1.e-02 1.e-01 1.e-02]\n",
      " [1.e-03 1.e-01 1.e-01 1.e-01 1.e-01]]\n",
      "600 Samples\n",
      "Current Time = 18:14:22\n",
      "fold 0\n"
     ]
    },
    {
     "name": "stderr",
     "output_type": "stream",
     "text": [
      "100%|██████████| 450/450 [01:01<00:00,  7.27it/s]\n",
      "100%|██████████| 150/150 [00:38<00:00,  3.85it/s]\n"
     ]
    },
    {
     "name": "stdout",
     "output_type": "stream",
     "text": [
      "Current Time = 18:16:03\n",
      "fold 1\n"
     ]
    },
    {
     "name": "stderr",
     "output_type": "stream",
     "text": [
      "100%|██████████| 450/450 [01:00<00:00,  7.43it/s]\n",
      "100%|██████████| 150/150 [00:39<00:00,  3.78it/s]\n"
     ]
    },
    {
     "name": "stdout",
     "output_type": "stream",
     "text": [
      "Current Time = 18:17:43\n",
      "fold 2\n"
     ]
    },
    {
     "name": "stderr",
     "output_type": "stream",
     "text": [
      "100%|██████████| 450/450 [00:59<00:00,  7.51it/s]\n",
      "100%|██████████| 150/150 [00:38<00:00,  3.87it/s]\n"
     ]
    },
    {
     "name": "stdout",
     "output_type": "stream",
     "text": [
      "Current Time = 18:19:22\n",
      "fold 3\n"
     ]
    },
    {
     "name": "stderr",
     "output_type": "stream",
     "text": [
      "100%|██████████| 450/450 [01:00<00:00,  7.44it/s]\n",
      "100%|██████████| 150/150 [00:38<00:00,  3.87it/s]\n"
     ]
    },
    {
     "name": "stdout",
     "output_type": "stream",
     "text": [
      "Best Avg. Accuracy \n",
      " [[0.41       0.455      0.475      0.         0.        ]\n",
      " [0.         0.         0.         0.         0.        ]\n",
      " [0.79       0.7525     0.73       0.72625    0.738     ]\n",
      " [0.795      0.79       0.77333333 0.77125    0.766     ]\n",
      " [0.71       0.7525     0.76       0.7375     0.732     ]]\n",
      "Best Lambda \n",
      " [[1.e-05 1.e-05 1.e-05 0.e+00 0.e+00]\n",
      " [0.e+00 0.e+00 0.e+00 0.e+00 0.e+00]\n",
      " [1.e-05 1.e-01 1.e-02 1.e-04 1.e-03]\n",
      " [1.e-04 1.e-01 1.e-02 1.e-01 1.e-02]\n",
      " [1.e-03 1.e-01 1.e-01 1.e-01 1.e-01]]\n",
      "800 Samples\n",
      "Current Time = 18:21:01\n",
      "fold 0\n"
     ]
    },
    {
     "name": "stderr",
     "output_type": "stream",
     "text": [
      "100%|██████████| 600/600 [01:46<00:00,  5.63it/s]\n",
      "100%|██████████| 200/200 [01:07<00:00,  2.96it/s]\n"
     ]
    },
    {
     "name": "stdout",
     "output_type": "stream",
     "text": [
      "Current Time = 18:23:55\n",
      "fold 1\n"
     ]
    },
    {
     "name": "stderr",
     "output_type": "stream",
     "text": [
      "100%|██████████| 600/600 [01:45<00:00,  5.70it/s]\n",
      "100%|██████████| 200/200 [01:09<00:00,  2.89it/s]\n"
     ]
    },
    {
     "name": "stdout",
     "output_type": "stream",
     "text": [
      "Current Time = 18:26:50\n",
      "fold 2\n"
     ]
    },
    {
     "name": "stderr",
     "output_type": "stream",
     "text": [
      "100%|██████████| 600/600 [01:44<00:00,  5.75it/s]\n",
      "100%|██████████| 200/200 [01:10<00:00,  2.83it/s]\n"
     ]
    },
    {
     "name": "stdout",
     "output_type": "stream",
     "text": [
      "Current Time = 18:29:45\n",
      "fold 3\n"
     ]
    },
    {
     "name": "stderr",
     "output_type": "stream",
     "text": [
      "100%|██████████| 600/600 [01:44<00:00,  5.73it/s]\n",
      "100%|██████████| 200/200 [01:08<00:00,  2.93it/s]\n"
     ]
    },
    {
     "name": "stdout",
     "output_type": "stream",
     "text": [
      "Best Avg. Accuracy \n",
      " [[0.41       0.455      0.475      0.47875    0.        ]\n",
      " [0.         0.         0.         0.         0.        ]\n",
      " [0.79       0.7525     0.73       0.72625    0.738     ]\n",
      " [0.795      0.79       0.77333333 0.77125    0.766     ]\n",
      " [0.71       0.7525     0.76       0.7375     0.732     ]]\n",
      "Best Lambda \n",
      " [[1.e-05 1.e-05 1.e-05 1.e-05 0.e+00]\n",
      " [0.e+00 0.e+00 0.e+00 0.e+00 0.e+00]\n",
      " [1.e-05 1.e-01 1.e-02 1.e-04 1.e-03]\n",
      " [1.e-04 1.e-01 1.e-02 1.e-01 1.e-02]\n",
      " [1.e-03 1.e-01 1.e-01 1.e-01 1.e-01]]\n",
      "1000 Samples\n",
      "Current Time = 18:32:38\n",
      "fold 0\n"
     ]
    },
    {
     "name": "stderr",
     "output_type": "stream",
     "text": [
      "100%|██████████| 750/750 [02:47<00:00,  4.47it/s]\n",
      "100%|██████████| 250/250 [01:46<00:00,  2.34it/s]\n"
     ]
    },
    {
     "name": "stdout",
     "output_type": "stream",
     "text": [
      "Current Time = 18:37:13\n",
      "fold 1\n"
     ]
    },
    {
     "name": "stderr",
     "output_type": "stream",
     "text": [
      "100%|██████████| 750/750 [02:46<00:00,  4.49it/s]\n",
      "100%|██████████| 250/250 [01:49<00:00,  2.29it/s]\n"
     ]
    },
    {
     "name": "stdout",
     "output_type": "stream",
     "text": [
      "Current Time = 18:41:49\n",
      "fold 2\n"
     ]
    },
    {
     "name": "stderr",
     "output_type": "stream",
     "text": [
      "100%|██████████| 750/750 [02:47<00:00,  4.48it/s]\n",
      "100%|██████████| 250/250 [01:46<00:00,  2.35it/s]\n"
     ]
    },
    {
     "name": "stdout",
     "output_type": "stream",
     "text": [
      "Current Time = 18:46:23\n",
      "fold 3\n"
     ]
    },
    {
     "name": "stderr",
     "output_type": "stream",
     "text": [
      "100%|██████████| 750/750 [02:45<00:00,  4.53it/s]\n",
      "100%|██████████| 250/250 [01:46<00:00,  2.36it/s]\n"
     ]
    },
    {
     "name": "stdout",
     "output_type": "stream",
     "text": [
      "Best Avg. Accuracy \n",
      " [[0.41       0.455      0.475      0.47875    0.478     ]\n",
      " [0.         0.         0.         0.         0.        ]\n",
      " [0.79       0.7525     0.73       0.72625    0.738     ]\n",
      " [0.795      0.79       0.77333333 0.77125    0.766     ]\n",
      " [0.71       0.7525     0.76       0.7375     0.732     ]]\n",
      "Best Lambda \n",
      " [[1.e-05 1.e-05 1.e-05 1.e-05 1.e-05]\n",
      " [0.e+00 0.e+00 0.e+00 0.e+00 0.e+00]\n",
      " [1.e-05 1.e-01 1.e-02 1.e-04 1.e-03]\n",
      " [1.e-04 1.e-01 1.e-02 1.e-01 1.e-02]\n",
      " [1.e-03 1.e-01 1.e-01 1.e-01 1.e-01]]\n",
      "Degree 2\n",
      "200 Samples\n",
      "Current Time = 18:50:55\n",
      "fold 0\n"
     ]
    },
    {
     "name": "stderr",
     "output_type": "stream",
     "text": [
      "100%|██████████| 150/150 [00:22<00:00,  6.81it/s]\n",
      "100%|██████████| 50/50 [00:13<00:00,  3.81it/s]\n"
     ]
    },
    {
     "name": "stdout",
     "output_type": "stream",
     "text": [
      "Current Time = 18:51:30\n",
      "fold 1\n"
     ]
    },
    {
     "name": "stderr",
     "output_type": "stream",
     "text": [
      "100%|██████████| 150/150 [00:20<00:00,  7.30it/s]\n",
      "100%|██████████| 50/50 [00:12<00:00,  3.85it/s]\n"
     ]
    },
    {
     "name": "stdout",
     "output_type": "stream",
     "text": [
      "Current Time = 18:52:04\n",
      "fold 2\n"
     ]
    },
    {
     "name": "stderr",
     "output_type": "stream",
     "text": [
      "100%|██████████| 150/150 [00:20<00:00,  7.31it/s]\n",
      "100%|██████████| 50/50 [00:12<00:00,  3.86it/s]\n"
     ]
    },
    {
     "name": "stdout",
     "output_type": "stream",
     "text": [
      "Current Time = 18:52:37\n",
      "fold 3\n"
     ]
    },
    {
     "name": "stderr",
     "output_type": "stream",
     "text": [
      "100%|██████████| 150/150 [00:20<00:00,  7.34it/s]\n",
      "100%|██████████| 50/50 [00:13<00:00,  3.79it/s]\n"
     ]
    },
    {
     "name": "stdout",
     "output_type": "stream",
     "text": [
      "Best Avg. Accuracy \n",
      " [[0.41       0.455      0.475      0.47875    0.478     ]\n",
      " [0.755      0.         0.         0.         0.        ]\n",
      " [0.79       0.7525     0.73       0.72625    0.738     ]\n",
      " [0.795      0.79       0.77333333 0.77125    0.766     ]\n",
      " [0.71       0.7525     0.76       0.7375     0.732     ]]\n",
      "Best Lambda \n",
      " [[1.e-05 1.e-05 1.e-05 1.e-05 1.e-05]\n",
      " [1.e-05 0.e+00 0.e+00 0.e+00 0.e+00]\n",
      " [1.e-05 1.e-01 1.e-02 1.e-04 1.e-03]\n",
      " [1.e-04 1.e-01 1.e-02 1.e-01 1.e-02]\n",
      " [1.e-03 1.e-01 1.e-01 1.e-01 1.e-01]]\n",
      "400 Samples\n",
      "Current Time = 18:53:11\n",
      "fold 0\n"
     ]
    },
    {
     "name": "stderr",
     "output_type": "stream",
     "text": [
      "100%|██████████| 300/300 [01:18<00:00,  3.84it/s]\n",
      "100%|██████████| 100/100 [00:49<00:00,  2.02it/s]\n"
     ]
    },
    {
     "name": "stdout",
     "output_type": "stream",
     "text": [
      "Current Time = 18:55:19\n",
      "fold 1\n"
     ]
    },
    {
     "name": "stderr",
     "output_type": "stream",
     "text": [
      "100%|██████████| 300/300 [01:16<00:00,  3.92it/s]\n",
      "100%|██████████| 100/100 [00:48<00:00,  2.06it/s]\n"
     ]
    },
    {
     "name": "stdout",
     "output_type": "stream",
     "text": [
      "Current Time = 18:57:24\n",
      "fold 2\n"
     ]
    },
    {
     "name": "stderr",
     "output_type": "stream",
     "text": [
      "100%|██████████| 300/300 [01:16<00:00,  3.94it/s]\n",
      "100%|██████████| 100/100 [00:49<00:00,  2.02it/s]\n"
     ]
    },
    {
     "name": "stdout",
     "output_type": "stream",
     "text": [
      "Current Time = 18:59:29\n",
      "fold 3\n"
     ]
    },
    {
     "name": "stderr",
     "output_type": "stream",
     "text": [
      "100%|██████████| 300/300 [01:15<00:00,  3.98it/s]\n",
      "100%|██████████| 100/100 [00:48<00:00,  2.06it/s]\n"
     ]
    },
    {
     "name": "stdout",
     "output_type": "stream",
     "text": [
      "Best Avg. Accuracy \n",
      " [[0.41       0.455      0.475      0.47875    0.478     ]\n",
      " [0.755      0.7425     0.         0.         0.        ]\n",
      " [0.79       0.7525     0.73       0.72625    0.738     ]\n",
      " [0.795      0.79       0.77333333 0.77125    0.766     ]\n",
      " [0.71       0.7525     0.76       0.7375     0.732     ]]\n",
      "Best Lambda \n",
      " [[1.e-05 1.e-05 1.e-05 1.e-05 1.e-05]\n",
      " [1.e-05 1.e-05 0.e+00 0.e+00 0.e+00]\n",
      " [1.e-05 1.e-01 1.e-02 1.e-04 1.e-03]\n",
      " [1.e-04 1.e-01 1.e-02 1.e-01 1.e-02]\n",
      " [1.e-03 1.e-01 1.e-01 1.e-01 1.e-01]]\n",
      "600 Samples\n",
      "Current Time = 19:01:33\n",
      "fold 0\n"
     ]
    },
    {
     "name": "stderr",
     "output_type": "stream",
     "text": [
      "100%|██████████| 450/450 [02:45<00:00,  2.72it/s]\n",
      "100%|██████████| 150/150 [01:47<00:00,  1.40it/s]\n"
     ]
    },
    {
     "name": "stdout",
     "output_type": "stream",
     "text": [
      "Current Time = 19:06:06\n",
      "fold 1\n"
     ]
    },
    {
     "name": "stderr",
     "output_type": "stream",
     "text": [
      "100%|██████████| 450/450 [02:50<00:00,  2.64it/s]\n",
      "100%|██████████| 150/150 [01:47<00:00,  1.40it/s]\n"
     ]
    },
    {
     "name": "stdout",
     "output_type": "stream",
     "text": [
      "Current Time = 19:10:44\n",
      "fold 2\n"
     ]
    },
    {
     "name": "stderr",
     "output_type": "stream",
     "text": [
      "100%|██████████| 450/450 [02:45<00:00,  2.72it/s]\n",
      "100%|██████████| 150/150 [01:48<00:00,  1.39it/s]\n"
     ]
    },
    {
     "name": "stdout",
     "output_type": "stream",
     "text": [
      "Current Time = 19:15:17\n",
      "fold 3\n"
     ]
    },
    {
     "name": "stderr",
     "output_type": "stream",
     "text": [
      "100%|██████████| 450/450 [02:45<00:00,  2.72it/s]\n",
      "100%|██████████| 150/150 [01:47<00:00,  1.40it/s]\n"
     ]
    },
    {
     "name": "stdout",
     "output_type": "stream",
     "text": [
      "Best Avg. Accuracy \n",
      " [[0.41       0.455      0.475      0.47875    0.478     ]\n",
      " [0.755      0.7425     0.73       0.         0.        ]\n",
      " [0.79       0.7525     0.73       0.72625    0.738     ]\n",
      " [0.795      0.79       0.77333333 0.77125    0.766     ]\n",
      " [0.71       0.7525     0.76       0.7375     0.732     ]]\n",
      "Best Lambda \n",
      " [[1.e-05 1.e-05 1.e-05 1.e-05 1.e-05]\n",
      " [1.e-05 1.e-05 1.e-05 0.e+00 0.e+00]\n",
      " [1.e-05 1.e-01 1.e-02 1.e-04 1.e-03]\n",
      " [1.e-04 1.e-01 1.e-02 1.e-01 1.e-02]\n",
      " [1.e-03 1.e-01 1.e-01 1.e-01 1.e-01]]\n",
      "800 Samples\n",
      "Current Time = 19:19:50\n",
      "fold 0\n"
     ]
    },
    {
     "name": "stderr",
     "output_type": "stream",
     "text": [
      "100%|██████████| 600/600 [04:51<00:00,  2.06it/s]\n",
      "100%|██████████| 200/200 [03:09<00:00,  1.05it/s]\n"
     ]
    },
    {
     "name": "stdout",
     "output_type": "stream",
     "text": [
      "Current Time = 19:27:51\n",
      "fold 1\n"
     ]
    },
    {
     "name": "stderr",
     "output_type": "stream",
     "text": [
      "100%|██████████| 600/600 [04:50<00:00,  2.07it/s]\n",
      "100%|██████████| 200/200 [03:09<00:00,  1.06it/s]\n"
     ]
    },
    {
     "name": "stdout",
     "output_type": "stream",
     "text": [
      "Current Time = 19:35:51\n",
      "fold 2\n"
     ]
    },
    {
     "name": "stderr",
     "output_type": "stream",
     "text": [
      "100%|██████████| 600/600 [04:50<00:00,  2.07it/s]\n",
      "100%|██████████| 200/200 [03:13<00:00,  1.04it/s]\n"
     ]
    },
    {
     "name": "stdout",
     "output_type": "stream",
     "text": [
      "Current Time = 19:43:54\n",
      "fold 3\n"
     ]
    },
    {
     "name": "stderr",
     "output_type": "stream",
     "text": [
      "100%|██████████| 600/600 [04:53<00:00,  2.05it/s]\n",
      "100%|██████████| 200/200 [03:12<00:00,  1.04it/s]\n"
     ]
    },
    {
     "name": "stdout",
     "output_type": "stream",
     "text": [
      "Best Avg. Accuracy \n",
      " [[0.41       0.455      0.475      0.47875    0.478     ]\n",
      " [0.755      0.7425     0.73       0.7375     0.        ]\n",
      " [0.79       0.7525     0.73       0.72625    0.738     ]\n",
      " [0.795      0.79       0.77333333 0.77125    0.766     ]\n",
      " [0.71       0.7525     0.76       0.7375     0.732     ]]\n",
      "Best Lambda \n",
      " [[1.e-05 1.e-05 1.e-05 1.e-05 1.e-05]\n",
      " [1.e-05 1.e-05 1.e-05 1.e-05 0.e+00]\n",
      " [1.e-05 1.e-01 1.e-02 1.e-04 1.e-03]\n",
      " [1.e-04 1.e-01 1.e-02 1.e-01 1.e-02]\n",
      " [1.e-03 1.e-01 1.e-01 1.e-01 1.e-01]]\n",
      "1000 Samples\n",
      "Current Time = 19:52:00\n",
      "fold 0\n"
     ]
    },
    {
     "name": "stderr",
     "output_type": "stream",
     "text": [
      "100%|██████████| 750/750 [07:40<00:00,  1.63it/s]\n",
      "100%|██████████| 250/250 [04:58<00:00,  1.19s/it]\n"
     ]
    },
    {
     "name": "stdout",
     "output_type": "stream",
     "text": [
      "Current Time = 20:04:39\n",
      "fold 1\n"
     ]
    },
    {
     "name": "stderr",
     "output_type": "stream",
     "text": [
      "100%|██████████| 750/750 [07:41<00:00,  1.63it/s]\n",
      "100%|██████████| 250/250 [05:00<00:00,  1.20s/it]\n"
     ]
    },
    {
     "name": "stdout",
     "output_type": "stream",
     "text": [
      "Current Time = 20:17:21\n",
      "fold 2\n"
     ]
    },
    {
     "name": "stderr",
     "output_type": "stream",
     "text": [
      "100%|██████████| 750/750 [07:34<00:00,  1.65it/s]\n",
      "100%|██████████| 250/250 [04:59<00:00,  1.20s/it]\n"
     ]
    },
    {
     "name": "stdout",
     "output_type": "stream",
     "text": [
      "Current Time = 20:29:56\n",
      "fold 3\n"
     ]
    },
    {
     "name": "stderr",
     "output_type": "stream",
     "text": [
      "100%|██████████| 750/750 [07:37<00:00,  1.64it/s]\n",
      "100%|██████████| 250/250 [06:38<00:00,  1.59s/it]"
     ]
    },
    {
     "name": "stdout",
     "output_type": "stream",
     "text": [
      "Best Avg. Accuracy \n",
      " [[0.41       0.455      0.475      0.47875    0.478     ]\n",
      " [0.755      0.7425     0.73       0.7375     0.744     ]\n",
      " [0.79       0.7525     0.73       0.72625    0.738     ]\n",
      " [0.795      0.79       0.77333333 0.77125    0.766     ]\n",
      " [0.71       0.7525     0.76       0.7375     0.732     ]]\n",
      "Best Lambda \n",
      " [[1.e-05 1.e-05 1.e-05 1.e-05 1.e-05]\n",
      " [1.e-05 1.e-05 1.e-05 1.e-05 1.e-05]\n",
      " [1.e-05 1.e-01 1.e-02 1.e-04 1.e-03]\n",
      " [1.e-04 1.e-01 1.e-02 1.e-01 1.e-02]\n",
      " [1.e-03 1.e-01 1.e-01 1.e-01 1.e-01]]\n",
      "Degree 3\n",
      "200 Samples\n",
      "400 Samples\n",
      "600 Samples\n",
      "800 Samples\n",
      "1000 Samples\n",
      "Degree 4\n",
      "200 Samples\n",
      "400 Samples\n",
      "600 Samples\n",
      "800 Samples\n",
      "1000 Samples\n",
      "Degree 5\n",
      "200 Samples\n",
      "400 Samples\n",
      "600 Samples\n",
      "800 Samples\n",
      "1000 Samples\n"
     ]
    },
    {
     "name": "stderr",
     "output_type": "stream",
     "text": [
      "\n"
     ]
    }
   ],
   "source": [
    "for i in range(len(degs)):\n",
    "\n",
    "    print(f'Degree {degs[i]}')\n",
    "    kernel = SetInvariantClassification(50, 2, degs[i])\n",
    "\n",
    "    for j in range(len(n_samples)):\n",
    "        print(f'{n_samples[j]} Samples')\n",
    "        X = train_X[:n_samples[j]]\n",
    "        y = train_y[:n_samples[j]]\n",
    "\n",
    "        val_accuracies = np.zeros((folds, len(lams)))\n",
    "\n",
    "        if best_lams[i][j] == 0:\n",
    "            fold = 0\n",
    "            for train_index, test_index in kfold.split(X):\n",
    "                now = datetime.now()\n",
    "\n",
    "                current_time = now.strftime(\"%H:%M:%S\")\n",
    "                print(\"Current Time =\", current_time)\n",
    "                print('fold', fold)\n",
    "\n",
    "                train_data = X[train_index]\n",
    "                train_values = y[train_index]\n",
    "                val_data = X[test_index]\n",
    "                val_values = y[test_index]\n",
    "\n",
    "                kernel_matrix = kernel.gram_matrix(train_data)\n",
    "                prediction_matrix = kernel.matrix(val_data, train_data)\n",
    "\n",
    "                for l in range(len(lams)):\n",
    "                    alpha = np.linalg.solve(kernel_matrix + lams[l]*np.eye(kernel_matrix.shape[0]), train_values)\n",
    "                    val_accuracies[fold][l] = 1 - np.count_nonzero(val_values - np.sign(prediction_matrix@alpha))/val_data.shape[0]\n",
    "\n",
    "                fold += 1\n",
    "\n",
    "            best_lam = lams[np.argmax(np.mean(val_accuracies, axis=0))]\n",
    "            best_lams[i][j] = best_lam\n",
    "            avg_val_accuracies[i][j] = np.max(np.mean(val_accuracies, axis=0))\n",
    "\n",
    "            print('Best Avg. Accuracy \\n', avg_val_accuracies)\n",
    "            print('Best Lambda \\n', best_lams)\n",
    "\n",
    "            np.save('Data/2D-Isotropic-Classification-val-acc.npy', avg_val_accuracies)\n",
    "            np.save('Data/2D-Isotropic-Classification-lambda.npy', best_lams)\n"
   ]
  },
  {
   "cell_type": "code",
   "execution_count": 258,
   "metadata": {},
   "outputs": [],
   "source": [
    "data = np.load('Data/2D-Isotropic-Classification-Train.npz')\n",
    "train_X = data['x']\n",
    "train_y = data['y']"
   ]
  },
  {
   "cell_type": "code",
   "execution_count": 259,
   "metadata": {},
   "outputs": [],
   "source": [
    "ker = SetInvariantClassification(50, 2, 3)"
   ]
  },
  {
   "cell_type": "code",
   "execution_count": 260,
   "metadata": {},
   "outputs": [
    {
     "name": "stderr",
     "output_type": "stream",
     "text": [
      "100%|██████████| 1000/1000 [29:44<00:00,  1.78s/it]\n"
     ]
    }
   ],
   "source": [
    "ker.train(train_X, train_y, 0.01)"
   ]
  },
  {
   "cell_type": "code",
   "execution_count": 261,
   "metadata": {},
   "outputs": [
    {
     "name": "stderr",
     "output_type": "stream",
     "text": [
      "100%|██████████| 100/100 [06:02<00:00,  3.62s/it]\n"
     ]
    },
    {
     "data": {
      "text/plain": [
       "0.69"
      ]
     },
     "execution_count": 261,
     "metadata": {},
     "output_type": "execute_result"
    }
   ],
   "source": [
    "ker.accuracy(test_X, test_y)"
   ]
  },
  {
   "cell_type": "code",
   "execution_count": 262,
   "metadata": {},
   "outputs": [
    {
     "data": {
      "text/plain": [
       "0.747"
      ]
     },
     "execution_count": 262,
     "metadata": {},
     "output_type": "execute_result"
    }
   ],
   "source": [
    "ker.training_accuracy"
   ]
  },
  {
   "cell_type": "markdown",
   "metadata": {},
   "source": [
    "# Non-Invariant"
   ]
  },
  {
   "cell_type": "code",
   "execution_count": 279,
   "metadata": {},
   "outputs": [],
   "source": [
    "class SetClassification:\n",
    "\n",
    "    def __init__(self, d, k, n):\n",
    "        self.d = d\n",
    "        self.k = k\n",
    "        self.degree = n\n",
    "\n",
    "    def evaluate(self, x, y):\n",
    "        \n",
    "        x = x.flatten()\n",
    "        y = y.flatten()\n",
    "            \n",
    "        return np.sum([(x@y)**(i+1)/factorial(i+1) for i in range(self.degree)])\n",
    "\n",
    "    def matrix(self, X, Y):\n",
    "\n",
    "        mat = np.zeros((X.shape[0], Y.shape[0]))  \n",
    "        for i in tqdm(range(X.shape[0])):\n",
    "            #print(f'Row {i}')\n",
    "            for j in range(Y.shape[0]):\n",
    "            #    print(f'column {j}')\n",
    "                mat[i][j] = self.evaluate(X[i], Y[j])\n",
    "\n",
    "        return mat\n",
    "    \n",
    "    def gram_matrix(self, X):\n",
    "        mat = np.zeros((X.shape[0], X.shape[0]))\n",
    "\n",
    "        for i in tqdm(range(X.shape[0])):\n",
    "            #print(f'Row {i}')\n",
    "            for j in range(i, X.shape[0]):\n",
    "                v = self.evaluate(X[i], X[j])\n",
    "                mat[i][j] = v\n",
    "                mat[j][i] = v\n",
    "\n",
    "        return mat\n",
    "\n",
    "    def predict(self, X):\n",
    "\n",
    "        P = self.matrix(X, self.train_data)\n",
    "\n",
    "        return np.sign(P @ self.alpha)\n",
    "\n",
    "    def train(self, X, y, lam):\n",
    "\n",
    "        N = X.shape[0]\n",
    "        M = self.gram_matrix(X)\n",
    "\n",
    "        alpha = np.linalg.solve(M + lam * np.eye(N), y)\n",
    "\n",
    "        self.alpha = alpha\n",
    "        self.train_data = X\n",
    "        self.train_values = y\n",
    "        self.training_accuracy = 1-np.count_nonzero(y - np.sign(M@alpha))/X.shape[0]\n",
    "    \n",
    "    def accuracy(self, X, y):    \n",
    "        return 1-np.count_nonzero(y - self.predict(X))/X.shape[0]\n",
    "\n",
    "\n",
    "        \n"
   ]
  },
  {
   "cell_type": "code",
   "execution_count": 280,
   "metadata": {},
   "outputs": [],
   "source": [
    "avg_val_accuracies = np.zeros((5, 5))\n",
    "best_lams = np.zeros((5, 5))"
   ]
  },
  {
   "cell_type": "code",
   "execution_count": 282,
   "metadata": {},
   "outputs": [
    {
     "name": "stdout",
     "output_type": "stream",
     "text": [
      "Degree 1\n",
      "200 Samples\n",
      "Current Time = 15:09:20\n",
      "fold 0\n"
     ]
    },
    {
     "name": "stderr",
     "output_type": "stream",
     "text": [
      "100%|██████████| 150/150 [00:00<00:00, 202.83it/s]\n",
      "100%|██████████| 50/50 [00:00<00:00, 162.60it/s]\n"
     ]
    },
    {
     "name": "stdout",
     "output_type": "stream",
     "text": [
      "Current Time = 15:09:21\n",
      "fold 1\n"
     ]
    },
    {
     "name": "stderr",
     "output_type": "stream",
     "text": [
      "100%|██████████| 150/150 [00:00<00:00, 320.97it/s]\n",
      "100%|██████████| 50/50 [00:00<00:00, 89.31it/s]\n"
     ]
    },
    {
     "name": "stdout",
     "output_type": "stream",
     "text": [
      "Current Time = 15:09:22\n",
      "fold 2\n"
     ]
    },
    {
     "name": "stderr",
     "output_type": "stream",
     "text": [
      "100%|██████████| 150/150 [00:01<00:00, 133.60it/s]\n",
      "100%|██████████| 50/50 [00:00<00:00, 171.97it/s]\n"
     ]
    },
    {
     "name": "stdout",
     "output_type": "stream",
     "text": [
      "Current Time = 15:09:23\n",
      "fold 3\n"
     ]
    },
    {
     "name": "stderr",
     "output_type": "stream",
     "text": [
      "100%|██████████| 150/150 [00:00<00:00, 254.61it/s]\n",
      "100%|██████████| 50/50 [00:00<00:00, 111.16it/s]\n"
     ]
    },
    {
     "name": "stdout",
     "output_type": "stream",
     "text": [
      "Best Avg. Accuracy \n",
      " [[0.485      0.         0.         0.         0.        ]\n",
      " [0.         0.         0.         0.         0.        ]\n",
      " [0.475      0.4775     0.45166667 0.46375    0.501     ]\n",
      " [0.535      0.5625     0.51833333 0.52125    0.524     ]\n",
      " [0.48       0.485      0.45666667 0.44625    0.495     ]]\n",
      "Best Lambda \n",
      " [[1.e-01 0.e+00 0.e+00 0.e+00 0.e+00]\n",
      " [0.e+00 0.e+00 0.e+00 0.e+00 0.e+00]\n",
      " [1.e-05 1.e-05 1.e-01 1.e-05 1.e-02]\n",
      " [1.e-05 1.e-02 1.e-05 1.e-01 1.e-01]\n",
      " [1.e-05 1.e-05 1.e-05 1.e-05 1.e-05]]\n",
      "400 Samples\n",
      "Current Time = 15:09:25\n",
      "fold 0\n"
     ]
    },
    {
     "name": "stderr",
     "output_type": "stream",
     "text": [
      "100%|██████████| 300/300 [00:03<00:00, 99.15it/s] \n",
      "100%|██████████| 100/100 [00:02<00:00, 48.95it/s]\n"
     ]
    },
    {
     "name": "stdout",
     "output_type": "stream",
     "text": [
      "Current Time = 15:09:30\n",
      "fold 1\n"
     ]
    },
    {
     "name": "stderr",
     "output_type": "stream",
     "text": [
      "100%|██████████| 300/300 [00:02<00:00, 105.46it/s]\n",
      "100%|██████████| 100/100 [00:00<00:00, 118.90it/s]\n"
     ]
    },
    {
     "name": "stdout",
     "output_type": "stream",
     "text": [
      "Current Time = 15:09:33\n",
      "fold 2\n"
     ]
    },
    {
     "name": "stderr",
     "output_type": "stream",
     "text": [
      "100%|██████████| 300/300 [00:01<00:00, 235.64it/s]\n",
      "100%|██████████| 100/100 [00:00<00:00, 122.45it/s]\n"
     ]
    },
    {
     "name": "stdout",
     "output_type": "stream",
     "text": [
      "Current Time = 15:09:35\n",
      "fold 3\n"
     ]
    },
    {
     "name": "stderr",
     "output_type": "stream",
     "text": [
      "100%|██████████| 300/300 [00:01<00:00, 226.25it/s]\n",
      "100%|██████████| 100/100 [00:00<00:00, 123.05it/s]\n"
     ]
    },
    {
     "name": "stdout",
     "output_type": "stream",
     "text": [
      "Best Avg. Accuracy \n",
      " [[0.485      0.5175     0.         0.         0.        ]\n",
      " [0.         0.         0.         0.         0.        ]\n",
      " [0.475      0.4775     0.45166667 0.46375    0.501     ]\n",
      " [0.535      0.5625     0.51833333 0.52125    0.524     ]\n",
      " [0.48       0.485      0.45666667 0.44625    0.495     ]]\n",
      "Best Lambda \n",
      " [[1.e-01 1.e-05 0.e+00 0.e+00 0.e+00]\n",
      " [0.e+00 0.e+00 0.e+00 0.e+00 0.e+00]\n",
      " [1.e-05 1.e-05 1.e-01 1.e-05 1.e-02]\n",
      " [1.e-05 1.e-02 1.e-05 1.e-01 1.e-01]\n",
      " [1.e-05 1.e-05 1.e-05 1.e-05 1.e-05]]\n",
      "600 Samples\n",
      "Current Time = 15:09:38\n",
      "fold 0\n"
     ]
    },
    {
     "name": "stderr",
     "output_type": "stream",
     "text": [
      "100%|██████████| 450/450 [00:03<00:00, 113.75it/s]\n",
      "100%|██████████| 150/150 [00:02<00:00, 66.03it/s]\n"
     ]
    },
    {
     "name": "stdout",
     "output_type": "stream",
     "text": [
      "Current Time = 15:09:44\n",
      "fold 1\n"
     ]
    },
    {
     "name": "stderr",
     "output_type": "stream",
     "text": [
      "100%|██████████| 450/450 [00:02<00:00, 152.95it/s]\n",
      "100%|██████████| 150/150 [00:01<00:00, 80.09it/s]\n"
     ]
    },
    {
     "name": "stdout",
     "output_type": "stream",
     "text": [
      "Current Time = 15:09:49\n",
      "fold 2\n"
     ]
    },
    {
     "name": "stderr",
     "output_type": "stream",
     "text": [
      "100%|██████████| 450/450 [00:03<00:00, 148.18it/s]\n",
      "100%|██████████| 150/150 [00:01<00:00, 84.04it/s]\n"
     ]
    },
    {
     "name": "stdout",
     "output_type": "stream",
     "text": [
      "Current Time = 15:09:54\n",
      "fold 3\n"
     ]
    },
    {
     "name": "stderr",
     "output_type": "stream",
     "text": [
      "100%|██████████| 450/450 [00:02<00:00, 159.85it/s]\n",
      "100%|██████████| 150/150 [00:01<00:00, 85.11it/s]\n"
     ]
    },
    {
     "name": "stdout",
     "output_type": "stream",
     "text": [
      "Best Avg. Accuracy \n",
      " [[0.485      0.5175     0.55       0.         0.        ]\n",
      " [0.         0.         0.         0.         0.        ]\n",
      " [0.475      0.4775     0.45166667 0.46375    0.501     ]\n",
      " [0.535      0.5625     0.51833333 0.52125    0.524     ]\n",
      " [0.48       0.485      0.45666667 0.44625    0.495     ]]\n",
      "Best Lambda \n",
      " [[1.e-01 1.e-05 1.e-05 0.e+00 0.e+00]\n",
      " [0.e+00 0.e+00 0.e+00 0.e+00 0.e+00]\n",
      " [1.e-05 1.e-05 1.e-01 1.e-05 1.e-02]\n",
      " [1.e-05 1.e-02 1.e-05 1.e-01 1.e-01]\n",
      " [1.e-05 1.e-05 1.e-05 1.e-05 1.e-05]]\n",
      "800 Samples\n",
      "Current Time = 15:09:58\n",
      "fold 0\n"
     ]
    },
    {
     "name": "stderr",
     "output_type": "stream",
     "text": [
      "100%|██████████| 600/600 [00:05<00:00, 105.16it/s]\n",
      "100%|██████████| 200/200 [00:03<00:00, 64.09it/s]\n"
     ]
    },
    {
     "name": "stdout",
     "output_type": "stream",
     "text": [
      "Current Time = 15:10:07\n",
      "fold 1\n"
     ]
    },
    {
     "name": "stderr",
     "output_type": "stream",
     "text": [
      "100%|██████████| 600/600 [00:06<00:00, 94.65it/s] \n",
      "100%|██████████| 200/200 [00:04<00:00, 47.65it/s]\n"
     ]
    },
    {
     "name": "stdout",
     "output_type": "stream",
     "text": [
      "Current Time = 15:10:18\n",
      "fold 2\n"
     ]
    },
    {
     "name": "stderr",
     "output_type": "stream",
     "text": [
      "100%|██████████| 600/600 [00:05<00:00, 109.00it/s]\n",
      "100%|██████████| 200/200 [00:03<00:00, 61.02it/s]\n"
     ]
    },
    {
     "name": "stdout",
     "output_type": "stream",
     "text": [
      "Current Time = 15:10:27\n",
      "fold 3\n"
     ]
    },
    {
     "name": "stderr",
     "output_type": "stream",
     "text": [
      "100%|██████████| 600/600 [00:05<00:00, 118.52it/s]\n",
      "100%|██████████| 200/200 [00:03<00:00, 58.71it/s]\n"
     ]
    },
    {
     "name": "stdout",
     "output_type": "stream",
     "text": [
      "Best Avg. Accuracy \n",
      " [[0.485      0.5175     0.55       0.52875    0.        ]\n",
      " [0.         0.         0.         0.         0.        ]\n",
      " [0.475      0.4775     0.45166667 0.46375    0.501     ]\n",
      " [0.535      0.5625     0.51833333 0.52125    0.524     ]\n",
      " [0.48       0.485      0.45666667 0.44625    0.495     ]]\n",
      "Best Lambda \n",
      " [[1.e-01 1.e-05 1.e-05 1.e-05 0.e+00]\n",
      " [0.e+00 0.e+00 0.e+00 0.e+00 0.e+00]\n",
      " [1.e-05 1.e-05 1.e-01 1.e-05 1.e-02]\n",
      " [1.e-05 1.e-02 1.e-05 1.e-01 1.e-01]\n",
      " [1.e-05 1.e-05 1.e-05 1.e-05 1.e-05]]\n",
      "1000 Samples\n",
      "Current Time = 15:10:35\n",
      "fold 0\n"
     ]
    },
    {
     "name": "stderr",
     "output_type": "stream",
     "text": [
      "100%|██████████| 750/750 [00:08<00:00, 87.66it/s] \n",
      "100%|██████████| 250/250 [00:04<00:00, 52.27it/s]\n"
     ]
    },
    {
     "name": "stdout",
     "output_type": "stream",
     "text": [
      "Current Time = 15:10:49\n",
      "fold 1\n"
     ]
    },
    {
     "name": "stderr",
     "output_type": "stream",
     "text": [
      "100%|██████████| 750/750 [00:07<00:00, 94.48it/s] \n",
      "100%|██████████| 250/250 [00:05<00:00, 49.15it/s]\n"
     ]
    },
    {
     "name": "stdout",
     "output_type": "stream",
     "text": [
      "Current Time = 15:11:02\n",
      "fold 2\n"
     ]
    },
    {
     "name": "stderr",
     "output_type": "stream",
     "text": [
      "100%|██████████| 750/750 [00:08<00:00, 88.51it/s] \n",
      "100%|██████████| 250/250 [00:05<00:00, 48.61it/s]\n"
     ]
    },
    {
     "name": "stdout",
     "output_type": "stream",
     "text": [
      "Current Time = 15:11:16\n",
      "fold 3\n"
     ]
    },
    {
     "name": "stderr",
     "output_type": "stream",
     "text": [
      "100%|██████████| 750/750 [00:07<00:00, 99.56it/s] \n",
      "100%|██████████| 250/250 [00:05<00:00, 49.69it/s]\n"
     ]
    },
    {
     "name": "stdout",
     "output_type": "stream",
     "text": [
      "Best Avg. Accuracy \n",
      " [[0.485      0.5175     0.55       0.52875    0.491     ]\n",
      " [0.         0.         0.         0.         0.        ]\n",
      " [0.475      0.4775     0.45166667 0.46375    0.501     ]\n",
      " [0.535      0.5625     0.51833333 0.52125    0.524     ]\n",
      " [0.48       0.485      0.45666667 0.44625    0.495     ]]\n",
      "Best Lambda \n",
      " [[1.e-01 1.e-05 1.e-05 1.e-05 1.e-05]\n",
      " [0.e+00 0.e+00 0.e+00 0.e+00 0.e+00]\n",
      " [1.e-05 1.e-05 1.e-01 1.e-05 1.e-02]\n",
      " [1.e-05 1.e-02 1.e-05 1.e-01 1.e-01]\n",
      " [1.e-05 1.e-05 1.e-05 1.e-05 1.e-05]]\n",
      "Degree 2\n",
      "200 Samples\n",
      "Current Time = 15:11:28\n",
      "fold 0\n"
     ]
    },
    {
     "name": "stderr",
     "output_type": "stream",
     "text": [
      "100%|██████████| 150/150 [00:00<00:00, 285.05it/s]\n",
      "100%|██████████| 50/50 [00:00<00:00, 170.47it/s]\n"
     ]
    },
    {
     "name": "stdout",
     "output_type": "stream",
     "text": [
      "Current Time = 15:11:29\n",
      "fold 1\n"
     ]
    },
    {
     "name": "stderr",
     "output_type": "stream",
     "text": [
      "100%|██████████| 150/150 [00:00<00:00, 265.42it/s]\n",
      "100%|██████████| 50/50 [00:00<00:00, 104.45it/s]\n"
     ]
    },
    {
     "name": "stdout",
     "output_type": "stream",
     "text": [
      "Current Time = 15:11:30\n",
      "fold 2\n"
     ]
    },
    {
     "name": "stderr",
     "output_type": "stream",
     "text": [
      "100%|██████████| 150/150 [00:00<00:00, 296.57it/s]\n",
      "100%|██████████| 50/50 [00:00<00:00, 83.23it/s] \n"
     ]
    },
    {
     "name": "stdout",
     "output_type": "stream",
     "text": [
      "Current Time = 15:11:31\n",
      "fold 3\n"
     ]
    },
    {
     "name": "stderr",
     "output_type": "stream",
     "text": [
      "100%|██████████| 150/150 [00:01<00:00, 144.50it/s]\n",
      "100%|██████████| 50/50 [00:00<00:00, 125.52it/s]\n"
     ]
    },
    {
     "name": "stdout",
     "output_type": "stream",
     "text": [
      "Best Avg. Accuracy \n",
      " [[0.485      0.5175     0.55       0.52875    0.491     ]\n",
      " [0.48       0.         0.         0.         0.        ]\n",
      " [0.475      0.4775     0.45166667 0.46375    0.501     ]\n",
      " [0.535      0.5625     0.51833333 0.52125    0.524     ]\n",
      " [0.48       0.485      0.45666667 0.44625    0.495     ]]\n",
      "Best Lambda \n",
      " [[1.e-01 1.e-05 1.e-05 1.e-05 1.e-05]\n",
      " [1.e-05 0.e+00 0.e+00 0.e+00 0.e+00]\n",
      " [1.e-05 1.e-05 1.e-01 1.e-05 1.e-02]\n",
      " [1.e-05 1.e-02 1.e-05 1.e-01 1.e-01]\n",
      " [1.e-05 1.e-05 1.e-05 1.e-05 1.e-05]]\n",
      "400 Samples\n",
      "Current Time = 15:11:33\n",
      "fold 0\n"
     ]
    },
    {
     "name": "stderr",
     "output_type": "stream",
     "text": [
      "100%|██████████| 300/300 [00:03<00:00, 79.17it/s] \n",
      "100%|██████████| 100/100 [00:01<00:00, 78.98it/s]\n"
     ]
    },
    {
     "name": "stdout",
     "output_type": "stream",
     "text": [
      "Current Time = 15:11:38\n",
      "fold 1\n"
     ]
    },
    {
     "name": "stderr",
     "output_type": "stream",
     "text": [
      "100%|██████████| 300/300 [00:02<00:00, 122.69it/s]\n",
      "100%|██████████| 100/100 [00:01<00:00, 83.82it/s]\n"
     ]
    },
    {
     "name": "stdout",
     "output_type": "stream",
     "text": [
      "Current Time = 15:11:41\n",
      "fold 2\n"
     ]
    },
    {
     "name": "stderr",
     "output_type": "stream",
     "text": [
      "100%|██████████| 300/300 [00:01<00:00, 165.22it/s]\n",
      "100%|██████████| 100/100 [00:01<00:00, 87.38it/s]\n"
     ]
    },
    {
     "name": "stdout",
     "output_type": "stream",
     "text": [
      "Current Time = 15:11:44\n",
      "fold 3\n"
     ]
    },
    {
     "name": "stderr",
     "output_type": "stream",
     "text": [
      "100%|██████████| 300/300 [00:01<00:00, 167.21it/s]\n",
      "100%|██████████| 100/100 [00:01<00:00, 70.63it/s]\n"
     ]
    },
    {
     "name": "stdout",
     "output_type": "stream",
     "text": [
      "Best Avg. Accuracy \n",
      " [[0.485      0.5175     0.55       0.52875    0.491     ]\n",
      " [0.48       0.5225     0.         0.         0.        ]\n",
      " [0.475      0.4775     0.45166667 0.46375    0.501     ]\n",
      " [0.535      0.5625     0.51833333 0.52125    0.524     ]\n",
      " [0.48       0.485      0.45666667 0.44625    0.495     ]]\n",
      "Best Lambda \n",
      " [[1.e-01 1.e-05 1.e-05 1.e-05 1.e-05]\n",
      " [1.e-05 1.e-05 0.e+00 0.e+00 0.e+00]\n",
      " [1.e-05 1.e-05 1.e-01 1.e-05 1.e-02]\n",
      " [1.e-05 1.e-02 1.e-05 1.e-01 1.e-01]\n",
      " [1.e-05 1.e-05 1.e-05 1.e-05 1.e-05]]\n",
      "600 Samples\n",
      "Current Time = 15:11:48\n",
      "fold 0\n"
     ]
    },
    {
     "name": "stderr",
     "output_type": "stream",
     "text": [
      "100%|██████████| 450/450 [00:04<00:00, 97.17it/s] \n",
      "100%|██████████| 150/150 [00:02<00:00, 51.89it/s]\n"
     ]
    },
    {
     "name": "stdout",
     "output_type": "stream",
     "text": [
      "Current Time = 15:11:55\n",
      "fold 1\n"
     ]
    },
    {
     "name": "stderr",
     "output_type": "stream",
     "text": [
      "100%|██████████| 450/450 [00:03<00:00, 113.32it/s]\n",
      "100%|██████████| 150/150 [00:02<00:00, 63.83it/s]\n"
     ]
    },
    {
     "name": "stdout",
     "output_type": "stream",
     "text": [
      "Current Time = 15:12:02\n",
      "fold 2\n"
     ]
    },
    {
     "name": "stderr",
     "output_type": "stream",
     "text": [
      "100%|██████████| 450/450 [00:03<00:00, 118.69it/s]\n",
      "100%|██████████| 150/150 [00:02<00:00, 54.73it/s]\n"
     ]
    },
    {
     "name": "stdout",
     "output_type": "stream",
     "text": [
      "Current Time = 15:12:08\n",
      "fold 3\n"
     ]
    },
    {
     "name": "stderr",
     "output_type": "stream",
     "text": [
      "100%|██████████| 450/450 [00:03<00:00, 120.23it/s]\n",
      "100%|██████████| 150/150 [00:02<00:00, 63.43it/s]\n"
     ]
    },
    {
     "name": "stdout",
     "output_type": "stream",
     "text": [
      "Best Avg. Accuracy \n",
      " [[0.485      0.5175     0.55       0.52875    0.491     ]\n",
      " [0.48       0.5225     0.51       0.         0.        ]\n",
      " [0.475      0.4775     0.45166667 0.46375    0.501     ]\n",
      " [0.535      0.5625     0.51833333 0.52125    0.524     ]\n",
      " [0.48       0.485      0.45666667 0.44625    0.495     ]]\n",
      "Best Lambda \n",
      " [[1.e-01 1.e-05 1.e-05 1.e-05 1.e-05]\n",
      " [1.e-05 1.e-05 1.e-01 0.e+00 0.e+00]\n",
      " [1.e-05 1.e-05 1.e-01 1.e-05 1.e-02]\n",
      " [1.e-05 1.e-02 1.e-05 1.e-01 1.e-01]\n",
      " [1.e-05 1.e-05 1.e-05 1.e-05 1.e-05]]\n",
      "800 Samples\n",
      "Current Time = 15:12:14\n",
      "fold 0\n"
     ]
    },
    {
     "name": "stderr",
     "output_type": "stream",
     "text": [
      "100%|██████████| 600/600 [00:07<00:00, 76.82it/s] \n",
      "100%|██████████| 200/200 [00:04<00:00, 43.02it/s]\n"
     ]
    },
    {
     "name": "stdout",
     "output_type": "stream",
     "text": [
      "Current Time = 15:12:27\n",
      "fold 1\n"
     ]
    },
    {
     "name": "stderr",
     "output_type": "stream",
     "text": [
      "100%|██████████| 600/600 [00:06<00:00, 86.02it/s] \n",
      "100%|██████████| 200/200 [00:04<00:00, 41.57it/s]\n"
     ]
    },
    {
     "name": "stdout",
     "output_type": "stream",
     "text": [
      "Current Time = 15:12:39\n",
      "fold 2\n"
     ]
    },
    {
     "name": "stderr",
     "output_type": "stream",
     "text": [
      "100%|██████████| 600/600 [00:09<00:00, 64.01it/s] \n",
      "100%|██████████| 200/200 [00:04<00:00, 41.26it/s]\n"
     ]
    },
    {
     "name": "stdout",
     "output_type": "stream",
     "text": [
      "Current Time = 15:12:53\n",
      "fold 3\n"
     ]
    },
    {
     "name": "stderr",
     "output_type": "stream",
     "text": [
      "100%|██████████| 600/600 [00:07<00:00, 85.04it/s] \n",
      "100%|██████████| 200/200 [00:04<00:00, 45.05it/s]\n"
     ]
    },
    {
     "name": "stdout",
     "output_type": "stream",
     "text": [
      "Best Avg. Accuracy \n",
      " [[0.485      0.5175     0.55       0.52875    0.491     ]\n",
      " [0.48       0.5225     0.51       0.5025     0.        ]\n",
      " [0.475      0.4775     0.45166667 0.46375    0.501     ]\n",
      " [0.535      0.5625     0.51833333 0.52125    0.524     ]\n",
      " [0.48       0.485      0.45666667 0.44625    0.495     ]]\n",
      "Best Lambda \n",
      " [[1.e-01 1.e-05 1.e-05 1.e-05 1.e-05]\n",
      " [1.e-05 1.e-05 1.e-01 1.e-05 0.e+00]\n",
      " [1.e-05 1.e-05 1.e-01 1.e-05 1.e-02]\n",
      " [1.e-05 1.e-02 1.e-05 1.e-01 1.e-01]\n",
      " [1.e-05 1.e-05 1.e-05 1.e-05 1.e-05]]\n",
      "1000 Samples\n",
      "Current Time = 15:13:05\n",
      "fold 0\n"
     ]
    },
    {
     "name": "stderr",
     "output_type": "stream",
     "text": [
      "100%|██████████| 750/750 [00:11<00:00, 62.85it/s] \n",
      "100%|██████████| 250/250 [00:07<00:00, 35.22it/s]\n"
     ]
    },
    {
     "name": "stdout",
     "output_type": "stream",
     "text": [
      "Current Time = 15:13:24\n",
      "fold 1\n"
     ]
    },
    {
     "name": "stderr",
     "output_type": "stream",
     "text": [
      "100%|██████████| 750/750 [00:10<00:00, 70.43it/s] \n",
      "100%|██████████| 250/250 [00:07<00:00, 35.47it/s]\n"
     ]
    },
    {
     "name": "stdout",
     "output_type": "stream",
     "text": [
      "Current Time = 15:13:42\n",
      "fold 2\n"
     ]
    },
    {
     "name": "stderr",
     "output_type": "stream",
     "text": [
      "100%|██████████| 750/750 [00:10<00:00, 71.82it/s] \n",
      "100%|██████████| 250/250 [00:06<00:00, 37.44it/s]\n"
     ]
    },
    {
     "name": "stdout",
     "output_type": "stream",
     "text": [
      "Current Time = 15:13:59\n",
      "fold 3\n"
     ]
    },
    {
     "name": "stderr",
     "output_type": "stream",
     "text": [
      "100%|██████████| 750/750 [00:10<00:00, 71.24it/s] \n",
      "100%|██████████| 250/250 [00:06<00:00, 35.80it/s]\n"
     ]
    },
    {
     "name": "stdout",
     "output_type": "stream",
     "text": [
      "Best Avg. Accuracy \n",
      " [[0.485      0.5175     0.55       0.52875    0.491     ]\n",
      " [0.48       0.5225     0.51       0.5025     0.502     ]\n",
      " [0.475      0.4775     0.45166667 0.46375    0.501     ]\n",
      " [0.535      0.5625     0.51833333 0.52125    0.524     ]\n",
      " [0.48       0.485      0.45666667 0.44625    0.495     ]]\n",
      "Best Lambda \n",
      " [[1.e-01 1.e-05 1.e-05 1.e-05 1.e-05]\n",
      " [1.e-05 1.e-05 1.e-01 1.e-05 1.e-01]\n",
      " [1.e-05 1.e-05 1.e-01 1.e-05 1.e-02]\n",
      " [1.e-05 1.e-02 1.e-05 1.e-01 1.e-01]\n",
      " [1.e-05 1.e-05 1.e-05 1.e-05 1.e-05]]\n",
      "Degree 3\n",
      "200 Samples\n",
      "400 Samples\n",
      "600 Samples\n",
      "800 Samples\n",
      "1000 Samples\n",
      "Degree 4\n",
      "200 Samples\n",
      "400 Samples\n",
      "600 Samples\n",
      "800 Samples\n",
      "1000 Samples\n",
      "Degree 5\n",
      "200 Samples\n",
      "400 Samples\n",
      "600 Samples\n",
      "800 Samples\n",
      "1000 Samples\n"
     ]
    }
   ],
   "source": [
    "for i in range(len(degs)):\n",
    "\n",
    "    print(f'Degree {degs[i]}')\n",
    "    kernel = SetClassification(50, 2, degs[i])\n",
    "\n",
    "    for j in range(len(n_samples)):\n",
    "        print(f'{n_samples[j]} Samples')\n",
    "        X = train_X[:n_samples[j]]\n",
    "        y = train_y[:n_samples[j]]\n",
    "\n",
    "        val_accuracies = np.zeros((folds, len(lams)))\n",
    "\n",
    "        if best_lams[i][j] == 0:\n",
    "            fold = 0\n",
    "            for train_index, test_index in kfold.split(X):\n",
    "                now = datetime.now()\n",
    "\n",
    "                current_time = now.strftime(\"%H:%M:%S\")\n",
    "                print(\"Current Time =\", current_time)\n",
    "                print('fold', fold)\n",
    "\n",
    "                train_data = X[train_index]\n",
    "                train_values = y[train_index]\n",
    "                val_data = X[test_index]\n",
    "                val_values = y[test_index]\n",
    "\n",
    "                kernel_matrix = kernel.gram_matrix(train_data)\n",
    "                prediction_matrix = kernel.matrix(val_data, train_data)\n",
    "\n",
    "                for l in range(len(lams)):\n",
    "                    alpha = np.linalg.solve(kernel_matrix + lams[l]*np.eye(kernel_matrix.shape[0]), train_values)\n",
    "                    val_accuracies[fold][l] = 1 - np.count_nonzero(val_values - np.sign(prediction_matrix@alpha))/val_data.shape[0]\n",
    "\n",
    "                fold += 1\n",
    "\n",
    "            best_lam = lams[np.argmax(np.mean(val_accuracies, axis=0))]\n",
    "            best_lams[i][j] = best_lam\n",
    "            avg_val_accuracies[i][j] = np.max(np.mean(val_accuracies, axis=0))\n",
    "\n",
    "            print('Best Avg. Accuracy \\n', avg_val_accuracies)\n",
    "            print('Best Lambda \\n', best_lams)\n",
    "\n",
    "            np.save('Data/Non-Invariant-2D-Isotropic-Classification-val-acc.npy', avg_val_accuracies)\n",
    "            np.save('Data/Non-Invariant-2D-Isotropic-Classification-lambda.npy', best_lams)"
   ]
  },
  {
   "cell_type": "markdown",
   "metadata": {},
   "source": [
    "# Test Accuracies"
   ]
  },
  {
   "cell_type": "code",
   "execution_count": 283,
   "metadata": {},
   "outputs": [],
   "source": [
    "invariant_test_acc = np.zeros((5, 5))\n",
    "noninvariant_test_acc = np.zeros((5, 5))"
   ]
  },
  {
   "cell_type": "code",
   "execution_count": 284,
   "metadata": {},
   "outputs": [],
   "source": [
    "invariant_lams = np.load('Data/2D-Isotropic-Classification-lambda.npy')\n",
    "noninvariant_lams = np.load('Data/Non-Invariant-2D-Isotropic-Classification-lambda.npy')"
   ]
  },
  {
   "cell_type": "code",
   "execution_count": 337,
   "metadata": {},
   "outputs": [],
   "source": [
    "np.save('Data/2D-Isotropic-Classification-test-acc.npy', invariant_test_acc)\n",
    "np.save('Data/Non-Invariant-2D-Isotropic-Classification-test-acc.npy', noninvariant_test_acc)"
   ]
  },
  {
   "cell_type": "code",
   "execution_count": 306,
   "metadata": {},
   "outputs": [
    {
     "name": "stdout",
     "output_type": "stream",
     "text": [
      "Degree 1\n",
      "200 Samples\n",
      "400 Samples\n",
      "600 Samples\n",
      "800 Samples\n",
      "1000 Samples\n",
      "Degree 2\n",
      "200 Samples\n",
      "400 Samples\n",
      "600 Samples\n",
      "800 Samples\n",
      "1000 Samples\n",
      "Degree 3\n",
      "200 Samples\n",
      "400 Samples\n",
      "600 Samples\n",
      "800 Samples\n",
      "1000 Samples\n",
      "Degree 4\n",
      "200 Samples\n",
      "400 Samples\n",
      "600 Samples\n",
      "800 Samples\n",
      "1000 Samples\n"
     ]
    },
    {
     "name": "stderr",
     "output_type": "stream",
     "text": [
      "100%|██████████| 1000/1000 [00:25<00:00, 38.76it/s]\n",
      "100%|██████████| 1000/1000 [48:44<00:00,  2.92s/it] \n",
      "100%|██████████| 100/100 [09:52<00:00,  5.93s/it]\n",
      "100%|██████████| 100/100 [00:05<00:00, 18.13it/s]\n"
     ]
    },
    {
     "name": "stdout",
     "output_type": "stream",
     "text": [
      "Invariant Accuracy \n",
      " [[0.51 0.38 0.46 0.48 0.47]\n",
      " [0.65 0.68 0.69 0.69 0.68]\n",
      " [0.7  0.69 0.69 0.7  0.69]\n",
      " [0.68 0.68 0.75 0.73 0.69]\n",
      " [0.   0.   0.   0.   0.  ]]\n",
      "Non-Invariant Accuracy \n",
      " [[0.49 0.42 0.47 0.47 0.44]\n",
      " [0.44 0.39 0.47 0.46 0.49]\n",
      " [0.53 0.45 0.43 0.41 0.5 ]\n",
      " [0.5  0.46 0.45 0.47 0.42]\n",
      " [0.   0.   0.   0.   0.  ]]\n",
      "Degree 5\n",
      "200 Samples\n"
     ]
    },
    {
     "name": "stderr",
     "output_type": "stream",
     "text": [
      "100%|██████████| 200/200 [00:01<00:00, 114.64it/s]\n",
      "100%|██████████| 200/200 [03:26<00:00,  1.03s/it]\n",
      "100%|██████████| 100/100 [03:23<00:00,  2.04s/it]\n",
      "100%|██████████| 100/100 [00:01<00:00, 75.17it/s]\n"
     ]
    },
    {
     "name": "stdout",
     "output_type": "stream",
     "text": [
      "Invariant Accuracy \n",
      " [[0.51 0.38 0.46 0.48 0.47]\n",
      " [0.65 0.68 0.69 0.69 0.68]\n",
      " [0.7  0.69 0.69 0.7  0.69]\n",
      " [0.68 0.68 0.75 0.73 0.69]\n",
      " [0.74 0.   0.   0.   0.  ]]\n",
      "Non-Invariant Accuracy \n",
      " [[0.49 0.42 0.47 0.47 0.44]\n",
      " [0.44 0.39 0.47 0.46 0.49]\n",
      " [0.53 0.45 0.43 0.41 0.5 ]\n",
      " [0.5  0.46 0.45 0.47 0.42]\n",
      " [0.54 0.   0.   0.   0.  ]]\n",
      "400 Samples\n"
     ]
    },
    {
     "name": "stderr",
     "output_type": "stream",
     "text": [
      "100%|██████████| 400/400 [00:05<00:00, 72.88it/s] \n",
      "100%|██████████| 400/400 [13:11<00:00,  1.98s/it]\n",
      "100%|██████████| 100/100 [06:36<00:00,  3.97s/it]\n",
      "100%|██████████| 100/100 [00:02<00:00, 38.12it/s]\n"
     ]
    },
    {
     "name": "stdout",
     "output_type": "stream",
     "text": [
      "Invariant Accuracy \n",
      " [[0.51 0.38 0.46 0.48 0.47]\n",
      " [0.65 0.68 0.69 0.69 0.68]\n",
      " [0.7  0.69 0.69 0.7  0.69]\n",
      " [0.68 0.68 0.75 0.73 0.69]\n",
      " [0.74 0.73 0.   0.   0.  ]]\n",
      "Non-Invariant Accuracy \n",
      " [[0.49 0.42 0.47 0.47 0.44]\n",
      " [0.44 0.39 0.47 0.46 0.49]\n",
      " [0.53 0.45 0.43 0.41 0.5 ]\n",
      " [0.5  0.46 0.45 0.47 0.42]\n",
      " [0.54 0.47 0.   0.   0.  ]]\n",
      "600 Samples\n"
     ]
    },
    {
     "name": "stderr",
     "output_type": "stream",
     "text": [
      "100%|██████████| 600/600 [00:12<00:00, 49.16it/s] \n",
      "100%|██████████| 600/600 [29:28<00:00,  2.95s/it] \n",
      "100%|██████████| 100/100 [10:04<00:00,  6.04s/it]\n",
      "100%|██████████| 100/100 [00:03<00:00, 25.54it/s]\n"
     ]
    },
    {
     "name": "stdout",
     "output_type": "stream",
     "text": [
      "Invariant Accuracy \n",
      " [[0.51 0.38 0.46 0.48 0.47]\n",
      " [0.65 0.68 0.69 0.69 0.68]\n",
      " [0.7  0.69 0.69 0.7  0.69]\n",
      " [0.68 0.68 0.75 0.73 0.69]\n",
      " [0.74 0.73 0.76 0.   0.  ]]\n",
      "Non-Invariant Accuracy \n",
      " [[0.49 0.42 0.47 0.47 0.44]\n",
      " [0.44 0.39 0.47 0.46 0.49]\n",
      " [0.53 0.45 0.43 0.41 0.5 ]\n",
      " [0.5  0.46 0.45 0.47 0.42]\n",
      " [0.54 0.47 0.44 0.   0.  ]]\n",
      "800 Samples\n"
     ]
    },
    {
     "name": "stderr",
     "output_type": "stream",
     "text": [
      "100%|██████████| 800/800 [00:22<00:00, 36.21it/s] \n",
      "100%|██████████| 800/800 [53:02<00:00,  3.98s/it]  \n",
      "100%|██████████| 100/100 [13:19<00:00,  7.99s/it]\n",
      "100%|██████████| 100/100 [00:05<00:00, 18.02it/s]\n"
     ]
    },
    {
     "name": "stdout",
     "output_type": "stream",
     "text": [
      "Invariant Accuracy \n",
      " [[0.51 0.38 0.46 0.48 0.47]\n",
      " [0.65 0.68 0.69 0.69 0.68]\n",
      " [0.7  0.69 0.69 0.7  0.69]\n",
      " [0.68 0.68 0.75 0.73 0.69]\n",
      " [0.74 0.73 0.76 0.72 0.  ]]\n",
      "Non-Invariant Accuracy \n",
      " [[0.49 0.42 0.47 0.47 0.44]\n",
      " [0.44 0.39 0.47 0.46 0.49]\n",
      " [0.53 0.45 0.43 0.41 0.5 ]\n",
      " [0.5  0.46 0.45 0.47 0.42]\n",
      " [0.54 0.47 0.44 0.4  0.  ]]\n",
      "1000 Samples\n"
     ]
    },
    {
     "name": "stderr",
     "output_type": "stream",
     "text": [
      "100%|██████████| 1000/1000 [00:33<00:00, 30.03it/s]\n",
      "100%|██████████| 1000/1000 [1:18:27<00:00,  4.71s/it]\n",
      "100%|██████████| 100/100 [15:45<00:00,  9.46s/it]\n",
      "100%|██████████| 100/100 [00:06<00:00, 16.42it/s]"
     ]
    },
    {
     "name": "stdout",
     "output_type": "stream",
     "text": [
      "Invariant Accuracy \n",
      " [[0.51 0.38 0.46 0.48 0.47]\n",
      " [0.65 0.68 0.69 0.69 0.68]\n",
      " [0.7  0.69 0.69 0.7  0.69]\n",
      " [0.68 0.68 0.75 0.73 0.69]\n",
      " [0.74 0.73 0.76 0.72 0.52]]\n",
      "Non-Invariant Accuracy \n",
      " [[0.49 0.42 0.47 0.47 0.44]\n",
      " [0.44 0.39 0.47 0.46 0.49]\n",
      " [0.53 0.45 0.43 0.41 0.5 ]\n",
      " [0.5  0.46 0.45 0.47 0.42]\n",
      " [0.54 0.47 0.44 0.4  0.45]]\n"
     ]
    },
    {
     "name": "stderr",
     "output_type": "stream",
     "text": [
      "\n"
     ]
    }
   ],
   "source": [
    "for i in range(len(degs)):\n",
    "\n",
    "    print(f'Degree {degs[i]}')\n",
    "    kernel = SetClassification(50, 2, degs[i])\n",
    "    invkernel = SetInvariantClassification(50, 2, degs[i])\n",
    "\n",
    "    for j in range(len(n_samples)):\n",
    "        print(f'{n_samples[j]} Samples')\n",
    "        X = train_X[:n_samples[j]]\n",
    "        y = train_y[:n_samples[j]]\n",
    "\n",
    "        inv_lam = invariant_lams[i][j]\n",
    "        noninv_lam = noninvariant_lams[i][j]\n",
    "\n",
    "        if invariant_test_acc[i][j] == 0:\n",
    "\n",
    "            kernel.train(X, y, noninv_lam)\n",
    "            invkernel.train(X, y, inv_lam)\n",
    "\n",
    "            invariant_test_acc[i][j] = invkernel.accuracy(test_X, test_y)\n",
    "            noninvariant_test_acc[i][j] = kernel.accuracy(test_X, test_y)\n",
    "\n",
    "            print('Invariant Accuracy \\n', invariant_test_acc)\n",
    "            print('Non-Invariant Accuracy \\n', noninvariant_test_acc)\n",
    "\n"
   ]
  },
  {
   "cell_type": "code",
   "execution_count": 286,
   "metadata": {},
   "outputs": [],
   "source": [
    "import matplotlib.pyplot as plt"
   ]
  },
  {
   "cell_type": "code",
   "execution_count": 288,
   "metadata": {},
   "outputs": [],
   "source": [
    "inv_data = np.load('Data/2D-Isotropic-Classification-val-acc.npy')\n",
    "noninv_data = np.load('Data/Non-Invariant-2D-Isotropic-Classification-val-acc.npy')"
   ]
  },
  {
   "cell_type": "code",
   "execution_count": null,
   "metadata": {},
   "outputs": [],
   "source": []
  },
  {
   "cell_type": "code",
   "execution_count": 316,
   "metadata": {},
   "outputs": [
    {
     "data": {
      "text/plain": [
       "Text(0.5, 1.0, 'Test Accuracy for Invariant and Non-Invariant Kernels')"
      ]
     },
     "execution_count": 316,
     "metadata": {},
     "output_type": "execute_result"
    },
    {
     "data": {
      "image/png": "[encoded data removed]",
      "text/plain": [
       "<Figure size 640x480 with 1 Axes>"
      ]
     },
     "metadata": {},
     "output_type": "display_data"
    }
   ],
   "source": [
    "plt.plot(n_samples, invariant_test_acc[0], color='blue', label='Degree 1, Invariant')\n",
    "plt.plot(n_samples, noninvariant_test_acc[0], '-.', color='blue', label='Degree 1, Non-Invariant')\n",
    "\n",
    "plt.plot(n_samples, invariant_test_acc[1], color='red', label='Degree 2, Invariant')\n",
    "plt.plot(n_samples, noninvariant_test_acc[1], '-.', color='red', label='Degree 2, Non-Invariant')\n",
    "\n",
    "plt.plot(n_samples, invariant_test_acc[2], color='green', label='Degree 3, Invariant')\n",
    "plt.plot(n_samples, noninvariant_test_acc[2], '-.', color='green', label='Degree 3, Non-Invariant')\n",
    "\n",
    "plt.plot(n_samples, invariant_test_acc[3], color='purple', label='Degree 4, Invariant')\n",
    "plt.plot(n_samples, noninvariant_test_acc[3], '-.', color='purple', label='Degree 4, Non-Invariant')\n",
    "\n",
    "plt.plot(n_samples, invariant_test_acc[4], color='orange', label='Degree 5, Invariant')\n",
    "plt.plot(n_samples, noninvariant_test_acc[4], '-.', color='orange', label='Degree 5, Non-Invariant')\n",
    "\n",
    "plt.legend(bbox_to_anchor=(1, 1))\n",
    "plt.title('Test Accuracy for Invariant and Non-Invariant Kernels')\n"
   ]
  },
  {
   "cell_type": "markdown",
   "metadata": {},
   "source": [
    "# X-Y Skew Classification"
   ]
  },
  {
   "cell_type": "code",
   "execution_count": 317,
   "metadata": {},
   "outputs": [],
   "source": [
    "def xy_skew_data(n_samples, d_points):\n",
    "\n",
    "    X = np.zeros((n_samples, d_points, 2))\n",
    "    y = 2*np.random.binomial(1, 0.5, n_samples) - 1\n",
    "\n",
    "    for i in range(n_samples):\n",
    "        pc = np.random.randn(d_points, 2)\n",
    "\n",
    "        if y[i] == 1:\n",
    "            X[i] = pc @np.array([[1 ,0], [0, 2]])\n",
    "        \n",
    "        else:\n",
    "            X[i] = pc @ np.array([[2 ,0], [0, 1]])\n",
    "\n",
    "    return X, y"
   ]
  },
  {
   "cell_type": "code",
   "execution_count": 320,
   "metadata": {},
   "outputs": [],
   "source": [
    "X, y = xy_skew_data(1100, 50)\n",
    "\n",
    "train_X = X[:1000]\n",
    "train_y = y[:1000]\n",
    "test_X = X[1000:]\n",
    "test_y = y[1000:]"
   ]
  },
  {
   "cell_type": "code",
   "execution_count": 348,
   "metadata": {},
   "outputs": [],
   "source": [
    "np.savez('Data/xy_skew_train.npz', x=train_X, y=train_y)\n",
    "np.savez('Data/xy-skew-test.npz', x=test_X, y=test_y)"
   ]
  },
  {
   "cell_type": "code",
   "execution_count": 324,
   "metadata": {},
   "outputs": [],
   "source": [
    "avg_val_accuracies = np.zeros((5, 5))\n",
    "best_lams = np.zeros((5, 5))"
   ]
  },
  {
   "cell_type": "code",
   "execution_count": 332,
   "metadata": {},
   "outputs": [],
   "source": [
    "non_avg_val_accuracies = np.zeros((5, 5))\n",
    "non_best_lams = np.zeros((5, 5))"
   ]
  },
  {
   "cell_type": "code",
   "execution_count": 338,
   "metadata": {},
   "outputs": [
    {
     "name": "stdout",
     "output_type": "stream",
     "text": [
      "Degree 1\n",
      "200 Samples\n",
      "400 Samples\n",
      "600 Samples\n",
      "800 Samples\n",
      "1000 Samples\n",
      "Degree 2\n",
      "200 Samples\n",
      "400 Samples\n",
      "600 Samples\n",
      "800 Samples\n",
      "1000 Samples\n",
      "Degree 3\n",
      "200 Samples\n",
      "400 Samples\n",
      "600 Samples\n",
      "800 Samples\n",
      "1000 Samples\n",
      "Degree 4\n",
      "200 Samples\n",
      "400 Samples\n",
      "600 Samples\n",
      "800 Samples\n",
      "Current Time = 14:13:05\n",
      "fold 0\n"
     ]
    },
    {
     "name": "stderr",
     "output_type": "stream",
     "text": [
      "  1%|          | 6/600 [00:29<48:33,  4.90s/it]  \n"
     ]
    },
    {
     "ename": "KeyboardInterrupt",
     "evalue": "",
     "output_type": "error",
     "traceback": [
      "\u001b[0;31m---------------------------------------------------------------------------\u001b[0m",
      "\u001b[0;31mKeyboardInterrupt\u001b[0m                         Traceback (most recent call last)",
      "Cell \u001b[0;32mIn[338], line 27\u001b[0m\n\u001b[1;32m     24\u001b[0m val_data \u001b[38;5;241m=\u001b[39m X[test_index]\n\u001b[1;32m     25\u001b[0m val_values \u001b[38;5;241m=\u001b[39m y[test_index]\n\u001b[0;32m---> 27\u001b[0m kernel_matrix \u001b[38;5;241m=\u001b[39m \u001b[43mkernel\u001b[49m\u001b[38;5;241;43m.\u001b[39;49m\u001b[43mgram_matrix\u001b[49m\u001b[43m(\u001b[49m\u001b[43mtrain_data\u001b[49m\u001b[43m)\u001b[49m\n\u001b[1;32m     28\u001b[0m prediction_matrix \u001b[38;5;241m=\u001b[39m kernel\u001b[38;5;241m.\u001b[39mmatrix(val_data, train_data)\n\u001b[1;32m     30\u001b[0m \u001b[38;5;28;01mfor\u001b[39;00m l \u001b[38;5;129;01min\u001b[39;00m \u001b[38;5;28mrange\u001b[39m(\u001b[38;5;28mlen\u001b[39m(lams)):\n",
      "Cell \u001b[0;32mIn[243], line 42\u001b[0m, in \u001b[0;36mSetInvariantClassification.gram_matrix\u001b[0;34m(self, X)\u001b[0m\n\u001b[1;32m     39\u001b[0m \u001b[38;5;28;01mfor\u001b[39;00m i \u001b[38;5;129;01min\u001b[39;00m tqdm(\u001b[38;5;28mrange\u001b[39m(X\u001b[38;5;241m.\u001b[39mshape[\u001b[38;5;241m0\u001b[39m])):\n\u001b[1;32m     40\u001b[0m     \u001b[38;5;66;03m#print(f'Row {i}')\u001b[39;00m\n\u001b[1;32m     41\u001b[0m     \u001b[38;5;28;01mfor\u001b[39;00m j \u001b[38;5;129;01min\u001b[39;00m \u001b[38;5;28mrange\u001b[39m(i, X\u001b[38;5;241m.\u001b[39mshape[\u001b[38;5;241m0\u001b[39m]):\n\u001b[0;32m---> 42\u001b[0m         v \u001b[38;5;241m=\u001b[39m \u001b[38;5;28;43mself\u001b[39;49m\u001b[38;5;241;43m.\u001b[39;49m\u001b[43mevaluate\u001b[49m\u001b[43m(\u001b[49m\u001b[43mX\u001b[49m\u001b[43m[\u001b[49m\u001b[43mi\u001b[49m\u001b[43m]\u001b[49m\u001b[43m,\u001b[49m\u001b[43m \u001b[49m\u001b[43mX\u001b[49m\u001b[43m[\u001b[49m\u001b[43mj\u001b[49m\u001b[43m]\u001b[49m\u001b[43m)\u001b[49m\n\u001b[1;32m     43\u001b[0m         mat[i][j] \u001b[38;5;241m=\u001b[39m v\n\u001b[1;32m     44\u001b[0m         mat[j][i] \u001b[38;5;241m=\u001b[39m v\n",
      "Cell \u001b[0;32mIn[243], line 20\u001b[0m, in \u001b[0;36mSetInvariantClassification.evaluate\u001b[0;34m(self, x, y)\u001b[0m\n\u001b[1;32m     17\u001b[0m \u001b[38;5;28;01mfor\u001b[39;00m i \u001b[38;5;129;01min\u001b[39;00m \u001b[38;5;28mrange\u001b[39m(\u001b[38;5;28mlen\u001b[39m(\u001b[38;5;28mself\u001b[39m\u001b[38;5;241m.\u001b[39mcomps)):\n\u001b[1;32m     18\u001b[0m     comp \u001b[38;5;241m=\u001b[39m \u001b[38;5;28mself\u001b[39m\u001b[38;5;241m.\u001b[39mcomps[i]\n\u001b[0;32m---> 20\u001b[0m     inner_products \u001b[38;5;241m=\u001b[39m \u001b[43m[\u001b[49m\u001b[38;5;28;43mself\u001b[39;49m\u001b[38;5;241;43m.\u001b[39;49m\u001b[43mips\u001b[49m\u001b[43m[\u001b[49m\u001b[38;5;28;43mint\u001b[39;49m\u001b[43m(\u001b[49m\u001b[43mcomp\u001b[49m\u001b[43m[\u001b[49m\u001b[43mj\u001b[49m\u001b[43m]\u001b[49m\u001b[43m)\u001b[49m\u001b[43m]\u001b[49m\u001b[38;5;241;43m.\u001b[39;49m\u001b[43mevaluate\u001b[49m\u001b[43m(\u001b[49m\u001b[43mx\u001b[49m\u001b[43m[\u001b[49m\u001b[43m:\u001b[49m\u001b[43m,\u001b[49m\u001b[43m \u001b[49m\u001b[43mj\u001b[49m\u001b[43m]\u001b[49m\u001b[43m,\u001b[49m\u001b[43m \u001b[49m\u001b[43my\u001b[49m\u001b[43m[\u001b[49m\u001b[43m:\u001b[49m\u001b[43m,\u001b[49m\u001b[43m \u001b[49m\u001b[43mj\u001b[49m\u001b[43m]\u001b[49m\u001b[43m)\u001b[49m\u001b[43m \u001b[49m\u001b[38;5;28;43;01mfor\u001b[39;49;00m\u001b[43m \u001b[49m\u001b[43mj\u001b[49m\u001b[43m \u001b[49m\u001b[38;5;129;43;01min\u001b[39;49;00m\u001b[43m \u001b[49m\u001b[38;5;28;43mrange\u001b[39;49m\u001b[43m(\u001b[49m\u001b[38;5;28;43mself\u001b[39;49m\u001b[38;5;241;43m.\u001b[39;49m\u001b[43mk\u001b[49m\u001b[43m)\u001b[49m\u001b[43m]\u001b[49m\n\u001b[1;32m     21\u001b[0m     val \u001b[38;5;241m+\u001b[39m\u001b[38;5;241m=\u001b[39m np\u001b[38;5;241m.\u001b[39mprod(inner_products)\u001b[38;5;241m/\u001b[39mnp\u001b[38;5;241m.\u001b[39mprod([factorial(\u001b[38;5;28mint\u001b[39m(c)) \u001b[38;5;28;01mfor\u001b[39;00m c \u001b[38;5;129;01min\u001b[39;00m comp])\n\u001b[1;32m     23\u001b[0m \u001b[38;5;28;01mreturn\u001b[39;00m val\n",
      "Cell \u001b[0;32mIn[243], line 20\u001b[0m, in \u001b[0;36m<listcomp>\u001b[0;34m(.0)\u001b[0m\n\u001b[1;32m     17\u001b[0m \u001b[38;5;28;01mfor\u001b[39;00m i \u001b[38;5;129;01min\u001b[39;00m \u001b[38;5;28mrange\u001b[39m(\u001b[38;5;28mlen\u001b[39m(\u001b[38;5;28mself\u001b[39m\u001b[38;5;241m.\u001b[39mcomps)):\n\u001b[1;32m     18\u001b[0m     comp \u001b[38;5;241m=\u001b[39m \u001b[38;5;28mself\u001b[39m\u001b[38;5;241m.\u001b[39mcomps[i]\n\u001b[0;32m---> 20\u001b[0m     inner_products \u001b[38;5;241m=\u001b[39m [\u001b[38;5;28;43mself\u001b[39;49m\u001b[38;5;241;43m.\u001b[39;49m\u001b[43mips\u001b[49m\u001b[43m[\u001b[49m\u001b[38;5;28;43mint\u001b[39;49m\u001b[43m(\u001b[49m\u001b[43mcomp\u001b[49m\u001b[43m[\u001b[49m\u001b[43mj\u001b[49m\u001b[43m]\u001b[49m\u001b[43m)\u001b[49m\u001b[43m]\u001b[49m\u001b[38;5;241;43m.\u001b[39;49m\u001b[43mevaluate\u001b[49m\u001b[43m(\u001b[49m\u001b[43mx\u001b[49m\u001b[43m[\u001b[49m\u001b[43m:\u001b[49m\u001b[43m,\u001b[49m\u001b[43m \u001b[49m\u001b[43mj\u001b[49m\u001b[43m]\u001b[49m\u001b[43m,\u001b[49m\u001b[43m \u001b[49m\u001b[43my\u001b[49m\u001b[43m[\u001b[49m\u001b[43m:\u001b[49m\u001b[43m,\u001b[49m\u001b[43m \u001b[49m\u001b[43mj\u001b[49m\u001b[43m]\u001b[49m\u001b[43m)\u001b[49m \u001b[38;5;28;01mfor\u001b[39;00m j \u001b[38;5;129;01min\u001b[39;00m \u001b[38;5;28mrange\u001b[39m(\u001b[38;5;28mself\u001b[39m\u001b[38;5;241m.\u001b[39mk)]\n\u001b[1;32m     21\u001b[0m     val \u001b[38;5;241m+\u001b[39m\u001b[38;5;241m=\u001b[39m np\u001b[38;5;241m.\u001b[39mprod(inner_products)\u001b[38;5;241m/\u001b[39mnp\u001b[38;5;241m.\u001b[39mprod([factorial(\u001b[38;5;28mint\u001b[39m(c)) \u001b[38;5;28;01mfor\u001b[39;00m c \u001b[38;5;129;01min\u001b[39;00m comp])\n\u001b[1;32m     23\u001b[0m \u001b[38;5;28;01mreturn\u001b[39;00m val\n",
      "Cell \u001b[0;32mIn[41], line 60\u001b[0m, in \u001b[0;36mInvariantInnerProduct.evaluate\u001b[0;34m(self, x, y)\u001b[0m\n\u001b[1;32m     58\u001b[0m \u001b[38;5;28;01mdef\u001b[39;00m \u001b[38;5;21mevaluate\u001b[39m(\u001b[38;5;28mself\u001b[39m, x, y):\n\u001b[0;32m---> 60\u001b[0m     esp_x \u001b[38;5;241m=\u001b[39m \u001b[38;5;28;43mself\u001b[39;49m\u001b[38;5;241;43m.\u001b[39;49m\u001b[43melementary_symmetric_polynomials\u001b[49m\u001b[43m(\u001b[49m\u001b[43mx\u001b[49m\u001b[43m)\u001b[49m\n\u001b[1;32m     61\u001b[0m     esp_y \u001b[38;5;241m=\u001b[39m \u001b[38;5;28mself\u001b[39m\u001b[38;5;241m.\u001b[39melementary_symmetric_polynomials(y)\n\u001b[1;32m     63\u001b[0m     \u001b[38;5;66;03m#print('ESP Computed')\u001b[39;00m\n",
      "Cell \u001b[0;32mIn[41], line 54\u001b[0m, in \u001b[0;36mInvariantInnerProduct.elementary_symmetric_polynomials\u001b[0;34m(self, x)\u001b[0m\n\u001b[1;32m     51\u001b[0m \u001b[38;5;28;01mfor\u001b[39;00m i \u001b[38;5;129;01min\u001b[39;00m \u001b[38;5;28mrange\u001b[39m(\u001b[38;5;28mself\u001b[39m\u001b[38;5;241m.\u001b[39mdegree):\n\u001b[1;32m     52\u001b[0m     \u001b[38;5;66;03m#print(f'row {i}')\u001b[39;00m\n\u001b[1;32m     53\u001b[0m     \u001b[38;5;28;01mfor\u001b[39;00m j \u001b[38;5;129;01min\u001b[39;00m \u001b[38;5;28mrange\u001b[39m(i, \u001b[38;5;28mself\u001b[39m\u001b[38;5;241m.\u001b[39mdimension):\n\u001b[0;32m---> 54\u001b[0m         mat[i\u001b[38;5;241m+\u001b[39m\u001b[38;5;241m1\u001b[39m][j\u001b[38;5;241m+\u001b[39m\u001b[38;5;241m1\u001b[39m] \u001b[38;5;241m=\u001b[39m x[j]\u001b[38;5;241m*\u001b[39mmat[i][j] \u001b[38;5;241m+\u001b[39m mat[i\u001b[38;5;241m+\u001b[39m\u001b[38;5;241m1\u001b[39m][j]\n\u001b[1;32m     56\u001b[0m \u001b[38;5;28;01mreturn\u001b[39;00m mat[:, \u001b[38;5;28mself\u001b[39m\u001b[38;5;241m.\u001b[39mdimension]\n",
      "\u001b[0;31mKeyboardInterrupt\u001b[0m: "
     ]
    }
   ],
   "source": [
    "for i in range(len(degs)):\n",
    "\n",
    "    print(f'Degree {degs[i]}')\n",
    "    kernel = SetInvariantClassification(50, 2, degs[i])\n",
    "\n",
    "    for j in range(len(n_samples)):\n",
    "        print(f'{n_samples[j]} Samples')\n",
    "        X = train_X[:n_samples[j]]\n",
    "        y = train_y[:n_samples[j]]\n",
    "\n",
    "        val_accuracies = np.zeros((folds, len(lams)))\n",
    "\n",
    "        if best_lams[i][j] == 0:\n",
    "            fold = 0\n",
    "            for train_index, test_index in kfold.split(X):\n",
    "                now = datetime.now()\n",
    "\n",
    "                current_time = now.strftime(\"%H:%M:%S\")\n",
    "                print(\"Current Time =\", current_time)\n",
    "                print('fold', fold)\n",
    "\n",
    "                train_data = X[train_index]\n",
    "                train_values = y[train_index]\n",
    "                val_data = X[test_index]\n",
    "                val_values = y[test_index]\n",
    "\n",
    "                kernel_matrix = kernel.gram_matrix(train_data)\n",
    "                prediction_matrix = kernel.matrix(val_data, train_data)\n",
    "\n",
    "                for l in range(len(lams)):\n",
    "                    alpha = np.linalg.solve(kernel_matrix + lams[l]*np.eye(kernel_matrix.shape[0]), train_values)\n",
    "                    val_accuracies[fold][l] = 1 - np.count_nonzero(val_values - np.sign(prediction_matrix@alpha))/val_data.shape[0]\n",
    "\n",
    "                fold += 1\n",
    "\n",
    "            best_lam = lams[np.argmax(np.mean(val_accuracies, axis=0))]\n",
    "            best_lams[i][j] = best_lam\n",
    "            avg_val_accuracies[i][j] = np.max(np.mean(val_accuracies, axis=0))\n",
    "\n",
    "            print('Best Avg. Accuracy \\n', avg_val_accuracies)\n",
    "            print('Best Lambda \\n', best_lams)\n",
    "\n",
    "            np.save('Data/XY-Invariant-Classification-val-acc.npy', avg_val_accuracies)\n",
    "            np.save('Data/XY-Invariant-Classification-lambda.npy', best_lams)"
   ]
  },
  {
   "cell_type": "code",
   "execution_count": 340,
   "metadata": {},
   "outputs": [],
   "source": [
    "invariant_test_acc = np.zeros((5, 5))\n",
    "noninvariant_test_acc = np.zeros((5, 5))"
   ]
  },
  {
   "cell_type": "code",
   "execution_count": 344,
   "metadata": {},
   "outputs": [
    {
     "name": "stdout",
     "output_type": "stream",
     "text": [
      "Degree 1\n",
      "200 Samples\n",
      "400 Samples\n",
      "600 Samples\n",
      "800 Samples\n",
      "1000 Samples\n",
      "Degree 2\n",
      "200 Samples\n",
      "400 Samples\n",
      "600 Samples\n"
     ]
    },
    {
     "name": "stderr",
     "output_type": "stream",
     "text": [
      "100%|██████████| 600/600 [00:06<00:00, 98.13it/s] \n",
      "100%|██████████| 600/600 [04:50<00:00,  2.07it/s]\n",
      "100%|██████████| 100/100 [01:40<00:00,  1.00s/it]\n",
      "100%|██████████| 100/100 [00:02<00:00, 41.25it/s]\n"
     ]
    },
    {
     "name": "stdout",
     "output_type": "stream",
     "text": [
      "Invariant Accuracy \n",
      " [[0.53 0.53 0.55 0.56 0.55]\n",
      " [1.   1.   1.   0.   0.  ]\n",
      " [0.   0.   0.   0.   0.  ]\n",
      " [0.   0.   0.   0.   0.  ]\n",
      " [0.   0.   0.   0.   0.  ]]\n",
      "Non-Invariant Accuracy \n",
      " [[0.42 0.5  0.44 0.54 0.54]\n",
      " [1.   1.   1.   0.   0.  ]\n",
      " [0.   0.   0.   0.   0.  ]\n",
      " [0.   0.   0.   0.   0.  ]\n",
      " [0.   0.   0.   0.   0.  ]]\n",
      "800 Samples\n"
     ]
    },
    {
     "name": "stderr",
     "output_type": "stream",
     "text": [
      "100%|██████████| 800/800 [00:15<00:00, 52.94it/s] \n",
      "100%|██████████| 800/800 [08:11<00:00,  1.63it/s]\n",
      "100%|██████████| 100/100 [01:58<00:00,  1.19s/it]\n",
      "100%|██████████| 100/100 [00:02<00:00, 34.77it/s]\n"
     ]
    },
    {
     "name": "stdout",
     "output_type": "stream",
     "text": [
      "Invariant Accuracy \n",
      " [[0.53 0.53 0.55 0.56 0.55]\n",
      " [1.   1.   1.   1.   0.  ]\n",
      " [0.   0.   0.   0.   0.  ]\n",
      " [0.   0.   0.   0.   0.  ]\n",
      " [0.   0.   0.   0.   0.  ]]\n",
      "Non-Invariant Accuracy \n",
      " [[0.42 0.5  0.44 0.54 0.54]\n",
      " [1.   1.   1.   1.   0.  ]\n",
      " [0.   0.   0.   0.   0.  ]\n",
      " [0.   0.   0.   0.   0.  ]\n",
      " [0.   0.   0.   0.   0.  ]]\n",
      "1000 Samples\n"
     ]
    },
    {
     "name": "stderr",
     "output_type": "stream",
     "text": [
      "100%|██████████| 1000/1000 [00:20<00:00, 48.68it/s]\n",
      "100%|██████████| 1000/1000 [11:50<00:00,  1.41it/s]\n",
      "100%|██████████| 100/100 [02:18<00:00,  1.39s/it]\n",
      "100%|██████████| 100/100 [00:03<00:00, 30.42it/s]\n"
     ]
    },
    {
     "name": "stdout",
     "output_type": "stream",
     "text": [
      "Invariant Accuracy \n",
      " [[0.53 0.53 0.55 0.56 0.55]\n",
      " [1.   1.   1.   1.   1.  ]\n",
      " [0.   0.   0.   0.   0.  ]\n",
      " [0.   0.   0.   0.   0.  ]\n",
      " [0.   0.   0.   0.   0.  ]]\n",
      "Non-Invariant Accuracy \n",
      " [[0.42 0.5  0.44 0.54 0.54]\n",
      " [1.   1.   1.   1.   1.  ]\n",
      " [0.   0.   0.   0.   0.  ]\n",
      " [0.   0.   0.   0.   0.  ]\n",
      " [0.   0.   0.   0.   0.  ]]\n",
      "Degree 3\n",
      "200 Samples\n"
     ]
    },
    {
     "name": "stderr",
     "output_type": "stream",
     "text": [
      "100%|██████████| 200/200 [00:01<00:00, 198.90it/s]\n",
      "100%|██████████| 200/200 [01:04<00:00,  3.12it/s]\n",
      "100%|██████████| 100/100 [01:01<00:00,  1.64it/s]\n",
      "100%|██████████| 100/100 [00:00<00:00, 126.41it/s]\n"
     ]
    },
    {
     "name": "stdout",
     "output_type": "stream",
     "text": [
      "Invariant Accuracy \n",
      " [[0.53 0.53 0.55 0.56 0.55]\n",
      " [1.   1.   1.   1.   1.  ]\n",
      " [1.   0.   0.   0.   0.  ]\n",
      " [0.   0.   0.   0.   0.  ]\n",
      " [0.   0.   0.   0.   0.  ]]\n",
      "Non-Invariant Accuracy \n",
      " [[0.42 0.5  0.44 0.54 0.54]\n",
      " [1.   1.   1.   1.   1.  ]\n",
      " [0.46 0.   0.   0.   0.  ]\n",
      " [0.   0.   0.   0.   0.  ]\n",
      " [0.   0.   0.   0.   0.  ]]\n",
      "400 Samples\n"
     ]
    },
    {
     "name": "stderr",
     "output_type": "stream",
     "text": [
      "100%|██████████| 400/400 [00:04<00:00, 89.60it/s] \n",
      "100%|██████████| 400/400 [04:07<00:00,  1.62it/s]\n",
      "100%|██████████| 100/100 [02:02<00:00,  1.22s/it]\n",
      "100%|██████████| 100/100 [00:01<00:00, 63.10it/s]\n"
     ]
    },
    {
     "name": "stdout",
     "output_type": "stream",
     "text": [
      "Invariant Accuracy \n",
      " [[0.53 0.53 0.55 0.56 0.55]\n",
      " [1.   1.   1.   1.   1.  ]\n",
      " [1.   1.   0.   0.   0.  ]\n",
      " [0.   0.   0.   0.   0.  ]\n",
      " [0.   0.   0.   0.   0.  ]]\n",
      "Non-Invariant Accuracy \n",
      " [[0.42 0.5  0.44 0.54 0.54]\n",
      " [1.   1.   1.   1.   1.  ]\n",
      " [0.46 0.59 0.   0.   0.  ]\n",
      " [0.   0.   0.   0.   0.  ]\n",
      " [0.   0.   0.   0.   0.  ]]\n",
      "600 Samples\n"
     ]
    },
    {
     "name": "stderr",
     "output_type": "stream",
     "text": [
      "100%|██████████| 600/600 [00:08<00:00, 67.28it/s] \n",
      "100%|██████████| 600/600 [09:12<00:00,  1.09it/s]\n",
      "100%|██████████| 100/100 [03:01<00:00,  1.81s/it]\n",
      "100%|██████████| 100/100 [00:02<00:00, 42.71it/s]\n"
     ]
    },
    {
     "name": "stdout",
     "output_type": "stream",
     "text": [
      "Invariant Accuracy \n",
      " [[0.53 0.53 0.55 0.56 0.55]\n",
      " [1.   1.   1.   1.   1.  ]\n",
      " [1.   1.   1.   0.   0.  ]\n",
      " [0.   0.   0.   0.   0.  ]\n",
      " [0.   0.   0.   0.   0.  ]]\n",
      "Non-Invariant Accuracy \n",
      " [[0.42 0.5  0.44 0.54 0.54]\n",
      " [1.   1.   1.   1.   1.  ]\n",
      " [0.46 0.59 0.58 0.   0.  ]\n",
      " [0.   0.   0.   0.   0.  ]\n",
      " [0.   0.   0.   0.   0.  ]]\n",
      "800 Samples\n"
     ]
    },
    {
     "name": "stderr",
     "output_type": "stream",
     "text": [
      "100%|██████████| 800/800 [00:15<00:00, 53.29it/s] \n",
      "100%|██████████| 800/800 [16:16<00:00,  1.22s/it]\n",
      "100%|██████████| 100/100 [04:04<00:00,  2.44s/it]\n",
      "100%|██████████| 100/100 [00:03<00:00, 32.05it/s]\n"
     ]
    },
    {
     "name": "stdout",
     "output_type": "stream",
     "text": [
      "Invariant Accuracy \n",
      " [[0.53 0.53 0.55 0.56 0.55]\n",
      " [1.   1.   1.   1.   1.  ]\n",
      " [1.   1.   1.   1.   0.  ]\n",
      " [0.   0.   0.   0.   0.  ]\n",
      " [0.   0.   0.   0.   0.  ]]\n",
      "Non-Invariant Accuracy \n",
      " [[0.42 0.5  0.44 0.54 0.54]\n",
      " [1.   1.   1.   1.   1.  ]\n",
      " [0.46 0.59 0.58 0.59 0.  ]\n",
      " [0.   0.   0.   0.   0.  ]\n",
      " [0.   0.   0.   0.   0.  ]]\n",
      "1000 Samples\n"
     ]
    },
    {
     "name": "stderr",
     "output_type": "stream",
     "text": [
      "100%|██████████| 1000/1000 [00:22<00:00, 43.85it/s]\n",
      "100%|██████████| 1000/1000 [25:29<00:00,  1.53s/it]\n",
      "100%|██████████| 100/100 [05:00<00:00,  3.00s/it]\n",
      "100%|██████████| 100/100 [00:04<00:00, 24.03it/s]\n"
     ]
    },
    {
     "name": "stdout",
     "output_type": "stream",
     "text": [
      "Invariant Accuracy \n",
      " [[0.53 0.53 0.55 0.56 0.55]\n",
      " [1.   1.   1.   1.   1.  ]\n",
      " [1.   1.   1.   1.   1.  ]\n",
      " [0.   0.   0.   0.   0.  ]\n",
      " [0.   0.   0.   0.   0.  ]]\n",
      "Non-Invariant Accuracy \n",
      " [[0.42 0.5  0.44 0.54 0.54]\n",
      " [1.   1.   1.   1.   1.  ]\n",
      " [0.46 0.59 0.58 0.59 0.63]\n",
      " [0.   0.   0.   0.   0.  ]\n",
      " [0.   0.   0.   0.   0.  ]]\n",
      "Degree 4\n",
      "200 Samples\n"
     ]
    },
    {
     "name": "stderr",
     "output_type": "stream",
     "text": [
      "100%|██████████| 200/200 [00:01<00:00, 177.83it/s]\n",
      "100%|██████████| 200/200 [01:58<00:00,  1.68it/s]\n",
      "100%|██████████| 100/100 [01:57<00:00,  1.18s/it]\n",
      "100%|██████████| 100/100 [00:01<00:00, 87.08it/s]\n"
     ]
    },
    {
     "name": "stdout",
     "output_type": "stream",
     "text": [
      "Invariant Accuracy \n",
      " [[0.53 0.53 0.55 0.56 0.55]\n",
      " [1.   1.   1.   1.   1.  ]\n",
      " [1.   1.   1.   1.   1.  ]\n",
      " [1.   0.   0.   0.   0.  ]\n",
      " [0.   0.   0.   0.   0.  ]]\n",
      "Non-Invariant Accuracy \n",
      " [[0.42 0.5  0.44 0.54 0.54]\n",
      " [1.   1.   1.   1.   1.  ]\n",
      " [0.46 0.59 0.58 0.59 0.63]\n",
      " [1.   0.   0.   0.   0.  ]\n",
      " [0.   0.   0.   0.   0.  ]]\n",
      "400 Samples\n"
     ]
    },
    {
     "name": "stderr",
     "output_type": "stream",
     "text": [
      "100%|██████████| 400/400 [00:05<00:00, 78.84it/s] \n",
      "100%|██████████| 400/400 [07:45<00:00,  1.16s/it]\n",
      "100%|██████████| 100/100 [03:51<00:00,  2.32s/it]\n",
      "100%|██████████| 100/100 [00:02<00:00, 49.62it/s]\n"
     ]
    },
    {
     "name": "stdout",
     "output_type": "stream",
     "text": [
      "Invariant Accuracy \n",
      " [[0.53 0.53 0.55 0.56 0.55]\n",
      " [1.   1.   1.   1.   1.  ]\n",
      " [1.   1.   1.   1.   1.  ]\n",
      " [1.   1.   0.   0.   0.  ]\n",
      " [0.   0.   0.   0.   0.  ]]\n",
      "Non-Invariant Accuracy \n",
      " [[0.42 0.5  0.44 0.54 0.54]\n",
      " [1.   1.   1.   1.   1.  ]\n",
      " [0.46 0.59 0.58 0.59 0.63]\n",
      " [1.   1.   0.   0.   0.  ]\n",
      " [0.   0.   0.   0.   0.  ]]\n",
      "600 Samples\n"
     ]
    },
    {
     "name": "stderr",
     "output_type": "stream",
     "text": [
      "100%|██████████| 600/600 [00:11<00:00, 54.49it/s] \n",
      "100%|██████████| 600/600 [17:18<00:00,  1.73s/it]\n",
      "100%|██████████| 100/100 [05:55<00:00,  3.56s/it]\n",
      "100%|██████████| 100/100 [00:03<00:00, 30.52it/s]\n"
     ]
    },
    {
     "name": "stdout",
     "output_type": "stream",
     "text": [
      "Invariant Accuracy \n",
      " [[0.53 0.53 0.55 0.56 0.55]\n",
      " [1.   1.   1.   1.   1.  ]\n",
      " [1.   1.   1.   1.   1.  ]\n",
      " [1.   1.   1.   0.   0.  ]\n",
      " [0.   0.   0.   0.   0.  ]]\n",
      "Non-Invariant Accuracy \n",
      " [[0.42 0.5  0.44 0.54 0.54]\n",
      " [1.   1.   1.   1.   1.  ]\n",
      " [0.46 0.59 0.58 0.59 0.63]\n",
      " [1.   1.   1.   0.   0.  ]\n",
      " [0.   0.   0.   0.   0.  ]]\n",
      "800 Samples\n"
     ]
    },
    {
     "name": "stderr",
     "output_type": "stream",
     "text": [
      "100%|██████████| 800/800 [00:20<00:00, 39.01it/s] \n",
      "100%|██████████| 800/800 [30:50<00:00,  2.31s/it] \n",
      "100%|██████████| 100/100 [07:32<00:00,  4.53s/it]\n",
      "100%|██████████| 100/100 [00:04<00:00, 24.65it/s]\n"
     ]
    },
    {
     "name": "stdout",
     "output_type": "stream",
     "text": [
      "Invariant Accuracy \n",
      " [[0.53 0.53 0.55 0.56 0.55]\n",
      " [1.   1.   1.   1.   1.  ]\n",
      " [1.   1.   1.   1.   1.  ]\n",
      " [1.   1.   1.   1.   0.  ]\n",
      " [0.   0.   0.   0.   0.  ]]\n",
      "Non-Invariant Accuracy \n",
      " [[0.42 0.5  0.44 0.54 0.54]\n",
      " [1.   1.   1.   1.   1.  ]\n",
      " [0.46 0.59 0.58 0.59 0.63]\n",
      " [1.   1.   1.   1.   0.  ]\n",
      " [0.   0.   0.   0.   0.  ]]\n",
      "1000 Samples\n"
     ]
    },
    {
     "name": "stderr",
     "output_type": "stream",
     "text": [
      "100%|██████████| 1000/1000 [00:29<00:00, 34.47it/s]\n",
      "100%|██████████| 1000/1000 [47:17<00:00,  2.84s/it] \n",
      "100%|██████████| 100/100 [09:24<00:00,  5.64s/it]\n",
      "100%|██████████| 100/100 [00:04<00:00, 20.16it/s]\n"
     ]
    },
    {
     "name": "stdout",
     "output_type": "stream",
     "text": [
      "Invariant Accuracy \n",
      " [[0.53 0.53 0.55 0.56 0.55]\n",
      " [1.   1.   1.   1.   1.  ]\n",
      " [1.   1.   1.   1.   1.  ]\n",
      " [1.   1.   1.   1.   1.  ]\n",
      " [0.   0.   0.   0.   0.  ]]\n",
      "Non-Invariant Accuracy \n",
      " [[0.42 0.5  0.44 0.54 0.54]\n",
      " [1.   1.   1.   1.   1.  ]\n",
      " [0.46 0.59 0.58 0.59 0.63]\n",
      " [1.   1.   1.   1.   1.  ]\n",
      " [0.   0.   0.   0.   0.  ]]\n",
      "Degree 5\n",
      "200 Samples\n"
     ]
    },
    {
     "name": "stderr",
     "output_type": "stream",
     "text": [
      "100%|██████████| 200/200 [00:01<00:00, 107.27it/s]\n",
      "100%|██████████| 200/200 [03:20<00:00,  1.00s/it]\n",
      "100%|██████████| 100/100 [03:13<00:00,  1.94s/it]\n",
      "100%|██████████| 100/100 [00:01<00:00, 79.72it/s]\n"
     ]
    },
    {
     "name": "stdout",
     "output_type": "stream",
     "text": [
      "Invariant Accuracy \n",
      " [[0.53 0.53 0.55 0.56 0.55]\n",
      " [1.   1.   1.   1.   1.  ]\n",
      " [1.   1.   1.   1.   1.  ]\n",
      " [1.   1.   1.   1.   1.  ]\n",
      " [0.96 0.   0.   0.   0.  ]]\n",
      "Non-Invariant Accuracy \n",
      " [[0.42 0.5  0.44 0.54 0.54]\n",
      " [1.   1.   1.   1.   1.  ]\n",
      " [0.46 0.59 0.58 0.59 0.63]\n",
      " [1.   1.   1.   1.   1.  ]\n",
      " [0.46 0.   0.   0.   0.  ]]\n",
      "400 Samples\n"
     ]
    },
    {
     "name": "stderr",
     "output_type": "stream",
     "text": [
      "100%|██████████| 400/400 [00:06<00:00, 58.46it/s] \n",
      "100%|██████████| 400/400 [12:59<00:00,  1.95s/it]\n",
      "100%|██████████| 100/100 [06:23<00:00,  3.84s/it]\n",
      "100%|██████████| 100/100 [00:02<00:00, 39.84it/s]\n"
     ]
    },
    {
     "name": "stdout",
     "output_type": "stream",
     "text": [
      "Invariant Accuracy \n",
      " [[0.53 0.53 0.55 0.56 0.55]\n",
      " [1.   1.   1.   1.   1.  ]\n",
      " [1.   1.   1.   1.   1.  ]\n",
      " [1.   1.   1.   1.   1.  ]\n",
      " [0.96 0.8  0.   0.   0.  ]]\n",
      "Non-Invariant Accuracy \n",
      " [[0.42 0.5  0.44 0.54 0.54]\n",
      " [1.   1.   1.   1.   1.  ]\n",
      " [0.46 0.59 0.58 0.59 0.63]\n",
      " [1.   1.   1.   1.   1.  ]\n",
      " [0.46 0.54 0.   0.   0.  ]]\n",
      "600 Samples\n"
     ]
    },
    {
     "name": "stderr",
     "output_type": "stream",
     "text": [
      "100%|██████████| 600/600 [00:12<00:00, 46.45it/s] \n",
      "100%|██████████| 600/600 [28:30<00:00,  2.85s/it]\n",
      "100%|██████████| 100/100 [09:27<00:00,  5.68s/it]\n",
      "100%|██████████| 100/100 [00:03<00:00, 26.71it/s]\n"
     ]
    },
    {
     "name": "stdout",
     "output_type": "stream",
     "text": [
      "Invariant Accuracy \n",
      " [[0.53 0.53 0.55 0.56 0.55]\n",
      " [1.   1.   1.   1.   1.  ]\n",
      " [1.   1.   1.   1.   1.  ]\n",
      " [1.   1.   1.   1.   1.  ]\n",
      " [0.96 0.8  0.54 0.   0.  ]]\n",
      "Non-Invariant Accuracy \n",
      " [[0.42 0.5  0.44 0.54 0.54]\n",
      " [1.   1.   1.   1.   1.  ]\n",
      " [0.46 0.59 0.58 0.59 0.63]\n",
      " [1.   1.   1.   1.   1.  ]\n",
      " [0.46 0.54 0.54 0.   0.  ]]\n",
      "800 Samples\n"
     ]
    },
    {
     "name": "stderr",
     "output_type": "stream",
     "text": [
      " 23%|██▎       | 181/800 [00:13<00:47, 13.03it/s]\n"
     ]
    },
    {
     "ename": "KeyboardInterrupt",
     "evalue": "",
     "output_type": "error",
     "traceback": [
      "\u001b[0;31m---------------------------------------------------------------------------\u001b[0m",
      "\u001b[0;31mKeyboardInterrupt\u001b[0m                         Traceback (most recent call last)",
      "Cell \u001b[0;32mIn[344], line 14\u001b[0m\n\u001b[1;32m     10\u001b[0m y \u001b[38;5;241m=\u001b[39m train_y[:n_samples[j]]\n\u001b[1;32m     12\u001b[0m \u001b[38;5;28;01mif\u001b[39;00m invariant_test_acc[i][j] \u001b[38;5;241m==\u001b[39m \u001b[38;5;241m0\u001b[39m:\n\u001b[0;32m---> 14\u001b[0m     \u001b[43mkernel\u001b[49m\u001b[38;5;241;43m.\u001b[39;49m\u001b[43mtrain\u001b[49m\u001b[43m(\u001b[49m\u001b[43mX\u001b[49m\u001b[43m,\u001b[49m\u001b[43m \u001b[49m\u001b[43my\u001b[49m\u001b[43m,\u001b[49m\u001b[43m \u001b[49m\u001b[38;5;241;43m1e-5\u001b[39;49m\u001b[43m)\u001b[49m\n\u001b[1;32m     15\u001b[0m     invkernel\u001b[38;5;241m.\u001b[39mtrain(X, y, \u001b[38;5;241m1e-5\u001b[39m)\n\u001b[1;32m     17\u001b[0m     invariant_test_acc[i][j] \u001b[38;5;241m=\u001b[39m invkernel\u001b[38;5;241m.\u001b[39maccuracy(test_X, test_y)\n",
      "Cell \u001b[0;32mIn[279], line 47\u001b[0m, in \u001b[0;36mSetClassification.train\u001b[0;34m(self, X, y, lam)\u001b[0m\n\u001b[1;32m     44\u001b[0m \u001b[38;5;28;01mdef\u001b[39;00m \u001b[38;5;21mtrain\u001b[39m(\u001b[38;5;28mself\u001b[39m, X, y, lam):\n\u001b[1;32m     46\u001b[0m     N \u001b[38;5;241m=\u001b[39m X\u001b[38;5;241m.\u001b[39mshape[\u001b[38;5;241m0\u001b[39m]\n\u001b[0;32m---> 47\u001b[0m     M \u001b[38;5;241m=\u001b[39m \u001b[38;5;28;43mself\u001b[39;49m\u001b[38;5;241;43m.\u001b[39;49m\u001b[43mgram_matrix\u001b[49m\u001b[43m(\u001b[49m\u001b[43mX\u001b[49m\u001b[43m)\u001b[49m\n\u001b[1;32m     49\u001b[0m     alpha \u001b[38;5;241m=\u001b[39m np\u001b[38;5;241m.\u001b[39mlinalg\u001b[38;5;241m.\u001b[39msolve(M \u001b[38;5;241m+\u001b[39m lam \u001b[38;5;241m*\u001b[39m np\u001b[38;5;241m.\u001b[39meye(N), y)\n\u001b[1;32m     51\u001b[0m     \u001b[38;5;28mself\u001b[39m\u001b[38;5;241m.\u001b[39malpha \u001b[38;5;241m=\u001b[39m alpha\n",
      "Cell \u001b[0;32mIn[279], line 32\u001b[0m, in \u001b[0;36mSetClassification.gram_matrix\u001b[0;34m(self, X)\u001b[0m\n\u001b[1;32m     29\u001b[0m \u001b[38;5;28;01mfor\u001b[39;00m i \u001b[38;5;129;01min\u001b[39;00m tqdm(\u001b[38;5;28mrange\u001b[39m(X\u001b[38;5;241m.\u001b[39mshape[\u001b[38;5;241m0\u001b[39m])):\n\u001b[1;32m     30\u001b[0m     \u001b[38;5;66;03m#print(f'Row {i}')\u001b[39;00m\n\u001b[1;32m     31\u001b[0m     \u001b[38;5;28;01mfor\u001b[39;00m j \u001b[38;5;129;01min\u001b[39;00m \u001b[38;5;28mrange\u001b[39m(i, X\u001b[38;5;241m.\u001b[39mshape[\u001b[38;5;241m0\u001b[39m]):\n\u001b[0;32m---> 32\u001b[0m         v \u001b[38;5;241m=\u001b[39m \u001b[38;5;28;43mself\u001b[39;49m\u001b[38;5;241;43m.\u001b[39;49m\u001b[43mevaluate\u001b[49m\u001b[43m(\u001b[49m\u001b[43mX\u001b[49m\u001b[43m[\u001b[49m\u001b[43mi\u001b[49m\u001b[43m]\u001b[49m\u001b[43m,\u001b[49m\u001b[43m \u001b[49m\u001b[43mX\u001b[49m\u001b[43m[\u001b[49m\u001b[43mj\u001b[49m\u001b[43m]\u001b[49m\u001b[43m)\u001b[49m\n\u001b[1;32m     33\u001b[0m         mat[i][j] \u001b[38;5;241m=\u001b[39m v\n\u001b[1;32m     34\u001b[0m         mat[j][i] \u001b[38;5;241m=\u001b[39m v\n",
      "Cell \u001b[0;32mIn[279], line 13\u001b[0m, in \u001b[0;36mSetClassification.evaluate\u001b[0;34m(self, x, y)\u001b[0m\n\u001b[1;32m     10\u001b[0m x \u001b[38;5;241m=\u001b[39m x\u001b[38;5;241m.\u001b[39mflatten()\n\u001b[1;32m     11\u001b[0m y \u001b[38;5;241m=\u001b[39m y\u001b[38;5;241m.\u001b[39mflatten()\n\u001b[0;32m---> 13\u001b[0m \u001b[38;5;28;01mreturn\u001b[39;00m np\u001b[38;5;241m.\u001b[39msum(\u001b[43m[\u001b[49m\u001b[43m(\u001b[49m\u001b[43mx\u001b[49m\u001b[38;5;129;43m@y\u001b[39;49m\u001b[43m)\u001b[49m\u001b[38;5;241;43m*\u001b[39;49m\u001b[38;5;241;43m*\u001b[39;49m\u001b[43m(\u001b[49m\u001b[43mi\u001b[49m\u001b[38;5;241;43m+\u001b[39;49m\u001b[38;5;241;43m1\u001b[39;49m\u001b[43m)\u001b[49m\u001b[38;5;241;43m/\u001b[39;49m\u001b[43mfactorial\u001b[49m\u001b[43m(\u001b[49m\u001b[43mi\u001b[49m\u001b[38;5;241;43m+\u001b[39;49m\u001b[38;5;241;43m1\u001b[39;49m\u001b[43m)\u001b[49m\u001b[43m \u001b[49m\u001b[38;5;28;43;01mfor\u001b[39;49;00m\u001b[43m \u001b[49m\u001b[43mi\u001b[49m\u001b[43m \u001b[49m\u001b[38;5;129;43;01min\u001b[39;49;00m\u001b[43m \u001b[49m\u001b[38;5;28;43mrange\u001b[39;49m\u001b[43m(\u001b[49m\u001b[38;5;28;43mself\u001b[39;49m\u001b[38;5;241;43m.\u001b[39;49m\u001b[43mdegree\u001b[49m\u001b[43m)\u001b[49m\u001b[43m]\u001b[49m)\n",
      "Cell \u001b[0;32mIn[279], line 13\u001b[0m, in \u001b[0;36m<listcomp>\u001b[0;34m(.0)\u001b[0m\n\u001b[1;32m     10\u001b[0m x \u001b[38;5;241m=\u001b[39m x\u001b[38;5;241m.\u001b[39mflatten()\n\u001b[1;32m     11\u001b[0m y \u001b[38;5;241m=\u001b[39m y\u001b[38;5;241m.\u001b[39mflatten()\n\u001b[0;32m---> 13\u001b[0m \u001b[38;5;28;01mreturn\u001b[39;00m np\u001b[38;5;241m.\u001b[39msum([(x\u001b[38;5;129m@y\u001b[39m)\u001b[38;5;241m*\u001b[39m\u001b[38;5;241m*\u001b[39m(i\u001b[38;5;241m+\u001b[39m\u001b[38;5;241m1\u001b[39m)\u001b[38;5;241m/\u001b[39m\u001b[43mfactorial\u001b[49m\u001b[43m(\u001b[49m\u001b[43mi\u001b[49m\u001b[38;5;241;43m+\u001b[39;49m\u001b[38;5;241;43m1\u001b[39;49m\u001b[43m)\u001b[49m \u001b[38;5;28;01mfor\u001b[39;00m i \u001b[38;5;129;01min\u001b[39;00m \u001b[38;5;28mrange\u001b[39m(\u001b[38;5;28mself\u001b[39m\u001b[38;5;241m.\u001b[39mdegree)])\n",
      "\u001b[0;31mKeyboardInterrupt\u001b[0m: "
     ]
    }
   ],
   "source": [
    "for i in range(len(degs)):\n",
    "\n",
    "    print(f'Degree {degs[i]}')\n",
    "    kernel = SetClassification(50, 2, degs[i])\n",
    "    invkernel = SetInvariantClassification(50, 2, degs[i])\n",
    "\n",
    "    for j in range(len(n_samples)):\n",
    "        print(f'{n_samples[j]} Samples')\n",
    "        X = train_X[:n_samples[j]]\n",
    "        y = train_y[:n_samples[j]]\n",
    "\n",
    "        if invariant_test_acc[i][j] == 0:\n",
    "\n",
    "            kernel.train(X, y, 1e-5)\n",
    "            invkernel.train(X, y, 1e-5)\n",
    "\n",
    "            invariant_test_acc[i][j] = invkernel.accuracy(test_X, test_y)\n",
    "            noninvariant_test_acc[i][j] = kernel.accuracy(test_X, test_y)\n",
    "\n",
    "            print('Invariant Accuracy \\n', invariant_test_acc)\n",
    "            print('Non-Invariant Accuracy \\n', noninvariant_test_acc)\n",
    "\n",
    "            np.save('Data/XY-Invariant-Classification-test-acc.npy', invariant_test_acc)\n",
    "            np.save('Data/XY-Non-Invariant-Classification-test-acc.npy', noninvariant_test_acc)\n"
   ]
  },
  {
   "cell_type": "code",
   "execution_count": 347,
   "metadata": {},
   "outputs": [
    {
     "data": {
      "text/plain": [
       "Text(0.5, 1.0, 'Test Accuracy for Invariant and Non-Invariant Kernels')"
      ]
     },
     "execution_count": 347,
     "metadata": {},
     "output_type": "execute_result"
    },
    {
     "data": {
      "image/png": "[encoded data removed]",
      "text/plain": [
       "<Figure size 640x480 with 1 Axes>"
      ]
     },
     "metadata": {},
     "output_type": "display_data"
    }
   ],
   "source": [
    "plt.plot(n_samples, invariant_test_acc[0], color='blue', label='Degree 1, Invariant')\n",
    "plt.plot(n_samples, noninvariant_test_acc[0], '-.', color='blue', label='Degree 1, Non-Invariant')\n",
    "\n",
    "plt.plot(n_samples, invariant_test_acc[1], color='red', label='Degree 2, Invariant')\n",
    "plt.plot(n_samples, noninvariant_test_acc[1], '-.', color='red', label='Degree 2, Non-Invariant')\n",
    "\n",
    "plt.plot(n_samples, invariant_test_acc[2], color='green', label='Degree 3, Invariant')\n",
    "plt.plot(n_samples, noninvariant_test_acc[2], '-.', color='green', label='Degree 3, Non-Invariant')\n",
    "\n",
    "plt.plot(n_samples, invariant_test_acc[3], color='purple', label='Degree 4, Invariant')\n",
    "plt.plot(n_samples, noninvariant_test_acc[3], '-.', color='purple', label='Degree 4, Non-Invariant')\n",
    "\n",
    "plt.plot(n_samples, invariant_test_acc[4], color='orange', label='Degree 5, Invariant')\n",
    "plt.plot(n_samples, noninvariant_test_acc[4], '-.', color='orange', label='Degree 5, Non-Invariant')\n",
    "\n",
    "plt.legend(bbox_to_anchor=(1, 1))\n",
    "plt.title('Test Accuracy for Invariant and Non-Invariant Kernels')"
   ]
  },
  {
   "cell_type": "code",
   "execution_count": null,
   "metadata": {},
   "outputs": [],
   "source": []
  }
 ],
 "metadata": {
  "kernelspec": {
   "display_name": "sagemath",
   "language": "python",
   "name": "python3"
  },
  "language_info": {
   "codemirror_mode": {
    "name": "ipython",
    "version": 3
   },
   "file_extension": ".py",
   "mimetype": "text/x-python",
   "name": "python",
   "nbconvert_exporter": "python",
   "pygments_lexer": "ipython3",
   "version": "3.11.9"
  }
 },
 "nbformat": 4,
 "nbformat_minor": 2
}
