{
 "cells": [
  {
   "cell_type": "code",
   "execution_count": 1,
   "metadata": {},
   "outputs": [],
   "source": [
    "from sage.all import *\n",
    "import numpy as np"
   ]
  },
  {
   "cell_type": "code",
   "execution_count": 2,
   "metadata": {},
   "outputs": [],
   "source": [
    "def min_cut_data(n_samples : int,\n",
    "               d_nodes : int):\n",
    "    \n",
    "    eigs = np.zeros((n_samples, d_nodes))\n",
    "    min_cuts = np.zeros(n_samples)\n",
    "\n",
    "    for i in range(n_samples):\n",
    "        #print(i)\n",
    "        edges = np.random.randint(d_nodes-1, binomial(d_nodes, 2)+1)\n",
    "\n",
    "        G = graphs.RandomGNM(d_nodes, edges)\n",
    "\n",
    "        M = np.array(list(G.adjacency_matrix()))\n",
    "        G.add_vertices([d_nodes, d_nodes+1])\n",
    "        G.add_edges([[0, d_nodes, np.inf], [d_nodes-1, d_nodes+1, np.inf]])\n",
    "\n",
    "        min_cuts[i] = G.edge_cut(d_nodes, d_nodes+1, use_edge_labels=True)\n",
    "        #print('found cut')\n",
    "        eigs[i] = np.linalg.eig(M)[0]\n",
    "        #print('found eigenvalues')\n",
    "\n",
    "        if i%10 == 0:\n",
    "            print(i)\n",
    "\n",
    "    return eigs, min_cuts"
   ]
  },
  {
   "cell_type": "code",
   "execution_count": 3,
   "metadata": {},
   "outputs": [],
   "source": [
    "def clustering_coeff_data(n_samples : int,\n",
    "               d_nodes : int):\n",
    "    \n",
    "    eigs = np.zeros((n_samples, d_nodes))\n",
    "    coeffs = np.zeros(n_samples)\n",
    "\n",
    "    for i in range(n_samples):\n",
    "        #print(i)\n",
    "        edges = np.random.randint(d_nodes-1, binomial(d_nodes, 2)+1)\n",
    "\n",
    "        G = graphs.RandomGNM(d_nodes, edges)\n",
    "        M = G.adjacency_matrix()\n",
    "        coeffs[i] = G.clustering_average()\n",
    "        #print('found cut')\n",
    "        eigs[i] = np.linalg.eig(M)[0]\n",
    "        #print('found eigenvalues')\n",
    "\n",
    "        if i%10 == 0:\n",
    "            print(i)\n",
    "\n",
    "    return eigs, coeffs"
   ]
  },
  {
   "cell_type": "code",
   "execution_count": 4,
   "metadata": {},
   "outputs": [
    {
     "name": "stdout",
     "output_type": "stream",
     "text": [
      "0\n",
      "10\n",
      "20\n",
      "30\n",
      "40\n",
      "50\n",
      "60\n"
     ]
    },
    {
     "name": "stderr",
     "output_type": "stream",
     "text": [
      "/var/folders/jz/8fhddjfs511ft88s4zg_y4qr0000gn/T/ipykernel_54438/2061694783.py:15: ComplexWarning: Casting complex values to real discards the imaginary part\n",
      "  eigs[i] = np.linalg.eig(M)[0]\n"
     ]
    },
    {
     "name": "stdout",
     "output_type": "stream",
     "text": [
      "70\n",
      "80\n",
      "90\n",
      "100\n",
      "110\n",
      "120\n",
      "130\n",
      "140\n",
      "150\n",
      "160\n",
      "170\n",
      "180\n",
      "190\n",
      "200\n",
      "210\n",
      "220\n",
      "230\n",
      "240\n",
      "250\n",
      "260\n",
      "270\n",
      "280\n",
      "290\n",
      "300\n",
      "310\n",
      "320\n",
      "330\n",
      "340\n",
      "350\n",
      "360\n",
      "370\n",
      "380\n",
      "390\n",
      "400\n",
      "410\n",
      "420\n",
      "430\n",
      "440\n",
      "450\n",
      "460\n",
      "470\n",
      "480\n",
      "490\n",
      "500\n",
      "510\n",
      "520\n",
      "530\n",
      "540\n",
      "550\n",
      "560\n",
      "570\n",
      "580\n",
      "590\n",
      "600\n",
      "610\n",
      "620\n",
      "630\n",
      "640\n",
      "650\n",
      "660\n",
      "670\n",
      "680\n",
      "690\n",
      "700\n",
      "710\n",
      "720\n",
      "730\n",
      "740\n",
      "750\n",
      "760\n",
      "770\n",
      "780\n",
      "790\n",
      "800\n",
      "810\n",
      "820\n",
      "830\n",
      "840\n",
      "850\n",
      "860\n",
      "870\n",
      "880\n",
      "890\n",
      "900\n",
      "910\n",
      "920\n",
      "930\n",
      "940\n",
      "950\n",
      "960\n",
      "970\n",
      "980\n",
      "990\n"
     ]
    }
   ],
   "source": [
    "X, y = clustering_coeff_data(1000, 100)"
   ]
  },
  {
   "cell_type": "code",
   "execution_count": 5,
   "metadata": {},
   "outputs": [],
   "source": [
    "np.savez('Data/cc_n1000_d100.npz', x=X, y=y)"
   ]
  },
  {
   "cell_type": "code",
   "execution_count": 8,
   "metadata": {},
   "outputs": [
    {
     "name": "stdout",
     "output_type": "stream",
     "text": [
      "0\n",
      "10\n",
      "20\n",
      "30\n",
      "40\n"
     ]
    },
    {
     "name": "stderr",
     "output_type": "stream",
     "text": [
      "/var/folders/jz/8fhddjfs511ft88s4zg_y4qr0000gn/T/ipykernel_54438/2061694783.py:15: ComplexWarning: Casting complex values to real discards the imaginary part\n",
      "  eigs[i] = np.linalg.eig(M)[0]\n"
     ]
    },
    {
     "name": "stdout",
     "output_type": "stream",
     "text": [
      "50\n",
      "60\n",
      "70\n",
      "80\n",
      "90\n"
     ]
    }
   ],
   "source": [
    "X, y = clustering_coeff_data(100, 100)\n",
    "np.savez('Data/cc_test_d100.npz', x=X, y=y)"
   ]
  },
  {
   "cell_type": "code",
   "execution_count": 7,
   "metadata": {},
   "outputs": [
    {
     "name": "stdout",
     "output_type": "stream",
     "text": [
      "0\n",
      "10\n",
      "20\n",
      "30\n",
      "40\n",
      "50\n",
      "60\n"
     ]
    },
    {
     "name": "stderr",
     "output_type": "stream",
     "text": [
      "/var/folders/jz/8fhddjfs511ft88s4zg_y4qr0000gn/T/ipykernel_54438/2061694783.py:15: ComplexWarning: Casting complex values to real discards the imaginary part\n",
      "  eigs[i] = np.linalg.eig(M)[0]\n"
     ]
    },
    {
     "name": "stdout",
     "output_type": "stream",
     "text": [
      "70\n",
      "80\n",
      "90\n",
      "0\n"
     ]
    },
    {
     "ename": "KeyboardInterrupt",
     "evalue": "",
     "output_type": "error",
     "traceback": [
      "\u001b[0;31m---------------------------------------------------------------------------\u001b[0m",
      "\u001b[0;31mKeyboardInterrupt\u001b[0m                         Traceback (most recent call last)",
      "Cell \u001b[0;32mIn[7], line 4\u001b[0m\n\u001b[1;32m      1\u001b[0m X, y \u001b[38;5;241m=\u001b[39m clustering_coeff_data(\u001b[38;5;241m100\u001b[39m, \u001b[38;5;241m500\u001b[39m)\n\u001b[1;32m      2\u001b[0m np\u001b[38;5;241m.\u001b[39msavez(\u001b[38;5;124m'\u001b[39m\u001b[38;5;124mData/cc_test_d500.npz\u001b[39m\u001b[38;5;124m'\u001b[39m, x\u001b[38;5;241m=\u001b[39mX, y\u001b[38;5;241m=\u001b[39my)\n\u001b[0;32m----> 4\u001b[0m X, y \u001b[38;5;241m=\u001b[39m \u001b[43mclustering_coeff_data\u001b[49m\u001b[43m(\u001b[49m\u001b[38;5;241;43m1000\u001b[39;49m\u001b[43m,\u001b[49m\u001b[43m \u001b[49m\u001b[38;5;241;43m1000\u001b[39;49m\u001b[43m)\u001b[49m\n\u001b[1;32m      5\u001b[0m np\u001b[38;5;241m.\u001b[39msavez(\u001b[38;5;124m'\u001b[39m\u001b[38;5;124mData/cc_n1000_d1000.npz\u001b[39m\u001b[38;5;124m'\u001b[39m, x\u001b[38;5;241m=\u001b[39mX, y\u001b[38;5;241m=\u001b[39my)\n\u001b[1;32m      7\u001b[0m X, y \u001b[38;5;241m=\u001b[39m clustering_coeff_data(\u001b[38;5;241m100\u001b[39m, \u001b[38;5;241m1000\u001b[39m)\n",
      "Cell \u001b[0;32mIn[3], line 15\u001b[0m, in \u001b[0;36mclustering_coeff_data\u001b[0;34m(n_samples, d_nodes)\u001b[0m\n\u001b[1;32m     13\u001b[0m coeffs[i] \u001b[38;5;241m=\u001b[39m G\u001b[38;5;241m.\u001b[39mclustering_average()\n\u001b[1;32m     14\u001b[0m \u001b[38;5;66;03m#print('found cut')\u001b[39;00m\n\u001b[0;32m---> 15\u001b[0m eigs[i] \u001b[38;5;241m=\u001b[39m \u001b[43mnp\u001b[49m\u001b[38;5;241;43m.\u001b[39;49m\u001b[43mlinalg\u001b[49m\u001b[38;5;241;43m.\u001b[39;49m\u001b[43meig\u001b[49m\u001b[43m(\u001b[49m\u001b[43mM\u001b[49m\u001b[43m)\u001b[49m[\u001b[38;5;241m0\u001b[39m]\n\u001b[1;32m     16\u001b[0m \u001b[38;5;66;03m#print('found eigenvalues')\u001b[39;00m\n\u001b[1;32m     18\u001b[0m \u001b[38;5;28;01mif\u001b[39;00m i\u001b[38;5;241m%\u001b[39m\u001b[38;5;241m10\u001b[39m \u001b[38;5;241m==\u001b[39m \u001b[38;5;241m0\u001b[39m:\n",
      "File \u001b[0;32m~/anaconda3/envs/sagemath/lib/python3.11/site-packages/numpy/linalg/linalg.py:1326\u001b[0m, in \u001b[0;36meig\u001b[0;34m(a)\u001b[0m\n\u001b[1;32m   1193\u001b[0m \u001b[38;5;129m@array_function_dispatch\u001b[39m(_unary_dispatcher)\n\u001b[1;32m   1194\u001b[0m \u001b[38;5;28;01mdef\u001b[39;00m \u001b[38;5;21meig\u001b[39m(a):\n\u001b[1;32m   1195\u001b[0m \u001b[38;5;250m    \u001b[39m\u001b[38;5;124;03m\"\"\"\u001b[39;00m\n\u001b[1;32m   1196\u001b[0m \u001b[38;5;124;03m    Compute the eigenvalues and right eigenvectors of a square array.\u001b[39;00m\n\u001b[1;32m   1197\u001b[0m \n\u001b[0;32m   (...)\u001b[0m\n\u001b[1;32m   1324\u001b[0m \n\u001b[1;32m   1325\u001b[0m \u001b[38;5;124;03m    \"\"\"\u001b[39;00m\n\u001b[0;32m-> 1326\u001b[0m     a, wrap \u001b[38;5;241m=\u001b[39m \u001b[43m_makearray\u001b[49m\u001b[43m(\u001b[49m\u001b[43ma\u001b[49m\u001b[43m)\u001b[49m\n\u001b[1;32m   1327\u001b[0m     _assert_stacked_2d(a)\n\u001b[1;32m   1328\u001b[0m     _assert_stacked_square(a)\n",
      "File \u001b[0;32m~/anaconda3/envs/sagemath/lib/python3.11/site-packages/numpy/linalg/linalg.py:136\u001b[0m, in \u001b[0;36m_makearray\u001b[0;34m(a)\u001b[0m\n\u001b[1;32m    135\u001b[0m \u001b[38;5;28;01mdef\u001b[39;00m \u001b[38;5;21m_makearray\u001b[39m(a):\n\u001b[0;32m--> 136\u001b[0m     new \u001b[38;5;241m=\u001b[39m asarray(a)\n\u001b[1;32m    137\u001b[0m     wrap \u001b[38;5;241m=\u001b[39m \u001b[38;5;28mgetattr\u001b[39m(a, \u001b[38;5;124m\"\u001b[39m\u001b[38;5;124m__array_prepare__\u001b[39m\u001b[38;5;124m\"\u001b[39m, new\u001b[38;5;241m.\u001b[39m__array_wrap__)\n\u001b[1;32m    138\u001b[0m     \u001b[38;5;28;01mreturn\u001b[39;00m new, wrap\n",
      "File \u001b[0;32m~/anaconda3/envs/sagemath/lib/python3.11/site-packages/sage/matrix/matrix1.pyx:733\u001b[0m, in \u001b[0;36msage.matrix.matrix1.Matrix.numpy (build/cythonized/sage/matrix/matrix1.c:14041)\u001b[0;34m()\u001b[0m\n\u001b[1;32m    731\u001b[0m \"\"\"\n\u001b[1;32m    732\u001b[0m import numpy\n\u001b[0;32m--> 733\u001b[0m A = numpy.matrix(self.list(), dtype=dtype)\n\u001b[1;32m    734\u001b[0m return numpy.resize(A,(self.nrows(), self.ncols()))\n\u001b[1;32m    735\u001b[0m \n",
      "File \u001b[0;32m~/anaconda3/envs/sagemath/lib/python3.11/site-packages/numpy/matrixlib/defmatrix.py:146\u001b[0m, in \u001b[0;36mmatrix.__new__\u001b[0;34m(subtype, data, dtype, copy)\u001b[0m\n\u001b[1;32m    143\u001b[0m     data \u001b[38;5;241m=\u001b[39m _convert_from_string(data)\n\u001b[1;32m    145\u001b[0m \u001b[38;5;66;03m# now convert data to an array\u001b[39;00m\n\u001b[0;32m--> 146\u001b[0m arr \u001b[38;5;241m=\u001b[39m N\u001b[38;5;241m.\u001b[39marray(data, dtype\u001b[38;5;241m=\u001b[39mdtype, copy\u001b[38;5;241m=\u001b[39mcopy)\n\u001b[1;32m    147\u001b[0m ndim \u001b[38;5;241m=\u001b[39m arr\u001b[38;5;241m.\u001b[39mndim\n\u001b[1;32m    148\u001b[0m shape \u001b[38;5;241m=\u001b[39m arr\u001b[38;5;241m.\u001b[39mshape\n",
      "\u001b[0;31mKeyboardInterrupt\u001b[0m: "
     ]
    }
   ],
   "source": [
    "X, y = clustering_coeff_data(100, 500)\n",
    "np.savez('Data/cc_test_d500.npz', x=X, y=y)\n",
    "\n",
    "X, y = clustering_coeff_data(1000, 1000)\n",
    "np.savez('Data/cc_n1000_d1000.npz', x=X, y=y)\n",
    "\n",
    "X, y = clustering_coeff_data(100, 1000)\n",
    "np.savez('Data/cc_test_d100.npz', x=X, y=y)"
   ]
  },
  {
   "cell_type": "code",
   "execution_count": null,
   "metadata": {},
   "outputs": [],
   "source": []
  }
 ],
 "metadata": {
  "kernelspec": {
   "display_name": "sagemath",
   "language": "python",
   "name": "python3"
  },
  "language_info": {
   "codemirror_mode": {
    "name": "ipython",
    "version": 3
   },
   "file_extension": ".py",
   "mimetype": "text/x-python",
   "name": "python",
   "nbconvert_exporter": "python",
   "pygments_lexer": "ipython3",
   "version": "3.11.9"
  }
 },
 "nbformat": 4,
 "nbformat_minor": 2
}
